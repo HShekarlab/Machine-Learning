{
 "cells": [
  {
   "cell_type": "code",
   "execution_count": 1,
   "metadata": {
    "id": "YAvhEPGx31Ak"
   },
   "outputs": [],
   "source": [
    "import numpy as np\n",
    "from scipy.io import loadmat\n",
    "import matplotlib.pyplot as plt"
   ]
  },
  {
   "cell_type": "code",
   "execution_count": 2,
   "metadata": {
    "id": "74Jx5VbWYw6a"
   },
   "outputs": [],
   "source": [
    "data = loadmat(\"project4data1.mat\")"
   ]
  },
  {
   "cell_type": "code",
   "execution_count": 3,
   "metadata": {
    "id": "6R6Ye28TuqJ5"
   },
   "outputs": [],
   "source": [
    "X = data[\"X\"]\n",
    "y = data[\"y\"]\n",
    "m = y.shape[0]"
   ]
  },
  {
   "cell_type": "code",
   "execution_count": 4,
   "metadata": {
    "colab": {
     "base_uri": "https://localhost:8080/"
    },
    "id": "xzMetBYH4OnR",
    "outputId": "3dc77b84-cd94-4343-8471-1a54f5a9e3bb"
   },
   "outputs": [
    {
     "data": {
      "text/plain": [
       "array([[0., 0., 0., ..., 0., 0., 0.],\n",
       "       [0., 0., 0., ..., 0., 0., 0.],\n",
       "       [0., 0., 0., ..., 0., 0., 0.],\n",
       "       ...,\n",
       "       [0., 0., 0., ..., 0., 0., 0.],\n",
       "       [0., 0., 0., ..., 0., 0., 0.],\n",
       "       [0., 0., 0., ..., 0., 0., 0.]])"
      ]
     },
     "execution_count": 4,
     "metadata": {},
     "output_type": "execute_result"
    }
   ],
   "source": [
    "X"
   ]
  },
  {
   "cell_type": "code",
   "execution_count": 5,
   "metadata": {
    "colab": {
     "base_uri": "https://localhost:8080/"
    },
    "id": "LCFIMwr44OF5",
    "outputId": "f6e09092-5fab-4f8a-d017-c4bef394b7cc"
   },
   "outputs": [
    {
     "data": {
      "text/plain": [
       "array([[0],\n",
       "       [0],\n",
       "       [0],\n",
       "       ...,\n",
       "       [9],\n",
       "       [9],\n",
       "       [9]], dtype=uint8)"
      ]
     },
     "execution_count": 5,
     "metadata": {},
     "output_type": "execute_result"
    }
   ],
   "source": [
    "y"
   ]
  },
  {
   "cell_type": "code",
   "execution_count": 6,
   "metadata": {
    "colab": {
     "base_uri": "https://localhost:8080/"
    },
    "id": "CbwtoOiT4N3s",
    "outputId": "a6adb634-2c08-4e6d-b450-cefae91696c0"
   },
   "outputs": [
    {
     "data": {
      "text/plain": [
       "5000"
      ]
     },
     "execution_count": 6,
     "metadata": {},
     "output_type": "execute_result"
    }
   ],
   "source": [
    "m"
   ]
  },
  {
   "cell_type": "code",
   "execution_count": 7,
   "metadata": {
    "colab": {
     "base_uri": "https://localhost:8080/"
    },
    "id": "QYan-BsUXtF7",
    "outputId": "6b851585-fde0-48c5-f869-7335ed014c10"
   },
   "outputs": [
    {
     "name": "stdout",
     "output_type": "stream",
     "text": [
      "(5000, 400) (5000, 1)\n"
     ]
    }
   ],
   "source": [
    "print(X.shape, y.shape)"
   ]
  },
  {
   "cell_type": "code",
   "execution_count": 8,
   "metadata": {
    "colab": {
     "base_uri": "https://localhost:8080/",
     "height": 263
    },
    "id": "83NBRgD6kdih",
    "outputId": "db312c83-be71-4820-edfc-d48121e7adbf"
   },
   "outputs": [
    {
     "data": {
      "text/plain": [
       "Text(0.5, 1.0, '[5]')"
      ]
     },
     "execution_count": 8,
     "metadata": {},
     "output_type": "execute_result"
    },
    {
     "data": {
      "image/png": "[encoded data removed]",
      "text/plain": [
       "<Figure size 2000x200 with 1 Axes>"
      ]
     },
     "metadata": {},
     "output_type": "display_data"
    }
   ],
   "source": [
    "idx = 2600\n",
    "\n",
    "plt.figure(figsize= (20, 2))\n",
    "\n",
    "plt.imshow(np.reshape(X[idx], (20, 20)).T, cmap= \"gray\")\n",
    "plt.title(str(y[idx]), fontsize = 20)"
   ]
  },
  {
   "cell_type": "code",
   "execution_count": 9,
   "metadata": {
    "colab": {
     "base_uri": "https://localhost:8080/"
    },
    "id": "qn_HRnyRm4Yv",
    "outputId": "f0d4fc53-99dc-4f93-9c25-24dec3d734a8"
   },
   "outputs": [
    {
     "name": "stdout",
     "output_type": "stream",
     "text": [
      "shape of X: (5000, 400)\n",
      "shape of X[idx]: (400,)\n",
      "shape of y: (5000, 1)\n"
     ]
    }
   ],
   "source": [
    "print(\"shape of X:\", X.shape)\n",
    "print(\"shape of X[idx]:\", X[idx].shape)\n",
    "print(\"shape of y:\", y.shape)\n"
   ]
  },
  {
   "cell_type": "code",
   "execution_count": 10,
   "metadata": {
    "colab": {
     "base_uri": "https://localhost:8080/"
    },
    "id": "8oQBM6czX3U2",
    "outputId": "289c3adb-d2f1-4af6-971c-5ec73c11f47c"
   },
   "outputs": [
    {
     "data": {
      "text/plain": [
       "(400, 5000)"
      ]
     },
     "execution_count": 10,
     "metadata": {},
     "output_type": "execute_result"
    }
   ],
   "source": [
    "X = np.transpose(X)\n",
    "X.shape"
   ]
  },
  {
   "cell_type": "code",
   "execution_count": 11,
   "metadata": {
    "colab": {
     "base_uri": "https://localhost:8080/"
    },
    "id": "7PYU6ii1ngSV",
    "outputId": "4bf2f8c0-512a-4ce2-8e99-578793aff7b1"
   },
   "outputs": [
    {
     "data": {
      "text/plain": [
       "(1, 5000)"
      ]
     },
     "execution_count": 11,
     "metadata": {},
     "output_type": "execute_result"
    }
   ],
   "source": [
    "y = np.transpose(y)\n",
    "y.shape"
   ]
  },
  {
   "cell_type": "code",
   "execution_count": 12,
   "metadata": {
    "colab": {
     "base_uri": "https://localhost:8080/"
    },
    "id": "aBnkQbn4l_lM",
    "outputId": "cc344849-f81d-4ada-b4de-e8435d3dadbe"
   },
   "outputs": [
    {
     "data": {
      "text/plain": [
       "(401, 5000)"
      ]
     },
     "execution_count": 12,
     "metadata": {},
     "output_type": "execute_result"
    }
   ],
   "source": [
    "X = np.concatenate([np.ones((1, m)), X], axis= 0)\n",
    "X.shape"
   ]
  },
  {
   "cell_type": "code",
   "execution_count": 13,
   "metadata": {
    "colab": {
     "base_uri": "https://localhost:8080/"
    },
    "id": "-mwJTTOu_PHM",
    "outputId": "f9a35565-f475-4409-8c08-5dfc0bd3d991"
   },
   "outputs": [
    {
     "data": {
      "text/plain": [
       "3"
      ]
     },
     "execution_count": 13,
     "metadata": {},
     "output_type": "execute_result"
    }
   ],
   "source": [
    "y[0,1600]"
   ]
  },
  {
   "cell_type": "code",
   "execution_count": 14,
   "metadata": {
    "colab": {
     "base_uri": "https://localhost:8080/"
    },
    "id": "r0PwHO1DEjyd",
    "outputId": "f5d83378-27c5-45ec-fe39-eafae20b2769"
   },
   "outputs": [
    {
     "name": "stdout",
     "output_type": "stream",
     "text": [
      "[[0 0 0 ... 9 9 9]]\n",
      "(10, 5000, 1)\n"
     ]
    }
   ],
   "source": [
    "y_onehot = np.eye(10)[y].T\n",
    "print(y)\n",
    "print(y_onehot.shape)"
   ]
  },
  {
   "cell_type": "code",
   "execution_count": 15,
   "metadata": {
    "colab": {
     "base_uri": "https://localhost:8080/"
    },
    "id": "F_cKIjkw2BHm",
    "outputId": "b6e2ec90-b3d6-4bba-a60a-d4c0ab005e09"
   },
   "outputs": [
    {
     "name": "stdout",
     "output_type": "stream",
     "text": [
      "(10, 5000)\n"
     ]
    }
   ],
   "source": [
    "y_onehot = y_onehot[:,:,0]\n",
    "print(y_onehot.shape)\n"
   ]
  },
  {
   "cell_type": "code",
   "execution_count": 16,
   "metadata": {
    "colab": {
     "base_uri": "https://localhost:8080/"
    },
    "id": "a7xjT7fvBc4f",
    "outputId": "bbe35ff1-80f3-495a-afe5-b3c367bdac5c"
   },
   "outputs": [
    {
     "data": {
      "text/plain": [
       "array([[9, 9, 9, 9, 9]], dtype=uint8)"
      ]
     },
     "execution_count": 16,
     "metadata": {},
     "output_type": "execute_result"
    }
   ],
   "source": [
    "y[:,4995:5000]"
   ]
  },
  {
   "cell_type": "code",
   "execution_count": 17,
   "metadata": {
    "colab": {
     "base_uri": "https://localhost:8080/"
    },
    "id": "SOo6iKaVGdr1",
    "outputId": "892c29ae-10da-482b-c641-21133c99b819"
   },
   "outputs": [
    {
     "data": {
      "text/plain": [
       "array([[0., 0., 0., 0., 0.],\n",
       "       [0., 0., 0., 0., 0.],\n",
       "       [0., 0., 0., 0., 0.],\n",
       "       [0., 0., 0., 0., 0.],\n",
       "       [0., 0., 0., 0., 0.],\n",
       "       [0., 0., 0., 0., 0.],\n",
       "       [0., 0., 0., 0., 0.],\n",
       "       [0., 0., 0., 0., 0.],\n",
       "       [0., 0., 0., 0., 0.],\n",
       "       [1., 1., 1., 1., 1.]])"
      ]
     },
     "execution_count": 17,
     "metadata": {},
     "output_type": "execute_result"
    }
   ],
   "source": [
    "y_onehot[:, 4995:5000]"
   ]
  },
  {
   "cell_type": "code",
   "execution_count": 18,
   "metadata": {
    "id": "WOdDS7Y2CDRA"
   },
   "outputs": [],
   "source": [
    "def sigmoid(x):\n",
    "  g = 1 / (1 + np.exp(-x))\n",
    "  return g"
   ]
  },
  {
   "cell_type": "code",
   "execution_count": 19,
   "metadata": {
    "id": "pzGkIj5f79HC"
   },
   "outputs": [],
   "source": [
    "def nnCostGrad(X, y_onehot, theta_1, theta_2, lambda_):\n",
    "  m = X.shape[1]\n",
    "  sum_Cost_m = 0\n",
    "  theta_1_temp = theta_1.copy()\n",
    "  theta_2_temp = theta_2.copy()\n",
    "  theta_1_grad = np.zeros(theta_1.shape)\n",
    "  theta_2_grad = np.zeros(theta_2.shape)\n",
    "  for i in range(m):\n",
    "    a_1 = X[:, i]\n",
    "    z_2 = np.matmul(theta_1_temp, a_1)\n",
    "    a_2 = sigmoid(z_2)\n",
    "    a_2 = np.concatenate([np.ones((1)), a_2], axis= 0)\n",
    "    z_3 = np.matmul(theta_2_temp, a_2)\n",
    "    a_3 = sigmoid(z_3)\n",
    "    sum_Cost_m = sum_Cost_m + y_onehot[:, i] * np.log(a_3) + (1 - y_onehot[:, i]) * np.log(1 - a_3)\n",
    "    delta_3 = a_3 - y_onehot[:, i]\n",
    "    delta_2 = np.matmul(theta_2_temp.T, delta_3) * (a_2 * (1 - a_2))\n",
    "    delta_2 = delta_2[1:]\n",
    "    delta_2 = delta_2.reshape((delta_2.shape[0], 1))\n",
    "    a_1 = a_1.reshape((a_1.shape[0], 1))\n",
    "    theta_1_grad = theta_1_grad + np.matmul(delta_2, a_1.T)\n",
    "    delta_3 = delta_3.reshape((delta_3.shape[0], 1))\n",
    "    a_2 = a_2.reshape((a_2.shape[0], 1))\n",
    "    theta_2_grad = theta_2_grad + np.matmul(delta_3, a_2.T)\n",
    "\n",
    "  sum_Cost_m_k = np.sum(sum_Cost_m, axis= 0)\n",
    "  cost = (-1 / m) * sum_Cost_m_k + (lambda_ / (2 * m)) * (np.sum(theta_1_temp[:, 1:] ** 2) + np.sum(theta_2_temp[:, 1:] ** 2))\n",
    "  theta_1_grad[:, 1:] = theta_1_grad[:, 1:] + lambda_ * theta_1_temp[:, 1:]\n",
    "  theta_2_grad[:,1:] = theta_2_grad[:, 1:] + lambda_ * theta_2_temp[:, 1:]\n",
    "\n",
    "  theta_1_grad = theta_1_grad / m\n",
    "  theta_2_grad = theta_2_grad / m\n",
    "\n",
    "  return cost, theta_1_grad, theta_2_grad"
   ]
  },
  {
   "cell_type": "code",
   "execution_count": 20,
   "metadata": {
    "id": "c8n8OQhgXLhs"
   },
   "outputs": [],
   "source": [
    "def train(X, y_onehot, nnCostGrad, theta_1, theta_2, epochs, lr, lambda_):\n",
    "  J_history=[]\n",
    "  for epoch in range(epochs):\n",
    "    cost, theta_1_grad, theta_2_grad = nnCostGrad(X, y_onehot, theta_1, theta_2, lambda_)\n",
    "    theta_1 = theta_1 - lr * theta_1_grad\n",
    "    theta_2 = theta_2 - lr * theta_2_grad\n",
    "    J_history.append(cost)\n",
    "    print(\"cost at epoch {} : {}\".format(epoch, cost))\n",
    "  return theta_1, theta_2, J_history"
   ]
  },
  {
   "cell_type": "code",
   "execution_count": 21,
   "metadata": {
    "id": "J-dbQQFmpnDE"
   },
   "outputs": [],
   "source": [
    "in_layer_size = 400\n",
    "hid_layer_size = 25\n",
    "out_layer_size = 10\n",
    "eps = 0.1\n",
    "theta_1 = np.random.rand(hid_layer_size, in_layer_size + 1) * (2 * eps) - eps\n",
    "theta_2 = np.random.rand(out_layer_size, hid_layer_size + 1) * (2 * eps) - eps"
   ]
  },
  {
   "cell_type": "code",
   "execution_count": 22,
   "metadata": {
    "colab": {
     "base_uri": "https://localhost:8080/"
    },
    "id": "9HBDi3DZYd4T",
    "outputId": "4684e9df-d044-4c49-cc07-b7669f1fe7f1"
   },
   "outputs": [
    {
     "name": "stdout",
     "output_type": "stream",
     "text": [
      "cost at epoch 0 : 6.7065487316275245\n",
      "cost at epoch 1 : 3.419342990845342\n",
      "cost at epoch 2 : 3.249752037833755\n",
      "cost at epoch 3 : 3.2425128437269617\n",
      "cost at epoch 4 : 3.2365644004791\n",
      "cost at epoch 5 : 3.230681636937536\n",
      "cost at epoch 6 : 3.2244943313726857\n",
      "cost at epoch 7 : 3.2178413195877957\n",
      "cost at epoch 8 : 3.2106129131851597\n",
      "cost at epoch 9 : 3.202709909927796\n",
      "cost at epoch 10 : 3.1940334054690545\n",
      "cost at epoch 11 : 3.1844826326526534\n",
      "cost at epoch 12 : 3.1739550294332965\n",
      "cost at epoch 13 : 3.1623471400954095\n",
      "cost at epoch 14 : 3.1495560565461593\n",
      "cost at epoch 15 : 3.135481368324745\n",
      "cost at epoch 16 : 3.1200276327428114\n",
      "cost at epoch 17 : 3.1031073522297214\n",
      "cost at epoch 18 : 3.0846443928657017\n",
      "cost at epoch 19 : 3.064577709055358\n",
      "cost at epoch 20 : 3.042865162847031\n",
      "cost at epoch 21 : 3.0194871531928142\n",
      "cost at epoch 22 : 2.9944497163906263\n",
      "cost at epoch 23 : 2.9677867444322703\n",
      "cost at epoch 24 : 2.9395610108692645\n",
      "cost at epoch 25 : 2.909863798801474\n",
      "cost at epoch 26 : 2.878813077253262\n",
      "cost at epoch 27 : 2.8465503379371877\n",
      "cost at epoch 28 : 2.813236346684195\n",
      "cost at epoch 29 : 2.779046154409954\n",
      "cost at epoch 30 : 2.7441637411172093\n",
      "cost at epoch 31 : 2.7087766409108402\n",
      "cost at epoch 32 : 2.673070835813661\n",
      "cost at epoch 33 : 2.637226133639128\n",
      "cost at epoch 34 : 2.6014121778027772\n",
      "cost at epoch 35 : 2.5657851832294876\n",
      "cost at epoch 36 : 2.5304854520123636\n",
      "cost at epoch 37 : 2.4956356893956446\n",
      "cost at epoch 38 : 2.4613401086626383\n",
      "cost at epoch 39 : 2.4276842795198443\n",
      "cost at epoch 40 : 2.3947356399417226\n",
      "cost at epoch 41 : 2.3625445607317026\n",
      "cost at epoch 42 : 2.331145830497616\n",
      "cost at epoch 43 : 2.300560419923642\n",
      "cost at epoch 44 : 2.2707973888919324\n",
      "cost at epoch 45 : 2.241855816154329\n",
      "cost at epoch 46 : 2.2137266550723482\n",
      "cost at epoch 47 : 2.186394446069983\n",
      "cost at epoch 48 : 2.15983884299705\n",
      "cost at epoch 49 : 2.134035933779599\n",
      "cost at epoch 50 : 2.1089593539874665\n",
      "cost at epoch 51 : 2.0845812048330266\n",
      "cost at epoch 52 : 2.0608727949962304\n",
      "cost at epoch 53 : 2.0378052293964988\n",
      "cost at epoch 54 : 2.0153498686507034\n",
      "cost at epoch 55 : 1.993478681507434\n",
      "cost at epoch 56 : 1.972164509935509\n",
      "cost at epoch 57 : 1.9513812634737742\n",
      "cost at epoch 58 : 1.9311040564126067\n",
      "cost at epoch 59 : 1.9113092986724998\n",
      "cost at epoch 60 : 1.8919747490112697\n",
      "cost at epoch 61 : 1.873079537452486\n",
      "cost at epoch 62 : 1.8546041625334688\n",
      "cost at epoch 63 : 1.8365304680349737\n",
      "cost at epoch 64 : 1.8188416031791843\n",
      "cost at epoch 65 : 1.8015219697800158\n",
      "cost at epoch 66 : 1.7845571594301575\n",
      "cost at epoch 67 : 1.767933883463968\n",
      "cost at epoch 68 : 1.7516398981158448\n",
      "cost at epoch 69 : 1.7356639269854226\n",
      "cost at epoch 70 : 1.7199955826212776\n",
      "cost at epoch 71 : 1.704625288745122\n",
      "cost at epoch 72 : 1.68954420436432\n",
      "cost at epoch 73 : 1.6747441507655039\n",
      "cost at epoch 74 : 1.6602175421508998\n",
      "cost at epoch 75 : 1.6459573204727636\n",
      "cost at epoch 76 : 1.6319568948415066\n",
      "cost at epoch 77 : 1.6182100857287176\n",
      "cost at epoch 78 : 1.6047110740563033\n",
      "cost at epoch 79 : 1.5914543551554443\n",
      "cost at epoch 80 : 1.5784346974919252\n",
      "cost at epoch 81 : 1.5656471059856685\n",
      "cost at epoch 82 : 1.5530867896994716\n",
      "cost at epoch 83 : 1.5407491336334704\n",
      "cost at epoch 84 : 1.528629674335239\n",
      "cost at epoch 85 : 1.5167240790195557\n",
      "cost at epoch 86 : 1.5050281278844493\n",
      "cost at epoch 87 : 1.4935376993102716\n",
      "cost at epoch 88 : 1.4822487576343895\n",
      "cost at epoch 89 : 1.4711573432049911\n",
      "cost at epoch 90 : 1.4602595644317542\n",
      "cost at epoch 91 : 1.4495515915683228\n",
      "cost at epoch 92 : 1.4390296519805594\n",
      "cost at epoch 93 : 1.4286900266746432\n",
      "cost at epoch 94 : 1.4185290478797783\n",
      "cost at epoch 95 : 1.4085430975009625\n",
      "cost at epoch 96 : 1.3987286062775097\n",
      "cost at epoch 97 : 1.3890820535024644\n",
      "cost at epoch 98 : 1.3795999671766117\n",
      "cost at epoch 99 : 1.3702789244878812\n",
      "cost at epoch 100 : 1.3611155525230343\n",
      "cost at epoch 101 : 1.3521065291328849\n",
      "cost at epoch 102 : 1.3432485838855353\n",
      "cost at epoch 103 : 1.334538499053709\n",
      "cost at epoch 104 : 1.3259731105926176\n",
      "cost at epoch 105 : 1.3175493090738992\n",
      "cost at epoch 106 : 1.3092640405488443\n",
      "cost at epoch 107 : 1.3011143073210074\n",
      "cost at epoch 108 : 1.293097168613831\n",
      "cost at epoch 109 : 1.2852097411238108\n",
      "cost at epoch 110 : 1.2774491994535644\n",
      "cost at epoch 111 : 1.2698127764224563\n",
      "cost at epoch 112 : 1.262297763255069\n",
      "cost at epoch 113 : 1.2549015096497134\n",
      "cost at epoch 114 : 1.247621423730956\n",
      "cost at epoch 115 : 1.2404549718911508\n",
      "cost at epoch 116 : 1.2333996785269676\n",
      "cost at epoch 117 : 1.2264531256773565\n",
      "cost at epoch 118 : 1.2196129525699049\n",
      "cost at epoch 119 : 1.2128768550825448\n",
      "cost at epoch 120 : 1.2062425851277774\n",
      "cost at epoch 121 : 1.1997079499663872\n",
      "cost at epoch 122 : 1.193270811457481\n",
      "cost at epoch 123 : 1.1869290852514938\n",
      "cost at epoch 124 : 1.1806807399325348\n",
      "cost at epoch 125 : 1.1745237961160562\n",
      "cost at epoch 126 : 1.168456325507659\n",
      "cost at epoch 127 : 1.1624764499283984\n",
      "cost at epoch 128 : 1.1565823403116602\n",
      "cost at epoch 129 : 1.15077221567642\n",
      "cost at epoch 130 : 1.1450443420812553\n",
      "cost at epoch 131 : 1.139397031563315\n",
      "cost at epoch 132 : 1.1338286410660352\n",
      "cost at epoch 133 : 1.12833757135921\n",
      "cost at epoch 134 : 1.1229222659546996\n",
      "cost at epoch 135 : 1.1175812100207951\n",
      "cost at epoch 136 : 1.1123129292981169\n",
      "cost at epoch 137 : 1.1071159890195437\n",
      "cost at epoch 138 : 1.1019889928366169\n",
      "cost at epoch 139 : 1.0969305817545092\n",
      "cost at epoch 140 : 1.0919394330775742\n",
      "cost at epoch 141 : 1.087014259367259\n",
      "cost at epoch 142 : 1.082153807413938\n",
      "cost at epoch 143 : 1.0773568572241636\n",
      "cost at epoch 144 : 1.0726222210245997\n",
      "cost at epoch 145 : 1.0679487422837473\n",
      "cost at epoch 146 : 1.0633352947524712\n",
      "cost at epoch 147 : 1.0587807815241805\n",
      "cost at epoch 148 : 1.0542841341153943\n",
      "cost at epoch 149 : 1.049844311567256\n",
      "cost at epoch 150 : 1.0454602995685476\n",
      "cost at epoch 151 : 1.0411311096005555\n",
      "cost at epoch 152 : 1.0368557781040622\n",
      "cost at epoch 153 : 1.0326333656686975\n",
      "cost at epoch 154 : 1.0284629562447236\n",
      "cost at epoch 155 : 1.0243436563773232\n",
      "cost at epoch 156 : 1.0202745944633125\n",
      "cost at epoch 157 : 1.0162549200302207\n",
      "cost at epoch 158 : 1.0122838030375556\n",
      "cost at epoch 159 : 1.008360433200044\n",
      "cost at epoch 160 : 1.0044840193326148\n",
      "cost at epoch 161 : 1.000653788716802\n",
      "cost at epoch 162 : 0.9968689864882678\n",
      "cost at epoch 163 : 0.9931288750450575\n",
      "cost at epoch 164 : 0.9894327334762337\n",
      "cost at epoch 165 : 0.9857798570104596\n",
      "cost at epoch 166 : 0.9821695564841113\n",
      "cost at epoch 167 : 0.9786011578284971\n",
      "cost at epoch 168 : 0.9750740015757099\n",
      "cost at epoch 169 : 0.9715874423826697\n",
      "cost at epoch 170 : 0.9681408485728858\n",
      "cost at epoch 171 : 0.9647336016954633\n",
      "cost at epoch 172 : 0.9613650961008829\n",
      "cost at epoch 173 : 0.958034738533088\n",
      "cost at epoch 174 : 0.9547419477373819\n",
      "cost at epoch 175 : 0.9514861540836802\n",
      "cost at epoch 176 : 0.9482667992046429\n",
      "cost at epoch 177 : 0.9450833356482093\n",
      "cost at epoch 178 : 0.9419352265440722\n",
      "cost at epoch 179 : 0.9388219452836454\n",
      "cost at epoch 180 : 0.9357429752130502\n",
      "cost at epoch 181 : 0.9326978093386739\n",
      "cost at epoch 182 : 0.929685950044874\n",
      "cost at epoch 183 : 0.926706908823368\n",
      "cost at epoch 184 : 0.9237602060138915\n",
      "cost at epoch 185 : 0.9208453705557004\n",
      "cost at epoch 186 : 0.9179619397495027\n",
      "cost at epoch 187 : 0.9151094590294053\n",
      "cost at epoch 188 : 0.9122874817444856\n",
      "cost at epoch 189 : 0.909495568949587\n",
      "cost at epoch 190 : 0.9067332892049758\n",
      "cost at epoch 191 : 0.9040002183844599\n",
      "cost at epoch 192 : 0.9012959394916187\n",
      "cost at epoch 193 : 0.8986200424837993\n",
      "cost at epoch 194 : 0.8959721241035115\n",
      "cost at epoch 195 : 0.8933517877169096\n",
      "cost at epoch 196 : 0.8907586431590038\n",
      "cost at epoch 197 : 0.8881923065853266\n",
      "cost at epoch 198 : 0.8856524003297034\n",
      "cost at epoch 199 : 0.8831385527678718\n",
      "cost at epoch 200 : 0.8806503981866297\n",
      "cost at epoch 201 : 0.8781875766582542\n",
      "cost at epoch 202 : 0.8757497339199147\n",
      "cost at epoch 203 : 0.8733365212578507\n",
      "cost at epoch 204 : 0.8709475953960037\n",
      "cost at epoch 205 : 0.8685826183889618\n",
      "cost at epoch 206 : 0.8662412575188847\n",
      "cost at epoch 207 : 0.8639231851962839\n",
      "cost at epoch 208 : 0.8616280788643856\n",
      "cost at epoch 209 : 0.8593556209069089\n",
      "cost at epoch 210 : 0.8571054985590667\n",
      "cost at epoch 211 : 0.8548774038215936\n",
      "cost at epoch 212 : 0.8526710333776472\n",
      "cost at epoch 213 : 0.8504860885124104\n",
      "cost at epoch 214 : 0.8483222750352436\n",
      "cost at epoch 215 : 0.8461793032042245\n",
      "cost at epoch 216 : 0.8440568876529689\n",
      "cost at epoch 217 : 0.8419547473195658\n",
      "cost at epoch 218 : 0.8398726053775257\n",
      "cost at epoch 219 : 0.8378101891686104\n",
      "cost at epoch 220 : 0.8357672301374582\n",
      "cost at epoch 221 : 0.8337434637678633\n",
      "cost at epoch 222 : 0.8317386295206495\n",
      "cost at epoch 223 : 0.829752470773022\n",
      "cost at epoch 224 : 0.8277847347593246\n",
      "cost at epoch 225 : 0.8258351725131167\n",
      "cost at epoch 226 : 0.8239035388105046\n",
      "cost at epoch 227 : 0.821989592114641\n",
      "cost at epoch 228 : 0.8200930945213393\n",
      "cost at epoch 229 : 0.8182138117057494\n",
      "cost at epoch 230 : 0.8163515128700238\n",
      "cost at epoch 231 : 0.8145059706919293\n",
      "cost at epoch 232 : 0.8126769612743546\n",
      "cost at epoch 233 : 0.810864264095681\n",
      "cost at epoch 234 : 0.8090676619609489\n",
      "cost at epoch 235 : 0.807286940953817\n",
      "cost at epoch 236 : 0.8055218903892445\n",
      "cost at epoch 237 : 0.8037723027668902\n",
      "cost at epoch 238 : 0.8020379737251891\n",
      "cost at epoch 239 : 0.8003187019960826\n",
      "cost at epoch 240 : 0.7986142893603686\n",
      "cost at epoch 241 : 0.7969245406036595\n",
      "cost at epoch 242 : 0.7952492634729293\n",
      "cost at epoch 243 : 0.793588268633616\n",
      "cost at epoch 244 : 0.7919413696272873\n",
      "cost at epoch 245 : 0.7903083828298225\n",
      "cost at epoch 246 : 0.788689127410123\n",
      "cost at epoch 247 : 0.7870834252893302\n",
      "cost at epoch 248 : 0.7854911011005342\n",
      "cost at epoch 249 : 0.7839119821489701\n",
      "cost at epoch 250 : 0.7823458983726859\n",
      "cost at epoch 251 : 0.7807926823036859\n",
      "cost at epoch 252 : 0.7792521690295222\n",
      "cost at epoch 253 : 0.777724196155344\n",
      "cost at epoch 254 : 0.7762086037663996\n",
      "cost at epoch 255 : 0.7747052343909696\n",
      "cost at epoch 256 : 0.7732139329637396\n",
      "cost at epoch 257 : 0.7717345467896102\n",
      "cost at epoch 258 : 0.7702669255079194\n",
      "cost at epoch 259 : 0.7688109210571107\n",
      "cost at epoch 260 : 0.767366387639799\n",
      "cost at epoch 261 : 0.765933181688272\n",
      "cost at epoch 262 : 0.7645111618303948\n",
      "cost at epoch 263 : 0.763100188855933\n",
      "cost at epoch 264 : 0.7617001256832766\n",
      "cost at epoch 265 : 0.7603108373265829\n",
      "cost at epoch 266 : 0.7589321908633206\n",
      "cost at epoch 267 : 0.7575640554022093\n",
      "cost at epoch 268 : 0.7562063020515654\n",
      "cost at epoch 269 : 0.754858803888054\n",
      "cost at epoch 270 : 0.7535214359258263\n",
      "cost at epoch 271 : 0.7521940750860591\n",
      "cost at epoch 272 : 0.7508766001668832\n",
      "cost at epoch 273 : 0.7495688918137162\n",
      "cost at epoch 274 : 0.7482708324899568\n",
      "cost at epoch 275 : 0.746982306448107\n",
      "cost at epoch 276 : 0.7457031997012405\n",
      "cost at epoch 277 : 0.7444333999948817\n",
      "cost at epoch 278 : 0.7431727967792516\n",
      "cost at epoch 279 : 0.7419212811819053\n",
      "cost at epoch 280 : 0.7406787459807319\n",
      "cost at epoch 281 : 0.7394450855773447\n",
      "cost at epoch 282 : 0.738220195970834\n",
      "cost at epoch 283 : 0.7370039747318914\n",
      "cost at epoch 284 : 0.7357963209773094\n",
      "cost at epoch 285 : 0.7345971353448358\n",
      "cost at epoch 286 : 0.7334063199683997\n",
      "cost at epoch 287 : 0.732223778453692\n",
      "cost at epoch 288 : 0.7310494158541032\n",
      "cost at epoch 289 : 0.7298831386470255\n",
      "cost at epoch 290 : 0.7287248547104902\n",
      "cost at epoch 291 : 0.7275744733001703\n",
      "cost at epoch 292 : 0.7264319050267174\n",
      "cost at epoch 293 : 0.7252970618334444\n",
      "cost at epoch 294 : 0.7241698569743541\n",
      "cost at epoch 295 : 0.723050204992497\n",
      "cost at epoch 296 : 0.72193802169866\n",
      "cost at epoch 297 : 0.7208332241504023\n",
      "cost at epoch 298 : 0.7197357306313905\n",
      "cost at epoch 299 : 0.7186454606310875\n",
      "cost at epoch 300 : 0.7175623348247377\n",
      "cost at epoch 301 : 0.7164862750536811\n",
      "cost at epoch 302 : 0.7154172043059746\n",
      "cost at epoch 303 : 0.7143550466973333\n",
      "cost at epoch 304 : 0.7132997274523647\n",
      "cost at epoch 305 : 0.7122511728861138\n",
      "cost at epoch 306 : 0.7112093103859045\n",
      "cost at epoch 307 : 0.7101740683934838\n",
      "cost at epoch 308 : 0.7091453763874448\n",
      "cost at epoch 309 : 0.7081231648659497\n",
      "cost at epoch 310 : 0.7071073653297335\n",
      "cost at epoch 311 : 0.7060979102653889\n",
      "cost at epoch 312 : 0.7050947331289287\n",
      "cost at epoch 313 : 0.704097768329625\n",
      "cost at epoch 314 : 0.7031069512141139\n",
      "cost at epoch 315 : 0.7021222180507742\n",
      "cost at epoch 316 : 0.7011435060143594\n",
      "cost at epoch 317 : 0.7001707531709002\n",
      "cost at epoch 318 : 0.6992038984628539\n",
      "cost at epoch 319 : 0.6982428816945143\n",
      "cost at epoch 320 : 0.6972876435176657\n",
      "cost at epoch 321 : 0.6963381254174774\n",
      "cost at epoch 322 : 0.6953942696986518\n",
      "cost at epoch 323 : 0.6944560194718046\n",
      "cost at epoch 324 : 0.6935233186400752\n",
      "cost at epoch 325 : 0.6925961118859743\n",
      "cost at epoch 326 : 0.6916743446584617\n",
      "cost at epoch 327 : 0.6907579631602381\n",
      "cost at epoch 328 : 0.6898469143352656\n",
      "cost at epoch 329 : 0.6889411458565112\n",
      "cost at epoch 330 : 0.688040606113885\n",
      "cost at epoch 331 : 0.6871452442024134\n",
      "cost at epoch 332 : 0.6862550099105984\n",
      "cost at epoch 333 : 0.6853698537089985\n",
      "cost at epoch 334 : 0.6844897267389941\n",
      "cost at epoch 335 : 0.6836145808017674\n",
      "cost at epoch 336 : 0.6827443683474632\n",
      "cost at epoch 337 : 0.6818790424645429\n",
      "cost at epoch 338 : 0.6810185568693393\n",
      "cost at epoch 339 : 0.6801628658957801\n",
      "cost at epoch 340 : 0.6793119244853006\n",
      "cost at epoch 341 : 0.6784656881769335\n",
      "cost at epoch 342 : 0.677624113097584\n",
      "cost at epoch 343 : 0.6767871559524606\n",
      "cost at epoch 344 : 0.67595477401569\n",
      "cost at epoch 345 : 0.6751269251210944\n",
      "cost at epoch 346 : 0.6743035676531302\n",
      "cost at epoch 347 : 0.673484660537997\n",
      "cost at epoch 348 : 0.6726701632348919\n",
      "cost at epoch 349 : 0.671860035727432\n",
      "cost at epoch 350 : 0.6710542385152257\n",
      "cost at epoch 351 : 0.6702527326055898\n",
      "cost at epoch 352 : 0.669455479505425\n",
      "cost at epoch 353 : 0.6686624412132268\n",
      "cost at epoch 354 : 0.6678735802112385\n",
      "cost at epoch 355 : 0.6670888594577599\n",
      "cost at epoch 356 : 0.6663082423795714\n",
      "cost at epoch 357 : 0.6655316928645105\n",
      "cost at epoch 358 : 0.6647591752541743\n",
      "cost at epoch 359 : 0.6639906543367506\n",
      "cost at epoch 360 : 0.6632260953399797\n",
      "cost at epoch 361 : 0.6624654639242471\n",
      "cost at epoch 362 : 0.6617087261757858\n",
      "cost at epoch 363 : 0.6609558486000136\n",
      "cost at epoch 364 : 0.6602067981149853\n",
      "cost at epoch 365 : 0.6594615420449553\n",
      "cost at epoch 366 : 0.6587200481140644\n",
      "cost at epoch 367 : 0.6579822844401301\n",
      "cost at epoch 368 : 0.6572482195285567\n",
      "cost at epoch 369 : 0.6565178222663491\n",
      "cost at epoch 370 : 0.6557910619162278\n",
      "cost at epoch 371 : 0.6550679081108579\n",
      "cost at epoch 372 : 0.6543483308471734\n",
      "cost at epoch 373 : 0.6536323004808102\n",
      "cost at epoch 374 : 0.6529197877206261\n",
      "cost at epoch 375 : 0.652210763623326\n",
      "cost at epoch 376 : 0.6515051995881826\n",
      "cost at epoch 377 : 0.6508030673518461\n",
      "cost at epoch 378 : 0.6501043389832467\n",
      "cost at epoch 379 : 0.6494089868785899\n",
      "cost at epoch 380 : 0.6487169837564324\n",
      "cost at epoch 381 : 0.6480283026528557\n",
      "cost at epoch 382 : 0.6473429169167159\n",
      "cost at epoch 383 : 0.646660800204975\n",
      "cost at epoch 384 : 0.6459819264781247\n",
      "cost at epoch 385 : 0.6453062699956792\n",
      "cost at epoch 386 : 0.6446338053117513\n",
      "cost at epoch 387 : 0.6439645072707036\n",
      "cost at epoch 388 : 0.6432983510028847\n",
      "cost at epoch 389 : 0.6426353119204187\n",
      "cost at epoch 390 : 0.6419753657130914\n",
      "cost at epoch 391 : 0.6413184883442916\n",
      "cost at epoch 392 : 0.6406646560470276\n",
      "cost at epoch 393 : 0.640013845320016\n",
      "cost at epoch 394 : 0.6393660329238308\n",
      "cost at epoch 395 : 0.6387211958771203\n",
      "cost at epoch 396 : 0.6380793114528995\n",
      "cost at epoch 397 : 0.6374403571748868\n",
      "cost at epoch 398 : 0.6368043108139175\n",
      "cost at epoch 399 : 0.6361711503844166\n",
      "cost at epoch 400 : 0.635540854140927\n",
      "cost at epoch 401 : 0.6349134005747001\n",
      "cost at epoch 402 : 0.6342887684103438\n",
      "cost at epoch 403 : 0.6336669366025206\n",
      "cost at epoch 404 : 0.6330478843327179\n",
      "cost at epoch 405 : 0.6324315910060536\n",
      "cost at epoch 406 : 0.631818036248146\n",
      "cost at epoch 407 : 0.631207199902033\n",
      "cost at epoch 408 : 0.6305990620251496\n",
      "cost at epoch 409 : 0.6299936028863389\n",
      "cost at epoch 410 : 0.6293908029629357\n",
      "cost at epoch 411 : 0.6287906429378749\n",
      "cost at epoch 412 : 0.6281931036968698\n",
      "cost at epoch 413 : 0.6275981663256204\n",
      "cost at epoch 414 : 0.6270058121070773\n",
      "cost at epoch 415 : 0.6264160225187452\n",
      "cost at epoch 416 : 0.625828779230032\n",
      "cost at epoch 417 : 0.6252440640996463\n",
      "cost at epoch 418 : 0.624661859173027\n",
      "cost at epoch 419 : 0.6240821466798254\n",
      "cost at epoch 420 : 0.6235049090314244\n",
      "cost at epoch 421 : 0.6229301288184905\n",
      "cost at epoch 422 : 0.6223577888085788\n",
      "cost at epoch 423 : 0.621787871943768\n",
      "cost at epoch 424 : 0.6212203613383328\n",
      "cost at epoch 425 : 0.620655240276458\n",
      "cost at epoch 426 : 0.6200924922099875\n",
      "cost at epoch 427 : 0.6195321007562078\n",
      "cost at epoch 428 : 0.6189740496956687\n",
      "cost at epoch 429 : 0.6184183229700364\n",
      "cost at epoch 430 : 0.6178649046799845\n",
      "cost at epoch 431 : 0.6173137790831122\n",
      "cost at epoch 432 : 0.6167649305919016\n",
      "cost at epoch 433 : 0.6162183437717051\n",
      "cost at epoch 434 : 0.6156740033387609\n",
      "cost at epoch 435 : 0.6151318941582444\n",
      "cost at epoch 436 : 0.6145920012423449\n",
      "cost at epoch 437 : 0.6140543097483799\n",
      "cost at epoch 438 : 0.6135188049769281\n",
      "cost at epoch 439 : 0.6129854723700038\n",
      "cost at epoch 440 : 0.6124542975092465\n",
      "cost at epoch 441 : 0.6119252661141472\n",
      "cost at epoch 442 : 0.6113983640403018\n",
      "cost at epoch 443 : 0.6108735772776847\n",
      "cost at epoch 444 : 0.6103508919489556\n",
      "cost at epoch 445 : 0.6098302943077871\n",
      "cost at epoch 446 : 0.6093117707372236\n",
      "cost at epoch 447 : 0.6087953077480582\n",
      "cost at epoch 448 : 0.6082808919772402\n",
      "cost at epoch 449 : 0.607768510186301\n",
      "cost at epoch 450 : 0.6072581492598095\n",
      "cost at epoch 451 : 0.606749796203846\n",
      "cost at epoch 452 : 0.6062434381445009\n",
      "cost at epoch 453 : 0.6057390623264001\n",
      "cost at epoch 454 : 0.6052366561112383\n",
      "cost at epoch 455 : 0.6047362069763539\n",
      "cost at epoch 456 : 0.6042377025133118\n",
      "cost at epoch 457 : 0.6037411304265079\n",
      "cost at epoch 458 : 0.6032464785317965\n",
      "cost at epoch 459 : 0.6027537347551455\n",
      "cost at epoch 460 : 0.6022628871312954\n",
      "cost at epoch 461 : 0.6017739238024504\n",
      "cost at epoch 462 : 0.6012868330169843\n",
      "cost at epoch 463 : 0.6008016031281664\n",
      "cost at epoch 464 : 0.6003182225929068\n",
      "cost at epoch 465 : 0.5998366799705154\n",
      "cost at epoch 466 : 0.5993569639214842\n",
      "cost at epoch 467 : 0.5988790632062846\n",
      "cost at epoch 468 : 0.5984029666841812\n",
      "cost at epoch 469 : 0.5979286633120705\n",
      "cost at epoch 470 : 0.5974561421433201\n",
      "cost at epoch 471 : 0.596985392326642\n",
      "cost at epoch 472 : 0.5965164031049704\n",
      "cost at epoch 473 : 0.5960491638143656\n",
      "cost at epoch 474 : 0.5955836638829167\n",
      "cost at epoch 475 : 0.5951198928296819\n",
      "cost at epoch 476 : 0.5946578402636251\n",
      "cost at epoch 477 : 0.5941974958825806\n",
      "cost at epoch 478 : 0.5937388494722227\n",
      "cost at epoch 479 : 0.5932818909050567\n",
      "cost at epoch 480 : 0.5928266101394214\n",
      "cost at epoch 481 : 0.5923729972185059\n",
      "cost at epoch 482 : 0.5919210422693774\n",
      "cost at epoch 483 : 0.5914707355020312\n",
      "cost at epoch 484 : 0.5910220672084429\n",
      "cost at epoch 485 : 0.5905750277616401\n",
      "cost at epoch 486 : 0.5901296076147889\n",
      "cost at epoch 487 : 0.5896857973002876\n",
      "cost at epoch 488 : 0.5892435874288764\n",
      "cost at epoch 489 : 0.5888029686887581\n",
      "cost at epoch 490 : 0.5883639318447336\n",
      "cost at epoch 491 : 0.5879264677373451\n",
      "cost at epoch 492 : 0.5874905672820318\n",
      "cost at epoch 493 : 0.5870562214683057\n",
      "cost at epoch 494 : 0.5866234213589232\n",
      "cost at epoch 495 : 0.5861921580890821\n",
      "cost at epoch 496 : 0.585762422865622\n",
      "cost at epoch 497 : 0.5853342069662363\n",
      "cost at epoch 498 : 0.5849075017387024\n",
      "cost at epoch 499 : 0.5844822986001057\n",
      "cost at epoch 500 : 0.5840585890360982\n",
      "cost at epoch 501 : 0.5836363646001411\n",
      "cost at epoch 502 : 0.5832156169127773\n",
      "cost at epoch 503 : 0.5827963376609064\n",
      "cost at epoch 504 : 0.5823785185970662\n",
      "cost at epoch 505 : 0.581962151538732\n",
      "cost at epoch 506 : 0.5815472283676165\n",
      "cost at epoch 507 : 0.5811337410289863\n",
      "cost at epoch 508 : 0.5807216815309832\n",
      "cost at epoch 509 : 0.580311041943958\n",
      "cost at epoch 510 : 0.5799018143998065\n",
      "cost at epoch 511 : 0.5794939910913239\n",
      "cost at epoch 512 : 0.5790875642715612\n",
      "cost at epoch 513 : 0.5786825262531925\n",
      "cost at epoch 514 : 0.5782788694078856\n",
      "cost at epoch 515 : 0.5778765861656943\n",
      "cost at epoch 516 : 0.5774756690144383\n",
      "cost at epoch 517 : 0.5770761104991136\n",
      "cost at epoch 518 : 0.5766779032212946\n",
      "cost at epoch 519 : 0.5762810398385475\n",
      "cost at epoch 520 : 0.5758855130638572\n",
      "cost at epoch 521 : 0.5754913156650536\n",
      "cost at epoch 522 : 0.5750984404642548\n",
      "cost at epoch 523 : 0.5747068803373074\n",
      "cost at epoch 524 : 0.5743166282132397\n",
      "cost at epoch 525 : 0.5739276770737219\n",
      "cost at epoch 526 : 0.5735400199525352\n",
      "cost at epoch 527 : 0.5731536499350405\n",
      "cost at epoch 528 : 0.5727685601576592\n",
      "cost at epoch 529 : 0.5723847438073656\n",
      "cost at epoch 530 : 0.5720021941211729\n",
      "cost at epoch 531 : 0.5716209043856381\n",
      "cost at epoch 532 : 0.5712408679363656\n",
      "cost at epoch 533 : 0.5708620781575229\n",
      "cost at epoch 534 : 0.5704845284813572\n",
      "cost at epoch 535 : 0.5701082123877196\n",
      "cost at epoch 536 : 0.5697331234035997\n",
      "cost at epoch 537 : 0.5693592551026604\n",
      "cost at epoch 538 : 0.5689866011047784\n",
      "cost at epoch 539 : 0.5686151550755993\n",
      "cost at epoch 540 : 0.5682449107260862\n",
      "cost at epoch 541 : 0.5678758618120808\n",
      "cost at epoch 542 : 0.5675080021338704\n",
      "cost at epoch 543 : 0.5671413255357605\n",
      "cost at epoch 544 : 0.5667758259056453\n",
      "cost at epoch 545 : 0.5664114971745952\n",
      "cost at epoch 546 : 0.5660483333164406\n",
      "cost at epoch 547 : 0.5656863283473642\n",
      "cost at epoch 548 : 0.5653254763254989\n",
      "cost at epoch 549 : 0.5649657713505303\n",
      "cost at epoch 550 : 0.5646072075633025\n",
      "cost at epoch 551 : 0.5642497791454282\n",
      "cost at epoch 552 : 0.563893480318908\n",
      "cost at epoch 553 : 0.563538305345752\n",
      "cost at epoch 554 : 0.5631842485276045\n",
      "cost at epoch 555 : 0.5628313042053725\n",
      "cost at epoch 556 : 0.5624794667588648\n",
      "cost at epoch 557 : 0.5621287306064298\n",
      "cost at epoch 558 : 0.561779090204596\n",
      "cost at epoch 559 : 0.5614305400477244\n",
      "cost at epoch 560 : 0.5610830746676616\n",
      "cost at epoch 561 : 0.5607366886333914\n",
      "cost at epoch 562 : 0.560391376550699\n",
      "cost at epoch 563 : 0.5600471330618357\n",
      "cost at epoch 564 : 0.5597039528451865\n",
      "cost at epoch 565 : 0.559361830614945\n",
      "cost at epoch 566 : 0.5590207611207845\n",
      "cost at epoch 567 : 0.5586807391475475\n",
      "cost at epoch 568 : 0.5583417595149189\n",
      "cost at epoch 569 : 0.5580038170771284\n",
      "cost at epoch 570 : 0.5576669067226241\n",
      "cost at epoch 571 : 0.5573310233737836\n",
      "cost at epoch 572 : 0.556996161986606\n",
      "cost at epoch 573 : 0.556662317550414\n",
      "cost at epoch 574 : 0.556329485087561\n",
      "cost at epoch 575 : 0.5559976596531407\n",
      "cost at epoch 576 : 0.555666836334699\n",
      "cost at epoch 577 : 0.5553370102519513\n",
      "cost at epoch 578 : 0.5550081765565008\n",
      "cost at epoch 579 : 0.5546803304315602\n",
      "cost at epoch 580 : 0.5543534670916798\n",
      "cost at epoch 581 : 0.554027581782475\n",
      "cost at epoch 582 : 0.5537026697803573\n",
      "cost at epoch 583 : 0.5533787263922729\n",
      "cost at epoch 584 : 0.5530557469554357\n",
      "cost at epoch 585 : 0.5527337268370722\n",
      "cost at epoch 586 : 0.5524126614341665\n",
      "cost at epoch 587 : 0.5520925461732024\n",
      "cost at epoch 588 : 0.5517733765099161\n",
      "cost at epoch 589 : 0.5514551479290504\n",
      "cost at epoch 590 : 0.5511378559441072\n",
      "cost at epoch 591 : 0.5508214960971071\n",
      "cost at epoch 592 : 0.5505060639583472\n",
      "cost at epoch 593 : 0.5501915551261723\n",
      "cost at epoch 594 : 0.549877965226731\n",
      "cost at epoch 595 : 0.5495652899137506\n",
      "cost at epoch 596 : 0.5492535248683081\n",
      "cost at epoch 597 : 0.5489426657986005\n",
      "cost at epoch 598 : 0.5486327084397252\n",
      "cost at epoch 599 : 0.548323648553455\n",
      "cost at epoch 600 : 0.5480154819280237\n",
      "cost at epoch 601 : 0.5477082043779041\n",
      "cost at epoch 602 : 0.5474018117435966\n",
      "cost at epoch 603 : 0.5470962998914182\n",
      "cost at epoch 604 : 0.5467916647132922\n",
      "cost at epoch 605 : 0.5464879021265394\n",
      "cost at epoch 606 : 0.5461850080736765\n",
      "cost at epoch 607 : 0.5458829785222088\n",
      "cost at epoch 608 : 0.5455818094644322\n",
      "cost at epoch 609 : 0.5452814969172353\n",
      "cost at epoch 610 : 0.5449820369219018\n",
      "cost at epoch 611 : 0.5446834255439132\n",
      "cost at epoch 612 : 0.5443856588727635\n",
      "cost at epoch 613 : 0.5440887330217608\n",
      "cost at epoch 614 : 0.5437926441278461\n",
      "cost at epoch 615 : 0.5434973883514014\n",
      "cost at epoch 616 : 0.543202961876071\n",
      "cost at epoch 617 : 0.5429093609085711\n",
      "cost at epoch 618 : 0.5426165816785188\n",
      "cost at epoch 619 : 0.5423246204382441\n",
      "cost at epoch 620 : 0.5420334734626199\n",
      "cost at epoch 621 : 0.5417431370488839\n",
      "cost at epoch 622 : 0.5414536075164657\n",
      "cost at epoch 623 : 0.5411648812068168\n",
      "cost at epoch 624 : 0.5408769544832375\n",
      "cost at epoch 625 : 0.5405898237307117\n",
      "cost at epoch 626 : 0.540303485355741\n",
      "cost at epoch 627 : 0.5400179357861788\n",
      "cost at epoch 628 : 0.5397331714710665\n",
      "cost at epoch 629 : 0.539449188880474\n",
      "cost at epoch 630 : 0.5391659845053393\n",
      "cost at epoch 631 : 0.5388835548573101\n",
      "cost at epoch 632 : 0.5386018964685877\n",
      "cost at epoch 633 : 0.5383210058917727\n",
      "cost at epoch 634 : 0.5380408796997095\n",
      "cost at epoch 635 : 0.5377615144853359\n",
      "cost at epoch 636 : 0.5374829068615348\n",
      "cost at epoch 637 : 0.5372050534609776\n",
      "cost at epoch 638 : 0.5369279509359891\n",
      "cost at epoch 639 : 0.5366515959583882\n",
      "cost at epoch 640 : 0.536375985219353\n",
      "cost at epoch 641 : 0.5361011154292737\n",
      "cost at epoch 642 : 0.53582698331761\n",
      "cost at epoch 643 : 0.5355535856327535\n",
      "cost at epoch 644 : 0.5352809191418845\n",
      "cost at epoch 645 : 0.5350089806308385\n",
      "cost at epoch 646 : 0.534737766903969\n",
      "cost at epoch 647 : 0.5344672747840097\n",
      "cost at epoch 648 : 0.5341975011119411\n",
      "cost at epoch 649 : 0.5339284427468605\n",
      "cost at epoch 650 : 0.5336600965658505\n",
      "cost at epoch 651 : 0.5333924594638442\n",
      "cost at epoch 652 : 0.5331255283535028\n",
      "cost at epoch 653 : 0.5328593001650844\n",
      "cost at epoch 654 : 0.5325937718463171\n",
      "cost at epoch 655 : 0.5323289403622739\n",
      "cost at epoch 656 : 0.5320648026952515\n",
      "cost at epoch 657 : 0.531801355844643\n",
      "cost at epoch 658 : 0.5315385968268191\n",
      "cost at epoch 659 : 0.531276522675007\n",
      "cost at epoch 660 : 0.5310151304391695\n",
      "cost at epoch 661 : 0.5307544171858869\n",
      "cost at epoch 662 : 0.5304943799982391\n",
      "cost at epoch 663 : 0.5302350159756951\n",
      "cost at epoch 664 : 0.5299763222339852\n",
      "cost at epoch 665 : 0.5297182959049985\n",
      "cost at epoch 666 : 0.5294609341366645\n",
      "cost at epoch 667 : 0.5292042340928431\n",
      "cost at epoch 668 : 0.5289481929532094\n",
      "cost at epoch 669 : 0.5286928079131472\n",
      "cost at epoch 670 : 0.5284380761836398\n",
      "cost at epoch 671 : 0.5281839949911589\n",
      "cost at epoch 672 : 0.52793056157756\n",
      "cost at epoch 673 : 0.5276777731999758\n",
      "cost at epoch 674 : 0.5274256271307071\n",
      "cost at epoch 675 : 0.527174120657125\n",
      "cost at epoch 676 : 0.5269232510815626\n",
      "cost at epoch 677 : 0.5266730157212106\n",
      "cost at epoch 678 : 0.5264234119080232\n",
      "cost at epoch 679 : 0.5261744369886084\n",
      "cost at epoch 680 : 0.5259260883241333\n",
      "cost at epoch 681 : 0.5256783632902248\n",
      "cost at epoch 682 : 0.5254312592768678\n",
      "cost at epoch 683 : 0.525184773688312\n",
      "cost at epoch 684 : 0.5249389039429733\n",
      "cost at epoch 685 : 0.5246936474733382\n",
      "cost at epoch 686 : 0.524449001725867\n",
      "cost at epoch 687 : 0.5242049641609049\n",
      "cost at epoch 688 : 0.5239615322525832\n",
      "cost at epoch 689 : 0.5237187034887276\n",
      "cost at epoch 690 : 0.52347647537077\n",
      "cost at epoch 691 : 0.5232348454136553\n",
      "cost at epoch 692 : 0.5229938111457486\n",
      "cost at epoch 693 : 0.5227533701087506\n",
      "cost at epoch 694 : 0.5225135198576054\n",
      "cost at epoch 695 : 0.5222742579604139\n",
      "cost at epoch 696 : 0.5220355819983454\n",
      "cost at epoch 697 : 0.5217974895655535\n",
      "cost at epoch 698 : 0.5215599782690871\n",
      "cost at epoch 699 : 0.5213230457288072\n",
      "cost at epoch 700 : 0.5210866895773045\n",
      "cost at epoch 701 : 0.5208509074598097\n",
      "cost at epoch 702 : 0.520615697034117\n",
      "cost at epoch 703 : 0.520381055970497\n",
      "cost at epoch 704 : 0.5201469819516183\n",
      "cost at epoch 705 : 0.5199134726724655\n",
      "cost at epoch 706 : 0.5196805258402563\n",
      "cost at epoch 707 : 0.5194481391743668\n",
      "cost at epoch 708 : 0.5192163104062474\n",
      "cost at epoch 709 : 0.5189850372793479\n",
      "cost at epoch 710 : 0.5187543175490374\n",
      "cost at epoch 711 : 0.5185241489825302\n",
      "cost at epoch 712 : 0.5182945293588048\n",
      "cost at epoch 713 : 0.5180654564685322\n",
      "cost at epoch 714 : 0.5178369281139974\n",
      "cost at epoch 715 : 0.5176089421090277\n",
      "cost at epoch 716 : 0.5173814962789147\n",
      "cost at epoch 717 : 0.5171545884603461\n",
      "cost at epoch 718 : 0.516928216501325\n",
      "cost at epoch 719 : 0.5167023782611069\n",
      "cost at epoch 720 : 0.5164770716101204\n",
      "cost at epoch 721 : 0.5162522944298981\n",
      "cost at epoch 722 : 0.5160280446130094\n",
      "cost at epoch 723 : 0.5158043200629836\n",
      "cost at epoch 724 : 0.5155811186942462\n",
      "cost at epoch 725 : 0.5153584384320472\n",
      "cost at epoch 726 : 0.515136277212394\n",
      "cost at epoch 727 : 0.5149146329819806\n",
      "cost at epoch 728 : 0.5146935036981228\n",
      "cost at epoch 729 : 0.514472887328691\n",
      "cost at epoch 730 : 0.5142527818520423\n",
      "cost at epoch 731 : 0.5140331852569548\n",
      "cost at epoch 732 : 0.5138140955425652\n",
      "cost at epoch 733 : 0.5135955107182995\n",
      "cost at epoch 734 : 0.5133774288038118\n",
      "cost at epoch 735 : 0.5131598478289167\n",
      "cost at epoch 736 : 0.5129427658335319\n",
      "cost at epoch 737 : 0.5127261808676081\n",
      "cost at epoch 738 : 0.5125100909910735\n",
      "cost at epoch 739 : 0.5122944942737648\n",
      "cost at epoch 740 : 0.5120793887953726\n",
      "cost at epoch 741 : 0.5118647726453739\n",
      "cost at epoch 742 : 0.5116506439229757\n",
      "cost at epoch 743 : 0.511437000737055\n",
      "cost at epoch 744 : 0.511223841206095\n",
      "cost at epoch 745 : 0.511011163458131\n",
      "cost at epoch 746 : 0.510798965630687\n",
      "cost at epoch 747 : 0.5105872458707206\n",
      "cost at epoch 748 : 0.5103760023345635\n",
      "cost at epoch 749 : 0.510165233187865\n",
      "cost at epoch 750 : 0.5099549366055333\n",
      "cost at epoch 751 : 0.5097451107716797\n",
      "cost at epoch 752 : 0.5095357538795642\n",
      "cost at epoch 753 : 0.5093268641315356\n",
      "cost at epoch 754 : 0.5091184397389792\n",
      "cost at epoch 755 : 0.5089104789222623\n",
      "cost at epoch 756 : 0.5087029799106757\n",
      "cost at epoch 757 : 0.5084959409423844\n",
      "cost at epoch 758 : 0.5082893602643686\n",
      "cost at epoch 759 : 0.5080832361323768\n",
      "cost at epoch 760 : 0.5078775668108677\n",
      "cost at epoch 761 : 0.5076723505729573\n",
      "cost at epoch 762 : 0.5074675857003694\n",
      "cost at epoch 763 : 0.507263270483383\n",
      "cost at epoch 764 : 0.5070594032207805\n",
      "cost at epoch 765 : 0.5068559822197957\n",
      "cost at epoch 766 : 0.5066530057960651\n",
      "cost at epoch 767 : 0.5064504722735748\n",
      "cost at epoch 768 : 0.5062483799846118\n",
      "cost at epoch 769 : 0.5060467272697173\n",
      "cost at epoch 770 : 0.5058455124776327\n",
      "cost at epoch 771 : 0.5056447339652509\n",
      "cost at epoch 772 : 0.5054443900975713\n",
      "cost at epoch 773 : 0.5052444792476513\n",
      "cost at epoch 774 : 0.5050449997965533\n",
      "cost at epoch 775 : 0.504845950133302\n",
      "cost at epoch 776 : 0.5046473286548373\n",
      "cost at epoch 777 : 0.5044491337659629\n",
      "cost at epoch 778 : 0.5042513638793054\n",
      "cost at epoch 779 : 0.504054017415265\n",
      "cost at epoch 780 : 0.503857092801968\n",
      "cost at epoch 781 : 0.5036605884752274\n",
      "cost at epoch 782 : 0.5034645028784897\n",
      "cost at epoch 783 : 0.5032688344627951\n",
      "cost at epoch 784 : 0.503073581686734\n",
      "cost at epoch 785 : 0.502878743016397\n",
      "cost at epoch 786 : 0.5026843169253369\n",
      "cost at epoch 787 : 0.5024903018945212\n",
      "cost at epoch 788 : 0.5022966964122916\n",
      "cost at epoch 789 : 0.5021034989743182\n",
      "cost at epoch 790 : 0.5019107080835592\n",
      "cost at epoch 791 : 0.5017183222502164\n",
      "cost at epoch 792 : 0.5015263399916943\n",
      "cost at epoch 793 : 0.5013347598325595\n",
      "cost at epoch 794 : 0.5011435803044956\n",
      "cost at epoch 795 : 0.5009527999462655\n",
      "cost at epoch 796 : 0.5007624173036682\n",
      "cost at epoch 797 : 0.5005724309295001\n",
      "cost at epoch 798 : 0.5003828393835129\n",
      "cost at epoch 799 : 0.5001936412323735\n"
     ]
    }
   ],
   "source": [
    "theta_1_new, theta_2_new, J_history = train(X, y_onehot,\n",
    "                                            nnCostGrad,\n",
    "                                            theta_1,\n",
    "                                            theta_2,\n",
    "                                            epochs= 800,\n",
    "                                            lr= 0.9,\n",
    "                                            lambda_= 1)"
   ]
  },
  {
   "cell_type": "code",
   "execution_count": 23,
   "metadata": {
    "id": "knn8aNGkPMdW"
   },
   "outputs": [],
   "source": [
    "def predict(theta_1, theta_2, X):\n",
    "  m = X.shape[1]\n",
    "  z_2 = np.matmul(theta_1, X)\n",
    "  a_2 = sigmoid(z_2)\n",
    "  a_2 = np.concatenate([np.ones((1, m)), a_2], axis= 0)\n",
    "  z_3 = np.matmul(theta_2, a_2)\n",
    "  a_3 = sigmoid(z_3)\n",
    "  return a_3"
   ]
  },
  {
   "cell_type": "code",
   "execution_count": 24,
   "metadata": {
    "colab": {
     "base_uri": "https://localhost:8080/"
    },
    "id": "X2Z99-fjRZK1",
    "outputId": "b926c923-12f0-4dcd-cb0c-6ebe96c91497"
   },
   "outputs": [
    {
     "name": "stdout",
     "output_type": "stream",
     "text": [
      "(10, 5000)\n",
      "predicted digit:  [0 0 0 ... 9 9 9]\n"
     ]
    }
   ],
   "source": [
    "outputs = predict(theta_1_new, theta_2_new, X)\n",
    "print(outputs.shape)\n",
    "predicted_digit = np.argmax(outputs, axis= 0)\n",
    "print(\"predicted digit: \", predicted_digit)"
   ]
  },
  {
   "cell_type": "code",
   "execution_count": 25,
   "metadata": {
    "colab": {
     "base_uri": "https://localhost:8080/"
    },
    "id": "QCowdhjv1SOe",
    "outputId": "862d88fd-046e-4735-b497-d39e20df35b7"
   },
   "outputs": [
    {
     "name": "stdout",
     "output_type": "stream",
     "text": [
      "[0 0 0 ... 9 9 9]\n"
     ]
    }
   ],
   "source": [
    "print(predicted_digit)"
   ]
  },
  {
   "cell_type": "code",
   "execution_count": 26,
   "metadata": {
    "colab": {
     "base_uri": "https://localhost:8080/"
    },
    "id": "CN5MrQoD0_im",
    "outputId": "1dd8db34-b62e-49bf-9f59-06264d98bfab"
   },
   "outputs": [
    {
     "name": "stdout",
     "output_type": "stream",
     "text": [
      "Training Set Accuracy: 94.700000\n"
     ]
    }
   ],
   "source": [
    "print('Training Set Accuracy: %f' % (np.mean(predicted_digit == y) * 100))"
   ]
  },
  {
   "cell_type": "code",
   "execution_count": 27,
   "metadata": {
    "colab": {
     "base_uri": "https://localhost:8080/",
     "height": 263
    },
    "id": "e-xwKV_5WNrR",
    "outputId": "ed1eb4b2-6f1b-4f8b-fc47-0060bb9be781"
   },
   "outputs": [
    {
     "data": {
      "text/plain": [
       "Text(0.5, 1.0, '6')"
      ]
     },
     "execution_count": 27,
     "metadata": {},
     "output_type": "execute_result"
    },
    {
     "data": {
      "image/png": "[encoded data removed]",
      "text/plain": [
       "<Figure size 2000x200 with 1 Axes>"
      ]
     },
     "metadata": {},
     "output_type": "display_data"
    }
   ],
   "source": [
    "idx = 3200\n",
    "\n",
    "plt.figure(figsize= (20, 2))\n",
    "\n",
    "plt.imshow(np.reshape(X[1:, idx], (20, 20)).T, cmap= \"gray\")\n",
    "plt.title(str(y[0, idx]), fontsize = 20)"
   ]
  }
 ],
 "metadata": {
  "colab": {
   "name": "ML-course-project-5-neural network multiclass classification.ipynb",
   "provenance": []
  },
  "kernelspec": {
   "display_name": "Python 3 (ipykernel)",
   "language": "python",
   "name": "python3"
  },
  "language_info": {
   "codemirror_mode": {
    "name": "ipython",
    "version": 3
   },
   "file_extension": ".py",
   "mimetype": "text/x-python",
   "name": "python",
   "nbconvert_exporter": "python",
   "pygments_lexer": "ipython3",
   "version": "3.10.7"
  }
 },
 "nbformat": 4,
 "nbformat_minor": 4
}
