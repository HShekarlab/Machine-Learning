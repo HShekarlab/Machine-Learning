{
 "cells": [
  {
   "cell_type": "code",
   "execution_count": 1,
   "metadata": {},
   "outputs": [],
   "source": [
    "import numpy as np\n",
    "from scipy.io import loadmat\n",
    "import matplotlib.pyplot as plt\n",
    "%matplotlib inline\n",
    "\n",
    "from sklearn.decomposition import PCA\n",
    "from sklearn import preprocessing"
   ]
  },
  {
   "cell_type": "code",
   "execution_count": 2,
   "metadata": {
    "colab": {
     "base_uri": "https://localhost:8080/"
    },
    "id": "74Jx5VbWYw6a",
    "outputId": "e6dc2b3a-6135-4e08-9736-f80c81fbe51f"
   },
   "outputs": [],
   "source": [
    "data_1 = loadmat(\"project8data1.mat\")"
   ]
  },
  {
   "cell_type": "code",
   "execution_count": 3,
   "metadata": {},
   "outputs": [
    {
     "data": {
      "text/plain": [
       "dict_keys(['__header__', '__version__', '__globals__', 'X'])"
      ]
     },
     "execution_count": 3,
     "metadata": {},
     "output_type": "execute_result"
    }
   ],
   "source": [
    "data_1.keys()"
   ]
  },
  {
   "cell_type": "code",
   "execution_count": 4,
   "metadata": {
    "id": "XWhQu617o475"
   },
   "outputs": [
    {
     "data": {
      "text/plain": [
       "(50, 2)"
      ]
     },
     "execution_count": 4,
     "metadata": {},
     "output_type": "execute_result"
    }
   ],
   "source": [
    "data_1[\"X\"].shape"
   ]
  },
  {
   "cell_type": "code",
   "execution_count": 5,
   "metadata": {
    "colab": {
     "base_uri": "https://localhost:8080/"
    },
    "id": "6R6Ye28TuqJ5",
    "outputId": "8361d2e4-afc1-4ebd-c256-99395403d7d2"
   },
   "outputs": [],
   "source": [
    "X = data_1[\"X\"]\n",
    "\n",
    "m = X.shape[0]"
   ]
  },
  {
   "cell_type": "code",
   "execution_count": 6,
   "metadata": {},
   "outputs": [
    {
     "data": {
      "text/plain": [
       "array([[3.38156267, 3.38911268],\n",
       "       [4.52787538, 5.8541781 ],\n",
       "       [2.65568187, 4.41199472],\n",
       "       [2.76523467, 3.71541365],\n",
       "       [2.84656011, 4.17550645],\n",
       "       [3.89067196, 6.48838087],\n",
       "       [3.47580524, 3.63284876],\n",
       "       [5.91129845, 6.68076853],\n",
       "       [3.92889397, 5.09844661],\n",
       "       [4.56183537, 5.62329929],\n",
       "       [4.57407171, 5.39765069],\n",
       "       [4.37173356, 5.46116549],\n",
       "       [4.19169388, 4.95469359],\n",
       "       [5.24408518, 4.66148767],\n",
       "       [2.8358402 , 3.76801716],\n",
       "       [5.63526969, 6.31211438],\n",
       "       [4.68632968, 5.6652411 ],\n",
       "       [2.85051337, 4.62645627],\n",
       "       [5.1101573 , 7.36319662],\n",
       "       [5.18256377, 4.64650909],\n",
       "       [5.70732809, 6.68103995],\n",
       "       [3.57968458, 4.80278074],\n",
       "       [5.63937773, 6.12043594],\n",
       "       [4.26346851, 4.68942896],\n",
       "       [2.53651693, 3.88449078],\n",
       "       [3.22382902, 4.94255585],\n",
       "       [4.92948801, 5.95501971],\n",
       "       [5.79295774, 5.10839305],\n",
       "       [2.81684824, 4.81895769],\n",
       "       [3.88882414, 5.10036564],\n",
       "       [3.34323419, 5.89301345],\n",
       "       [5.87973414, 5.52141664],\n",
       "       [3.10391912, 3.85710242],\n",
       "       [5.33150572, 4.68074235],\n",
       "       [3.37542687, 4.56537852],\n",
       "       [4.77667888, 6.25435039],\n",
       "       [2.6757463 , 3.73096988],\n",
       "       [5.50027665, 5.67948113],\n",
       "       [1.79709714, 3.24753885],\n",
       "       [4.3225147 , 5.11110472],\n",
       "       [4.42100445, 6.02563978],\n",
       "       [3.17929886, 4.43686032],\n",
       "       [3.03354125, 3.97879278],\n",
       "       [4.6093482 , 5.879792  ],\n",
       "       [2.96378859, 3.30024835],\n",
       "       [3.97176248, 5.40773735],\n",
       "       [1.18023321, 2.87869409],\n",
       "       [1.91895045, 5.07107848],\n",
       "       [3.95524687, 4.5053271 ],\n",
       "       [5.11795499, 6.08507386]])"
      ]
     },
     "execution_count": 6,
     "metadata": {},
     "output_type": "execute_result"
    }
   ],
   "source": [
    "X"
   ]
  },
  {
   "cell_type": "code",
   "execution_count": 7,
   "metadata": {},
   "outputs": [
    {
     "data": {
      "text/plain": [
       "50"
      ]
     },
     "execution_count": 7,
     "metadata": {},
     "output_type": "execute_result"
    }
   ],
   "source": [
    "m"
   ]
  },
  {
   "cell_type": "code",
   "execution_count": 8,
   "metadata": {
    "colab": {
     "base_uri": "https://localhost:8080/",
     "height": 282
    },
    "id": "qDbE5_5lps5I",
    "outputId": "f5af728b-c5fc-41aa-81bf-6df11855919e"
   },
   "outputs": [
    {
     "data": {
      "text/plain": [
       "[<matplotlib.lines.Line2D at 0x1a0c61cce50>]"
      ]
     },
     "execution_count": 8,
     "metadata": {},
     "output_type": "execute_result"
    },
    {
     "data": {
      "image/png": "[encoded data removed]",
      "text/plain": [
       "<Figure size 640x480 with 1 Axes>"
      ]
     },
     "metadata": {},
     "output_type": "display_data"
    }
   ],
   "source": [
    "plt.plot(X[:,0], X[:,1], \"c*\")"
   ]
  },
  {
   "cell_type": "code",
   "execution_count": 9,
   "metadata": {
    "id": "drM-iVJntQQK"
   },
   "outputs": [],
   "source": [
    "pca = PCA(n_components = 1)\n",
    "X_1D = pca.fit_transform(X)"
   ]
  },
  {
   "cell_type": "code",
   "execution_count": 10,
   "metadata": {
    "colab": {
     "base_uri": "https://localhost:8080/"
    },
    "id": "UWBcZuupeNaJ",
    "outputId": "693c969f-6825-47cb-dca4-41790de585a0"
   },
   "outputs": [
    {
     "data": {
      "text/plain": [
       "array([[3.38156267, 3.38911268],\n",
       "       [4.52787538, 5.8541781 ],\n",
       "       [2.65568187, 4.41199472],\n",
       "       [2.76523467, 3.71541365],\n",
       "       [2.84656011, 4.17550645],\n",
       "       [3.89067196, 6.48838087],\n",
       "       [3.47580524, 3.63284876],\n",
       "       [5.91129845, 6.68076853],\n",
       "       [3.92889397, 5.09844661],\n",
       "       [4.56183537, 5.62329929],\n",
       "       [4.57407171, 5.39765069],\n",
       "       [4.37173356, 5.46116549],\n",
       "       [4.19169388, 4.95469359],\n",
       "       [5.24408518, 4.66148767],\n",
       "       [2.8358402 , 3.76801716],\n",
       "       [5.63526969, 6.31211438],\n",
       "       [4.68632968, 5.6652411 ],\n",
       "       [2.85051337, 4.62645627],\n",
       "       [5.1101573 , 7.36319662],\n",
       "       [5.18256377, 4.64650909],\n",
       "       [5.70732809, 6.68103995],\n",
       "       [3.57968458, 4.80278074],\n",
       "       [5.63937773, 6.12043594],\n",
       "       [4.26346851, 4.68942896],\n",
       "       [2.53651693, 3.88449078],\n",
       "       [3.22382902, 4.94255585],\n",
       "       [4.92948801, 5.95501971],\n",
       "       [5.79295774, 5.10839305],\n",
       "       [2.81684824, 4.81895769],\n",
       "       [3.88882414, 5.10036564],\n",
       "       [3.34323419, 5.89301345],\n",
       "       [5.87973414, 5.52141664],\n",
       "       [3.10391912, 3.85710242],\n",
       "       [5.33150572, 4.68074235],\n",
       "       [3.37542687, 4.56537852],\n",
       "       [4.77667888, 6.25435039],\n",
       "       [2.6757463 , 3.73096988],\n",
       "       [5.50027665, 5.67948113],\n",
       "       [1.79709714, 3.24753885],\n",
       "       [4.3225147 , 5.11110472],\n",
       "       [4.42100445, 6.02563978],\n",
       "       [3.17929886, 4.43686032],\n",
       "       [3.03354125, 3.97879278],\n",
       "       [4.6093482 , 5.879792  ],\n",
       "       [2.96378859, 3.30024835],\n",
       "       [3.97176248, 5.40773735],\n",
       "       [1.18023321, 2.87869409],\n",
       "       [1.91895045, 5.07107848],\n",
       "       [3.95524687, 4.5053271 ],\n",
       "       [5.11795499, 6.08507386]])"
      ]
     },
     "execution_count": 10,
     "metadata": {},
     "output_type": "execute_result"
    }
   ],
   "source": [
    "X"
   ]
  },
  {
   "cell_type": "code",
   "execution_count": 11,
   "metadata": {
    "colab": {
     "base_uri": "https://localhost:8080/"
    },
    "id": "vqcFBo3tvNB8",
    "outputId": "6730ef44-8adf-4e2e-a326-643dcd140ee6"
   },
   "outputs": [
    {
     "data": {
      "text/plain": [
       "array([[ 1.49876595],\n",
       "       [-0.95839024],\n",
       "       [ 1.40325172],\n",
       "       [ 1.76421694],\n",
       "       [ 1.40760243],\n",
       "       [-0.87367998],\n",
       "       [ 1.27050164],\n",
       "       [-2.5506712 ],\n",
       "       [-0.01469839],\n",
       "       [-0.83694188],\n",
       "       [-0.70212917],\n",
       "       [-0.58711016],\n",
       "       [-0.12493311],\n",
       "       [-0.74690506],\n",
       "       [ 1.67629396],\n",
       "       [-2.10275704],\n",
       "       [-0.9594953 ],\n",
       "       [ 1.11633715],\n",
       "       [-2.37070273],\n",
       "       [-0.69001651],\n",
       "       [-2.39397485],\n",
       "       [ 0.44284714],\n",
       "       [-1.98340505],\n",
       "       [-0.01058959],\n",
       "       [ 1.83205377],\n",
       "       [ 0.62719172],\n",
       "       [-1.33171608],\n",
       "       [-1.4546727 ],\n",
       "       [ 1.01919098],\n",
       "       [ 0.01489202],\n",
       "       [-0.07212622],\n",
       "       [-1.78539513],\n",
       "       [ 1.41318051],\n",
       "       [-0.82644523],\n",
       "       [ 0.75167377],\n",
       "       [-1.40551081],\n",
       "       [ 1.82309802],\n",
       "       [-1.59458841],\n",
       "       [ 2.80783613],\n",
       "       [-0.32551527],\n",
       "       [-0.98578762],\n",
       "       [ 0.98465469],\n",
       "       [ 1.38952836],\n",
       "       [-1.03742062],\n",
       "       [ 1.87686597],\n",
       "       [-0.24535117],\n",
       "       [ 3.51800218],\n",
       "       [ 1.54860441],\n",
       "       [ 0.34412682],\n",
       "       [-1.55978675]])"
      ]
     },
     "execution_count": 11,
     "metadata": {},
     "output_type": "execute_result"
    }
   ],
   "source": [
    "X_1D"
   ]
  },
  {
   "cell_type": "code",
   "execution_count": 12,
   "metadata": {
    "colab": {
     "base_uri": "https://localhost:8080/"
    },
    "id": "Cn6h6U1tvac-",
    "outputId": "02982c85-9686-43e6-8919-53d440b9941d"
   },
   "outputs": [
    {
     "data": {
      "text/plain": [
       "(50, 1)"
      ]
     },
     "execution_count": 12,
     "metadata": {},
     "output_type": "execute_result"
    }
   ],
   "source": [
    "X_1D.shape"
   ]
  },
  {
   "cell_type": "code",
   "execution_count": 13,
   "metadata": {
    "id": "0MHJXIJN1l7G"
   },
   "outputs": [],
   "source": [
    "X_reconstructed = pca.inverse_transform(X_1D)"
   ]
  },
  {
   "cell_type": "code",
   "execution_count": 14,
   "metadata": {
    "colab": {
     "base_uri": "https://localhost:8080/",
     "height": 282
    },
    "id": "SPN8y9aX1tpu",
    "outputId": "fc01163c-7065-49ad-bee8-b55633f38875"
   },
   "outputs": [
    {
     "data": {
      "text/plain": [
       "[<matplotlib.lines.Line2D at 0x1a0c628f7f0>]"
      ]
     },
     "execution_count": 14,
     "metadata": {},
     "output_type": "execute_result"
    },
    {
     "data": {
      "image/png": "[encoded data removed]",
      "text/plain": [
       "<Figure size 640x480 with 1 Axes>"
      ]
     },
     "metadata": {},
     "output_type": "display_data"
    }
   ],
   "source": [
    "plt.plot(X_reconstructed[:, 0], X_reconstructed[:, 1], \"b*\")\n",
    "plt.plot(X[:, 0], X[:, 1], \"go\")"
   ]
  },
  {
   "cell_type": "code",
   "execution_count": 15,
   "metadata": {
    "colab": {
     "base_uri": "https://localhost:8080/"
    },
    "id": "i5-OJ5yW61Lm",
    "outputId": "5442961c-9e86-4616-c516-0e103b09712d"
   },
   "outputs": [],
   "source": [
    "face_imgs = loadmat(\"project8faces.mat\")"
   ]
  },
  {
   "cell_type": "code",
   "execution_count": 16,
   "metadata": {},
   "outputs": [
    {
     "data": {
      "text/plain": [
       "dict_keys(['__header__', '__version__', '__globals__', 'X'])"
      ]
     },
     "execution_count": 16,
     "metadata": {},
     "output_type": "execute_result"
    }
   ],
   "source": [
    "face_imgs.keys()"
   ]
  },
  {
   "cell_type": "code",
   "execution_count": 17,
   "metadata": {
    "colab": {
     "base_uri": "https://localhost:8080/"
    },
    "id": "1EBMbaXtAuoR",
    "outputId": "e697326b-fb88-41f0-d743-96b2d431fa26"
   },
   "outputs": [
    {
     "data": {
      "text/plain": [
       "(5000, 1024)"
      ]
     },
     "execution_count": 17,
     "metadata": {},
     "output_type": "execute_result"
    }
   ],
   "source": [
    "data = face_imgs[\"X\"]\n",
    "data.shape"
   ]
  },
  {
   "cell_type": "code",
   "execution_count": 18,
   "metadata": {
    "colab": {
     "base_uri": "https://localhost:8080/",
     "height": 176
    },
    "id": "qyeIkypYBbiJ",
    "outputId": "7c00ff09-900c-4f55-e058-ea5de738db72"
   },
   "outputs": [
    {
     "data": {
      "text/plain": [
       "<matplotlib.image.AxesImage at 0x1a0c62e39a0>"
      ]
     },
     "execution_count": 18,
     "metadata": {},
     "output_type": "execute_result"
    },
    {
     "data": {
      "image/png": "[encoded data removed]",
      "text/plain": [
       "<Figure size 200x200 with 1 Axes>"
      ]
     },
     "metadata": {},
     "output_type": "display_data"
    }
   ],
   "source": [
    "plt.figure(figsize= (2, 2))\n",
    "plt.imshow(np.reshape(data[15, :], (32, 32)).T, cmap= \"gray\")"
   ]
  },
  {
   "cell_type": "code",
   "execution_count": 19,
   "metadata": {
    "id": "7WRgBcxNqKbZ"
   },
   "outputs": [],
   "source": [
    "scaler = preprocessing.StandardScaler().fit(data)\n",
    "data_norm = scaler.transform(data)"
   ]
  },
  {
   "cell_type": "code",
   "execution_count": 20,
   "metadata": {
    "id": "8rEHKoXBEv3S"
   },
   "outputs": [],
   "source": [
    "pca_img = PCA(n_components= 100)\n",
    "data_compressed = pca_img.fit_transform(data_norm)"
   ]
  },
  {
   "cell_type": "code",
   "execution_count": 21,
   "metadata": {
    "colab": {
     "base_uri": "https://localhost:8080/"
    },
    "id": "weBQ3I26FK1-",
    "outputId": "5c20c127-5de2-41d8-a532-616459867e12"
   },
   "outputs": [
    {
     "data": {
      "text/plain": [
       "(5000, 100)"
      ]
     },
     "execution_count": 21,
     "metadata": {},
     "output_type": "execute_result"
    }
   ],
   "source": [
    "data_compressed.shape"
   ]
  },
  {
   "cell_type": "code",
   "execution_count": 22,
   "metadata": {
    "colab": {
     "base_uri": "https://localhost:8080/",
     "height": 174
    },
    "id": "c5SwTbLzFm0y",
    "outputId": "5a387f0d-f7b9-4a0f-f509-c2999eb33da3"
   },
   "outputs": [
    {
     "data": {
      "text/plain": [
       "<matplotlib.image.AxesImage at 0x1a0c6361810>"
      ]
     },
     "execution_count": 22,
     "metadata": {},
     "output_type": "execute_result"
    },
    {
     "data": {
      "image/png": "[encoded data removed]",
      "text/plain": [
       "<Figure size 200x200 with 1 Axes>"
      ]
     },
     "metadata": {},
     "output_type": "display_data"
    }
   ],
   "source": [
    "plt.figure(figsize= (2,2))\n",
    "plt.imshow(np.reshape(data_compressed[15, :], (10, 10)).T, cmap= \"gray\")"
   ]
  },
  {
   "cell_type": "code",
   "execution_count": 23,
   "metadata": {
    "id": "O_MUUVW0F3jR"
   },
   "outputs": [],
   "source": [
    "data_recovered = pca_img.inverse_transform(data_compressed)"
   ]
  },
  {
   "cell_type": "code",
   "execution_count": 24,
   "metadata": {
    "colab": {
     "base_uri": "https://localhost:8080/",
     "height": 176
    },
    "id": "2VMhxEXIGEaH",
    "outputId": "91a0c430-f4c3-4120-9130-2c376b2cd6c6"
   },
   "outputs": [
    {
     "data": {
      "text/plain": [
       "<matplotlib.image.AxesImage at 0x1a0cf247790>"
      ]
     },
     "execution_count": 24,
     "metadata": {},
     "output_type": "execute_result"
    },
    {
     "data": {
      "image/png": "[encoded data removed]",
      "text/plain": [
       "<Figure size 200x200 with 1 Axes>"
      ]
     },
     "metadata": {},
     "output_type": "display_data"
    }
   ],
   "source": [
    "plt.figure(figsize= (2,2))\n",
    "plt.imshow(np.reshape(data_recovered[15, :], (32, 32)).T, cmap= \"gray\")"
   ]
  }
 ],
 "metadata": {
  "colab": {
   "authorship_tag": "ABX9TyMpPFAer+7blOBZ7g+uZ02E",
   "collapsed_sections": [],
   "include_colab_link": true,
   "mount_file_id": "1CShZoQXLQ2iKWtDttaoqb7YpIvkPXtqn",
   "name": "ML-course-project_8-2-PCA.ipynb",
   "provenance": []
  },
  "kernelspec": {
   "display_name": "Python 3 (ipykernel)",
   "language": "python",
   "name": "python3"
  },
  "language_info": {
   "codemirror_mode": {
    "name": "ipython",
    "version": 3
   },
   "file_extension": ".py",
   "mimetype": "text/x-python",
   "name": "python",
   "nbconvert_exporter": "python",
   "pygments_lexer": "ipython3",
   "version": "3.10.7"
  }
 },
 "nbformat": 4,
 "nbformat_minor": 4
}
