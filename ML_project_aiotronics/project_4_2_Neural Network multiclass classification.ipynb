{
 "cells": [
  {
   "cell_type": "code",
   "execution_count": 1,
   "metadata": {
    "id": "74Jx5VbWYw6a"
   },
   "outputs": [],
   "source": [
    "import numpy as np\n",
    "import matplotlib.pyplot as plt\n",
    "from scipy.io import loadmat"
   ]
  },
  {
   "cell_type": "code",
   "execution_count": 2,
   "metadata": {
    "id": "eDgzJCEy1bmq"
   },
   "outputs": [],
   "source": [
    "data = loadmat(\"project4data1.mat\")"
   ]
  },
  {
   "cell_type": "code",
   "execution_count": 3,
   "metadata": {
    "id": "6R6Ye28TuqJ5"
   },
   "outputs": [],
   "source": [
    "X = data[\"X\"]\n",
    "y = data[\"y\"]\n",
    "m = y.shape[0]"
   ]
  },
  {
   "cell_type": "code",
   "execution_count": 4,
   "metadata": {
    "colab": {
     "base_uri": "https://localhost:8080/"
    },
    "id": "NvjRWZWB1jXR",
    "outputId": "133fc0f4-9b8a-4462-81a4-8dbe8a3efae2"
   },
   "outputs": [
    {
     "data": {
      "text/plain": [
       "array([[0., 0., 0., ..., 0., 0., 0.],\n",
       "       [0., 0., 0., ..., 0., 0., 0.],\n",
       "       [0., 0., 0., ..., 0., 0., 0.],\n",
       "       ...,\n",
       "       [0., 0., 0., ..., 0., 0., 0.],\n",
       "       [0., 0., 0., ..., 0., 0., 0.],\n",
       "       [0., 0., 0., ..., 0., 0., 0.]])"
      ]
     },
     "execution_count": 4,
     "metadata": {},
     "output_type": "execute_result"
    }
   ],
   "source": [
    "X"
   ]
  },
  {
   "cell_type": "code",
   "execution_count": 5,
   "metadata": {
    "colab": {
     "base_uri": "https://localhost:8080/"
    },
    "id": "iK0KOz2o1i_p",
    "outputId": "e06cc508-f418-4816-802d-043c8bf4b49a"
   },
   "outputs": [
    {
     "data": {
      "text/plain": [
       "array([[0],\n",
       "       [0],\n",
       "       [0],\n",
       "       ...,\n",
       "       [9],\n",
       "       [9],\n",
       "       [9]], dtype=uint8)"
      ]
     },
     "execution_count": 5,
     "metadata": {},
     "output_type": "execute_result"
    }
   ],
   "source": [
    "y"
   ]
  },
  {
   "cell_type": "code",
   "execution_count": 6,
   "metadata": {
    "colab": {
     "base_uri": "https://localhost:8080/"
    },
    "id": "CoKuWXWu1ixS",
    "outputId": "b7ec156a-5505-42e1-947a-b35f6fb82082"
   },
   "outputs": [
    {
     "name": "stdout",
     "output_type": "stream",
     "text": [
      "5000\n"
     ]
    }
   ],
   "source": [
    "print(m)"
   ]
  },
  {
   "cell_type": "code",
   "execution_count": 7,
   "metadata": {
    "colab": {
     "base_uri": "https://localhost:8080/"
    },
    "id": "QYan-BsUXtF7",
    "outputId": "d00650b2-73d6-4b52-ad62-811abe3d1aa8"
   },
   "outputs": [
    {
     "name": "stdout",
     "output_type": "stream",
     "text": [
      "(5000, 400) (5000, 1)\n"
     ]
    }
   ],
   "source": [
    "print(X.shape, y.shape)"
   ]
  },
  {
   "cell_type": "code",
   "execution_count": 8,
   "metadata": {
    "colab": {
     "base_uri": "https://localhost:8080/",
     "height": 263
    },
    "id": "83NBRgD6kdih",
    "outputId": "5788c42c-8f66-4b24-856a-cbcc05211af1"
   },
   "outputs": [
    {
     "data": {
      "text/plain": [
       "Text(0.5, 1.0, '[8]')"
      ]
     },
     "execution_count": 8,
     "metadata": {},
     "output_type": "execute_result"
    },
    {
     "data": {
      "image/png": "[encoded data removed]",
      "text/plain": [
       "<Figure size 2000x200 with 1 Axes>"
      ]
     },
     "metadata": {},
     "output_type": "display_data"
    }
   ],
   "source": [
    "idx = 4261\n",
    "\n",
    "plt.figure(figsize= (20, 2))\n",
    "plt.imshow(np.reshape(X[idx], (20, 20)).T, cmap= \"gray\")\n",
    "plt.title(str(y[idx]), fontsize = 20)"
   ]
  },
  {
   "cell_type": "code",
   "execution_count": 9,
   "metadata": {
    "id": "JZqJcYT8GtX5"
   },
   "outputs": [],
   "source": [
    "weights = loadmat(\"project4-2-weights.mat\")"
   ]
  },
  {
   "cell_type": "code",
   "execution_count": 10,
   "metadata": {
    "id": "JCxn0xJe2Le6"
   },
   "outputs": [],
   "source": [
    "theta_1, theta_2 = weights[\"Theta1\"], weights[\"Theta2\"]"
   ]
  },
  {
   "cell_type": "code",
   "execution_count": 11,
   "metadata": {
    "colab": {
     "base_uri": "https://localhost:8080/"
    },
    "id": "nrildsrYZXR-",
    "outputId": "f26d38a4-0957-4135-d4ba-3fd18a25e534"
   },
   "outputs": [
    {
     "name": "stdout",
     "output_type": "stream",
     "text": [
      "(25, 401)\n",
      "(10, 26)\n"
     ]
    }
   ],
   "source": [
    "print(theta_1.shape)\n",
    "print(theta_2.shape)"
   ]
  },
  {
   "cell_type": "code",
   "execution_count": 12,
   "metadata": {
    "colab": {
     "base_uri": "https://localhost:8080/"
    },
    "id": "qn_HRnyRm4Yv",
    "outputId": "d28dc7d1-0960-47ce-cdd2-22aba626c9f6"
   },
   "outputs": [
    {
     "name": "stdout",
     "output_type": "stream",
     "text": [
      "shape of X: (5000, 400)\n",
      "shape of X[idx]: (400,)\n",
      "shape of y: (5000, 1)\n"
     ]
    }
   ],
   "source": [
    "print(\"shape of X:\", X.shape)\n",
    "print(\"shape of X[idx]:\", X[idx].shape)\n",
    "print(\"shape of y:\", y.shape)"
   ]
  },
  {
   "cell_type": "code",
   "execution_count": 13,
   "metadata": {
    "colab": {
     "base_uri": "https://localhost:8080/"
    },
    "id": "8oQBM6czX3U2",
    "outputId": "962e7ed6-ef75-4205-f6f2-195330e34010"
   },
   "outputs": [
    {
     "data": {
      "text/plain": [
       "(400, 5000)"
      ]
     },
     "execution_count": 13,
     "metadata": {},
     "output_type": "execute_result"
    }
   ],
   "source": [
    "X = np.transpose(X)\n",
    "X.shape"
   ]
  },
  {
   "cell_type": "code",
   "execution_count": 14,
   "metadata": {
    "colab": {
     "base_uri": "https://localhost:8080/"
    },
    "id": "7PYU6ii1ngSV",
    "outputId": "49ad2f9b-e408-4283-c5ff-0286560bec3d"
   },
   "outputs": [
    {
     "data": {
      "text/plain": [
       "(1, 5000)"
      ]
     },
     "execution_count": 14,
     "metadata": {},
     "output_type": "execute_result"
    }
   ],
   "source": [
    "y = np.transpose(y)\n",
    "y.shape"
   ]
  },
  {
   "cell_type": "code",
   "execution_count": 15,
   "metadata": {
    "colab": {
     "base_uri": "https://localhost:8080/"
    },
    "id": "aBnkQbn4l_lM",
    "outputId": "4b740b04-9356-4062-e95e-ae45c4a5f301"
   },
   "outputs": [
    {
     "data": {
      "text/plain": [
       "(401, 5000)"
      ]
     },
     "execution_count": 15,
     "metadata": {},
     "output_type": "execute_result"
    }
   ],
   "source": [
    "X = np.concatenate([np.ones((1, m)), X], axis= 0)\n",
    "X.shape"
   ]
  },
  {
   "cell_type": "code",
   "execution_count": 16,
   "metadata": {
    "id": "WOdDS7Y2CDRA"
   },
   "outputs": [],
   "source": [
    "def sigmoid(x):\n",
    "  g = 1 / (1 + np.exp(-x))\n",
    "  return g"
   ]
  },
  {
   "cell_type": "code",
   "execution_count": 17,
   "metadata": {
    "id": "knn8aNGkPMdW"
   },
   "outputs": [],
   "source": [
    "def predict(theta_1, theta_2, X):\n",
    "  z_2 = np.matmul(theta_1, X)\n",
    "  a_2 = sigmoid(z_2)\n",
    "  a_2 = np.concatenate([np.ones((1)), a_2], axis= 0)\n",
    "\n",
    "  z_3 = np.matmul(theta_2, a_2)\n",
    "  a_3 = sigmoid(z_3)\n",
    "\n",
    "  return a_3"
   ]
  },
  {
   "cell_type": "code",
   "execution_count": 18,
   "metadata": {
    "colab": {
     "base_uri": "https://localhost:8080/"
    },
    "id": "X2Z99-fjRZK1",
    "outputId": "ce599a6c-b2bc-41be-cafb-fa766222e152"
   },
   "outputs": [
    {
     "name": "stdout",
     "output_type": "stream",
     "text": [
      "[1.94970339e-03 1.16546312e-03 1.18914416e-02 1.53825910e-04\n",
      " 2.98165576e-03 9.86772690e-04 9.97489762e-01 3.17741985e-05\n",
      " 6.77841285e-03 1.01058090e-03]\n",
      "predicted digit:  6\n"
     ]
    }
   ],
   "source": [
    "outputs = predict(theta_1, theta_2, X[:, 3200])\n",
    "print(outputs)\n",
    "predicted_digit = np.argmax(outputs)\n",
    "print(\"predicted digit: \", predicted_digit)"
   ]
  },
  {
   "cell_type": "code",
   "execution_count": 19,
   "metadata": {
    "colab": {
     "base_uri": "https://localhost:8080/",
     "height": 263
    },
    "id": "e-xwKV_5WNrR",
    "outputId": "6c80cad7-2806-411f-cf67-272bfa150edf"
   },
   "outputs": [
    {
     "data": {
      "text/plain": [
       "Text(0.5, 1.0, '6')"
      ]
     },
     "execution_count": 19,
     "metadata": {},
     "output_type": "execute_result"
    },
    {
     "data": {
      "image/png": "[encoded data removed]",
      "text/plain": [
       "<Figure size 2000x200 with 1 Axes>"
      ]
     },
     "metadata": {},
     "output_type": "display_data"
    }
   ],
   "source": [
    "idx = 3200\n",
    "\n",
    "plt.figure(figsize= (20, 2))\n",
    "\n",
    "plt.imshow(np.reshape(X[1:, idx], (20, 20)).T, cmap= \"gray\")\n",
    "plt.title(str(y[0,idx]), fontsize = 20)"
   ]
  }
 ],
 "metadata": {
  "colab": {
   "name": "ML-course-project4-2- neural network multiclass classification.ipynb",
   "provenance": []
  },
  "kernelspec": {
   "display_name": "Python 3 (ipykernel)",
   "language": "python",
   "name": "python3"
  },
  "language_info": {
   "codemirror_mode": {
    "name": "ipython",
    "version": 3
   },
   "file_extension": ".py",
   "mimetype": "text/x-python",
   "name": "python",
   "nbconvert_exporter": "python",
   "pygments_lexer": "ipython3",
   "version": "3.10.7"
  }
 },
 "nbformat": 4,
 "nbformat_minor": 4
}
