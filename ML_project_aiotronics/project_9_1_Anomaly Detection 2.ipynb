{
 "cells": [
  {
   "cell_type": "code",
   "execution_count": 1,
   "metadata": {
    "colab": {
     "base_uri": "https://localhost:8080/"
    },
    "id": "74Jx5VbWYw6a",
    "outputId": "5c1f9361-9325-46cd-bba7-c98739b36325"
   },
   "outputs": [],
   "source": [
    "import numpy as np\n",
    "from scipy.io import loadmat\n",
    "import matplotlib.pyplot as plt\n",
    "%matplotlib inline"
   ]
  },
  {
   "cell_type": "code",
   "execution_count": 2,
   "metadata": {},
   "outputs": [],
   "source": [
    "data1 = loadmat(\"project9data2.mat\")"
   ]
  },
  {
   "cell_type": "code",
   "execution_count": 3,
   "metadata": {},
   "outputs": [
    {
     "data": {
      "text/plain": [
       "dict_keys(['__header__', '__version__', '__globals__', 'X', 'Xval', 'yval'])"
      ]
     },
     "execution_count": 3,
     "metadata": {},
     "output_type": "execute_result"
    }
   ],
   "source": [
    "data1.keys()"
   ]
  },
  {
   "cell_type": "code",
   "execution_count": 4,
   "metadata": {
    "colab": {
     "base_uri": "https://localhost:8080/"
    },
    "id": "XWhQu617o475",
    "outputId": "8b37a8e3-a608-45fc-87c1-bb48df0a0c3e"
   },
   "outputs": [
    {
     "name": "stdout",
     "output_type": "stream",
     "text": [
      "(1000, 11)\n"
     ]
    }
   ],
   "source": [
    "print(data1[\"X\"].shape)"
   ]
  },
  {
   "cell_type": "code",
   "execution_count": 5,
   "metadata": {
    "colab": {
     "base_uri": "https://localhost:8080/"
    },
    "id": "6R6Ye28TuqJ5",
    "outputId": "ed6afb5b-1800-4b35-f513-c9929ec3c8c2"
   },
   "outputs": [],
   "source": [
    "X = data1[\"X\"]\n",
    "\n",
    "X_val = data1[\"Xval\"]\n",
    "\n",
    "y_val = data1[\"yval\"]\n",
    "\n",
    "m = X.shape[0]"
   ]
  },
  {
   "cell_type": "code",
   "execution_count": 6,
   "metadata": {
    "id": "LLQ9m2wCgJH8"
   },
   "outputs": [
    {
     "data": {
      "text/plain": [
       "(1000, 11)"
      ]
     },
     "execution_count": 6,
     "metadata": {},
     "output_type": "execute_result"
    }
   ],
   "source": [
    "X.shape"
   ]
  },
  {
   "cell_type": "code",
   "execution_count": 7,
   "metadata": {},
   "outputs": [
    {
     "data": {
      "text/plain": [
       "array([[  6.65311366,  13.68970163,  17.55284534, ...,  -4.88402408,\n",
       "          5.34933534,  17.35137235],\n",
       "       [ -5.63054206, -18.93766731,  18.64462416, ...,  -2.87717344,\n",
       "         -6.00942041,  19.21063612],\n",
       "       [  9.72152507,  -9.98248898,  15.57143412, ...,   0.7275748 ,\n",
       "         10.392975  ,   7.0859949 ],\n",
       "       ...,\n",
       "       [  5.42020917,  -5.10984522,  12.19219937, ..., -13.89942441,\n",
       "          9.41801605,   1.84138358],\n",
       "       [ 11.60473151,  -9.13417459,  19.58251695, ...,   1.01426524,\n",
       "         -0.7840654 ,   6.2179038 ],\n",
       "       [  9.49130218, -12.82373283,  -0.51710828, ...,  -9.044737  ,\n",
       "          7.70413334,   3.74875986]])"
      ]
     },
     "execution_count": 7,
     "metadata": {},
     "output_type": "execute_result"
    }
   ],
   "source": [
    "X"
   ]
  },
  {
   "cell_type": "code",
   "execution_count": 8,
   "metadata": {},
   "outputs": [
    {
     "data": {
      "text/plain": [
       "array([[ 18.27128267, -12.35926827,   5.00096952, ...,  -9.47667866,\n",
       "        -25.92818273,   7.10862793],\n",
       "       [ -3.19306995, -19.70582077,   6.52855559, ..., -10.96830111,\n",
       "         -1.1986661 ,   1.90844104],\n",
       "       [ -5.25667809, -12.9187198 ,  25.43514141, ...,  -0.76875452,\n",
       "         -3.26109447,  13.72947446],\n",
       "       ...,\n",
       "       [ -5.19464242, -17.11659922,   3.52625883, ..., -10.5915166 ,\n",
       "          2.00768975,   0.72448692],\n",
       "       [  8.41538881, -11.17291978,  35.80284538, ...,  -0.41369815,\n",
       "          4.07893619,  16.03930257],\n",
       "       [ 16.34753553,   0.74515961,  26.12255377, ..., -12.02548694,\n",
       "         -5.24075631,  13.62505607]])"
      ]
     },
     "execution_count": 8,
     "metadata": {},
     "output_type": "execute_result"
    }
   ],
   "source": [
    "X_val"
   ]
  },
  {
   "cell_type": "code",
   "execution_count": 9,
   "metadata": {},
   "outputs": [
    {
     "data": {
      "text/plain": [
       "array([[1],\n",
       "       [0],\n",
       "       [0],\n",
       "       [1],\n",
       "       [0],\n",
       "       [0],\n",
       "       [0],\n",
       "       [0],\n",
       "       [0],\n",
       "       [0],\n",
       "       [0],\n",
       "       [0],\n",
       "       [0],\n",
       "       [0],\n",
       "       [0],\n",
       "       [0],\n",
       "       [0],\n",
       "       [0],\n",
       "       [0],\n",
       "       [1],\n",
       "       [0],\n",
       "       [0],\n",
       "       [0],\n",
       "       [0],\n",
       "       [0],\n",
       "       [0],\n",
       "       [0],\n",
       "       [1],\n",
       "       [0],\n",
       "       [0],\n",
       "       [0],\n",
       "       [0],\n",
       "       [0],\n",
       "       [0],\n",
       "       [0],\n",
       "       [0],\n",
       "       [0],\n",
       "       [0],\n",
       "       [1],\n",
       "       [0],\n",
       "       [0],\n",
       "       [0],\n",
       "       [0],\n",
       "       [0],\n",
       "       [0],\n",
       "       [0],\n",
       "       [0],\n",
       "       [0],\n",
       "       [0],\n",
       "       [0],\n",
       "       [0],\n",
       "       [0],\n",
       "       [0],\n",
       "       [0],\n",
       "       [0],\n",
       "       [0],\n",
       "       [0],\n",
       "       [0],\n",
       "       [0],\n",
       "       [1],\n",
       "       [0],\n",
       "       [0],\n",
       "       [0],\n",
       "       [0],\n",
       "       [0],\n",
       "       [0],\n",
       "       [0],\n",
       "       [0],\n",
       "       [0],\n",
       "       [0],\n",
       "       [0],\n",
       "       [1],\n",
       "       [0],\n",
       "       [0],\n",
       "       [0],\n",
       "       [0],\n",
       "       [0],\n",
       "       [0],\n",
       "       [0],\n",
       "       [0],\n",
       "       [0],\n",
       "       [0],\n",
       "       [0],\n",
       "       [0],\n",
       "       [0],\n",
       "       [0],\n",
       "       [0],\n",
       "       [0],\n",
       "       [1],\n",
       "       [0],\n",
       "       [0],\n",
       "       [1],\n",
       "       [1],\n",
       "       [0],\n",
       "       [0],\n",
       "       [0],\n",
       "       [0],\n",
       "       [0],\n",
       "       [0],\n",
       "       [0]], dtype=uint8)"
      ]
     },
     "execution_count": 9,
     "metadata": {},
     "output_type": "execute_result"
    }
   ],
   "source": [
    "y_val"
   ]
  },
  {
   "cell_type": "code",
   "execution_count": 10,
   "metadata": {},
   "outputs": [
    {
     "data": {
      "text/plain": [
       "1000"
      ]
     },
     "execution_count": 10,
     "metadata": {},
     "output_type": "execute_result"
    }
   ],
   "source": [
    "m"
   ]
  },
  {
   "cell_type": "code",
   "execution_count": 11,
   "metadata": {
    "colab": {
     "base_uri": "https://localhost:8080/",
     "height": 300
    },
    "id": "qDbE5_5lps5I",
    "outputId": "26386dc4-ae38-4ee8-f7e3-89773f220f71"
   },
   "outputs": [
    {
     "data": {
      "text/plain": [
       "Text(0, 0.5, 'Throughput (mb/s)')"
      ]
     },
     "execution_count": 11,
     "metadata": {},
     "output_type": "execute_result"
    },
    {
     "data": {
      "image/png": "[encoded data removed]",
      "text/plain": [
       "<Figure size 640x480 with 1 Axes>"
      ]
     },
     "metadata": {},
     "output_type": "display_data"
    }
   ],
   "source": [
    "plt.plot(X[:, 0], X[:, 1], \"m+\")\n",
    "plt.axis([0, 30, 0, 30])\n",
    "plt.xlabel(\"Latency (ms)\")\n",
    "plt.ylabel(\"Throughput (mb/s)\")"
   ]
  },
  {
   "cell_type": "code",
   "execution_count": 12,
   "metadata": {
    "colab": {
     "base_uri": "https://localhost:8080/"
    },
    "id": "5siKJ6VMmugD",
    "outputId": "5ee82463-6fde-4096-cf71-e6120d0e6bd6"
   },
   "outputs": [
    {
     "name": "stdout",
     "output_type": "stream",
     "text": [
      "(1000, 11)\n"
     ]
    }
   ],
   "source": [
    "print(X.shape)"
   ]
  },
  {
   "cell_type": "code",
   "execution_count": 13,
   "metadata": {
    "id": "vQAOsQ1si27X"
   },
   "outputs": [],
   "source": [
    "def gaussianDist(X):\n",
    "  m, n = X.shape\n",
    "  mu = np.zeros(n)\n",
    "  sigma2 = np.zeros(n)\n",
    "\n",
    "  for i in range(n):\n",
    "    mu[i] = np.sum(X[:, i]) / m\n",
    "    sigma2[i] = np.sum(np.square(X[:, i] - mu[i])) / m\n",
    "    \n",
    "  return mu, sigma2"
   ]
  },
  {
   "cell_type": "code",
   "execution_count": 14,
   "metadata": {
    "id": "_-kbf7xrjqwg"
   },
   "outputs": [],
   "source": [
    "mu, sigma2 = gaussianDist(X)"
   ]
  },
  {
   "cell_type": "code",
   "execution_count": 15,
   "metadata": {},
   "outputs": [
    {
     "data": {
      "text/plain": [
       "array([  4.93940034,  -9.63726819,  13.81470749, -10.4644888 ,\n",
       "        -7.95622922,  10.19950372,  -6.01940755,   7.96982896,\n",
       "        -6.2531819 ,   2.32451289,   8.47372252])"
      ]
     },
     "execution_count": 15,
     "metadata": {},
     "output_type": "execute_result"
    }
   ],
   "source": [
    "mu"
   ]
  },
  {
   "cell_type": "code",
   "execution_count": 16,
   "metadata": {
    "colab": {
     "base_uri": "https://localhost:8080/"
    },
    "id": "MNxr4wQjDLOW",
    "outputId": "a723ac18-de49-4928-a6a7-33791489b66d"
   },
   "outputs": [
    {
     "data": {
      "text/plain": [
       "array([60.97489373, 53.20572186, 58.51546272, 84.20403725, 65.26859177,\n",
       "       89.57487757, 55.63349911, 87.16233783, 29.62926829, 70.7852052 ,\n",
       "       50.50356719])"
      ]
     },
     "execution_count": 16,
     "metadata": {},
     "output_type": "execute_result"
    }
   ],
   "source": [
    "sigma2"
   ]
  },
  {
   "cell_type": "code",
   "execution_count": 17,
   "metadata": {
    "id": "j2lCTQ2zlvqb"
   },
   "outputs": [],
   "source": [
    "def p_x(X, mu, sigma2):\n",
    "  prob = (1 / (np.sqrt(2 * np.pi) * np.sqrt(sigma2))) * np.exp(-((X - mu) ** 2) / (2 * sigma2))\n",
    "  p_final = np.prod(prob, axis= 1)\n",
    "  return p_final"
   ]
  },
  {
   "cell_type": "code",
   "execution_count": 18,
   "metadata": {
    "id": "LlU-ZkvrqbpU"
   },
   "outputs": [],
   "source": [
    "p = p_x(X, mu, sigma2)"
   ]
  },
  {
   "cell_type": "code",
   "execution_count": 19,
   "metadata": {
    "id": "PK_n1hWlktey"
   },
   "outputs": [],
   "source": [
    "def selectThreshold(y_val, p_val):\n",
    "    best_Epsilon = 0\n",
    "    best_F1 = 0\n",
    "    F1 = 0\n",
    "    \n",
    "    for epsilon in np.linspace(1.01 * min(p_val), max(p_val), 1000):\n",
    "        predictions = (p_val < epsilon)\n",
    "        tp = np.sum((predictions == y_val) & (y_val == 1))\n",
    "        fp = np.sum((predictions == 1) & (y_val == 0))\n",
    "        fn = np.sum((predictions == 0) & (y_val == 1))\n",
    "        prec = tp / (tp + fp)\n",
    "        rec = tp / (tp + fn)\n",
    "        F1 = 2 * prec * rec / (prec + rec)\n",
    "\n",
    "        if F1 > best_F1:\n",
    "            best_F1 = F1\n",
    "            best_Epsilon = epsilon\n",
    "\n",
    "    return best_Epsilon, best_F1"
   ]
  },
  {
   "cell_type": "code",
   "execution_count": 20,
   "metadata": {
    "id": "ug-4F3T7q-S8"
   },
   "outputs": [],
   "source": [
    "p_val = p_x(X_val, mu, sigma2)\n",
    "\n",
    "epsilon, F1 = selectThreshold(y_val[:,0], p_val)"
   ]
  },
  {
   "cell_type": "code",
   "execution_count": 21,
   "metadata": {
    "colab": {
     "base_uri": "https://localhost:8080/"
    },
    "id": "eXXAGhgbsPRN",
    "outputId": "cd496bf8-88ab-4f25-ba05-36a9e538a998"
   },
   "outputs": [
    {
     "name": "stdout",
     "output_type": "stream",
     "text": [
      "Best epsilon found using cross-validation: 1.38e-18\n",
      "Best F1 on Cross Validation Set          : 0.615385\n",
      "\n",
      "\n",
      "# Outliers found: 117\n"
     ]
    }
   ],
   "source": [
    "print(\"Best epsilon found using cross-validation: %.2e\" % epsilon)\n",
    "print(\"Best F1 on Cross Validation Set          : %f\\n\" % F1)\n",
    "\n",
    "print(\"\\n# Outliers found: %d\" % np.sum(p < epsilon))"
   ]
  }
 ],
 "metadata": {
  "colab": {
   "authorship_tag": "ABX9TyPtp6rpcFhz6L2JCoUF5lfH",
   "collapsed_sections": [],
   "include_colab_link": true,
   "mount_file_id": "11m_YHw-zLFYTkvwBcJYtTwqxJjwAkfz3",
   "name": "ML-course-project_9-1-anomaly detection.ipynb",
   "provenance": []
  },
  "kernelspec": {
   "display_name": "Python 3 (ipykernel)",
   "language": "python",
   "name": "python3"
  },
  "language_info": {
   "codemirror_mode": {
    "name": "ipython",
    "version": 3
   },
   "file_extension": ".py",
   "mimetype": "text/x-python",
   "name": "python",
   "nbconvert_exporter": "python",
   "pygments_lexer": "ipython3",
   "version": "3.12.1"
  }
 },
 "nbformat": 4,
 "nbformat_minor": 4
}
