{
 "cells": [
  {
   "cell_type": "code",
   "execution_count": 1,
   "metadata": {
    "colab": {
     "base_uri": "https://localhost:8080/",
     "height": 206
    },
    "id": "DUK3rOMDIoFH",
    "outputId": "398bde47-d583-4634-baaf-47f295703082"
   },
   "outputs": [],
   "source": [
    "import numpy as np\n",
    "import pandas as pd"
   ]
  },
  {
   "cell_type": "code",
   "execution_count": 2,
   "metadata": {},
   "outputs": [],
   "source": [
    "data2 = pd.read_csv(\"project3data2.csv\")"
   ]
  },
  {
   "cell_type": "code",
   "execution_count": 3,
   "metadata": {},
   "outputs": [
    {
     "data": {
      "text/html": [
       "<div>\n",
       "<style scoped>\n",
       "    .dataframe tbody tr th:only-of-type {\n",
       "        vertical-align: middle;\n",
       "    }\n",
       "\n",
       "    .dataframe tbody tr th {\n",
       "        vertical-align: top;\n",
       "    }\n",
       "\n",
       "    .dataframe thead th {\n",
       "        text-align: right;\n",
       "    }\n",
       "</style>\n",
       "<table border=\"1\" class=\"dataframe\">\n",
       "  <thead>\n",
       "    <tr style=\"text-align: right;\">\n",
       "      <th></th>\n",
       "      <th>test1</th>\n",
       "      <th>test2</th>\n",
       "      <th>Quality</th>\n",
       "    </tr>\n",
       "  </thead>\n",
       "  <tbody>\n",
       "    <tr>\n",
       "      <th>0</th>\n",
       "      <td>0.051267</td>\n",
       "      <td>0.69956</td>\n",
       "      <td>1</td>\n",
       "    </tr>\n",
       "    <tr>\n",
       "      <th>1</th>\n",
       "      <td>-0.092742</td>\n",
       "      <td>0.68494</td>\n",
       "      <td>1</td>\n",
       "    </tr>\n",
       "    <tr>\n",
       "      <th>2</th>\n",
       "      <td>-0.213710</td>\n",
       "      <td>0.69225</td>\n",
       "      <td>1</td>\n",
       "    </tr>\n",
       "    <tr>\n",
       "      <th>3</th>\n",
       "      <td>-0.375000</td>\n",
       "      <td>0.50219</td>\n",
       "      <td>1</td>\n",
       "    </tr>\n",
       "    <tr>\n",
       "      <th>4</th>\n",
       "      <td>-0.513250</td>\n",
       "      <td>0.46564</td>\n",
       "      <td>1</td>\n",
       "    </tr>\n",
       "  </tbody>\n",
       "</table>\n",
       "</div>"
      ],
      "text/plain": [
       "      test1    test2  Quality\n",
       "0  0.051267  0.69956        1\n",
       "1 -0.092742  0.68494        1\n",
       "2 -0.213710  0.69225        1\n",
       "3 -0.375000  0.50219        1\n",
       "4 -0.513250  0.46564        1"
      ]
     },
     "execution_count": 3,
     "metadata": {},
     "output_type": "execute_result"
    }
   ],
   "source": [
    "data2.head()"
   ]
  },
  {
   "cell_type": "code",
   "execution_count": 4,
   "metadata": {
    "id": "LzpnWw1VIoFH"
   },
   "outputs": [],
   "source": [
    "X = data2.values[:, 0:2]\n",
    "y = data2.values[:, 2]\n",
    "m = y.shape[0]"
   ]
  },
  {
   "cell_type": "code",
   "execution_count": 5,
   "metadata": {},
   "outputs": [
    {
     "data": {
      "text/plain": [
       "array([[ 0.051267 ,  0.69956  ],\n",
       "       [-0.092742 ,  0.68494  ],\n",
       "       [-0.21371  ,  0.69225  ],\n",
       "       [-0.375    ,  0.50219  ],\n",
       "       [-0.51325  ,  0.46564  ],\n",
       "       [-0.52477  ,  0.2098   ],\n",
       "       [-0.39804  ,  0.034357 ],\n",
       "       [-0.30588  , -0.19225  ],\n",
       "       [ 0.016705 , -0.40424  ],\n",
       "       [ 0.13191  , -0.51389  ],\n",
       "       [ 0.38537  , -0.56506  ],\n",
       "       [ 0.52938  , -0.5212   ],\n",
       "       [ 0.63882  , -0.24342  ],\n",
       "       [ 0.73675  , -0.18494  ],\n",
       "       [ 0.54666  ,  0.48757  ],\n",
       "       [ 0.322    ,  0.5826   ],\n",
       "       [ 0.16647  ,  0.53874  ],\n",
       "       [-0.046659 ,  0.81652  ],\n",
       "       [-0.17339  ,  0.69956  ],\n",
       "       [-0.47869  ,  0.63377  ],\n",
       "       [-0.60541  ,  0.59722  ],\n",
       "       [-0.62846  ,  0.33406  ],\n",
       "       [-0.59389  ,  0.005117 ],\n",
       "       [-0.42108  , -0.27266  ],\n",
       "       [-0.11578  , -0.39693  ],\n",
       "       [ 0.20104  , -0.60161  ],\n",
       "       [ 0.46601  , -0.53582  ],\n",
       "       [ 0.67339  , -0.53582  ],\n",
       "       [-0.13882  ,  0.54605  ],\n",
       "       [-0.29435  ,  0.77997  ],\n",
       "       [-0.26555  ,  0.96272  ],\n",
       "       [-0.16187  ,  0.8019   ],\n",
       "       [-0.17339  ,  0.64839  ],\n",
       "       [-0.28283  ,  0.47295  ],\n",
       "       [-0.36348  ,  0.31213  ],\n",
       "       [-0.30012  ,  0.027047 ],\n",
       "       [-0.23675  , -0.21418  ],\n",
       "       [-0.06394  , -0.18494  ],\n",
       "       [ 0.062788 , -0.16301  ],\n",
       "       [ 0.22984  , -0.41155  ],\n",
       "       [ 0.2932   , -0.2288   ],\n",
       "       [ 0.48329  , -0.18494  ],\n",
       "       [ 0.64459  , -0.14108  ],\n",
       "       [ 0.46025  ,  0.012427 ],\n",
       "       [ 0.6273   ,  0.15863  ],\n",
       "       [ 0.57546  ,  0.26827  ],\n",
       "       [ 0.72523  ,  0.44371  ],\n",
       "       [ 0.22408  ,  0.52412  ],\n",
       "       [ 0.44297  ,  0.67032  ],\n",
       "       [ 0.322    ,  0.69225  ],\n",
       "       [ 0.13767  ,  0.57529  ],\n",
       "       [-0.0063364,  0.39985  ],\n",
       "       [-0.092742 ,  0.55336  ],\n",
       "       [-0.20795  ,  0.35599  ],\n",
       "       [-0.20795  ,  0.17325  ],\n",
       "       [-0.43836  ,  0.21711  ],\n",
       "       [-0.21947  , -0.016813 ],\n",
       "       [-0.13882  , -0.27266  ],\n",
       "       [ 0.18376  ,  0.93348  ],\n",
       "       [ 0.22408  ,  0.77997  ],\n",
       "       [ 0.29896  ,  0.61915  ],\n",
       "       [ 0.50634  ,  0.75804  ],\n",
       "       [ 0.61578  ,  0.7288   ],\n",
       "       [ 0.60426  ,  0.59722  ],\n",
       "       [ 0.76555  ,  0.50219  ],\n",
       "       [ 0.92684  ,  0.3633   ],\n",
       "       [ 0.82316  ,  0.27558  ],\n",
       "       [ 0.96141  ,  0.085526 ],\n",
       "       [ 0.93836  ,  0.012427 ],\n",
       "       [ 0.86348  , -0.082602 ],\n",
       "       [ 0.89804  , -0.20687  ],\n",
       "       [ 0.85196  , -0.36769  ],\n",
       "       [ 0.82892  , -0.5212   ],\n",
       "       [ 0.79435  , -0.55775  ],\n",
       "       [ 0.59274  , -0.7405   ],\n",
       "       [ 0.51786  , -0.5943   ],\n",
       "       [ 0.46601  , -0.41886  ],\n",
       "       [ 0.35081  , -0.57968  ],\n",
       "       [ 0.28744  , -0.76974  ],\n",
       "       [ 0.085829 , -0.75512  ],\n",
       "       [ 0.14919  , -0.57968  ],\n",
       "       [-0.13306  , -0.4481   ],\n",
       "       [-0.40956  , -0.41155  ],\n",
       "       [-0.39228  , -0.25804  ],\n",
       "       [-0.74366  , -0.25804  ],\n",
       "       [-0.69758  ,  0.041667 ],\n",
       "       [-0.75518  ,  0.2902   ],\n",
       "       [-0.69758  ,  0.68494  ],\n",
       "       [-0.4038   ,  0.70687  ],\n",
       "       [-0.38076  ,  0.91886  ],\n",
       "       [-0.50749  ,  0.90424  ],\n",
       "       [-0.54781  ,  0.70687  ],\n",
       "       [ 0.10311  ,  0.77997  ],\n",
       "       [ 0.057028 ,  0.91886  ],\n",
       "       [-0.10426  ,  0.99196  ],\n",
       "       [-0.081221 ,  1.1089   ],\n",
       "       [ 0.28744  ,  1.087    ],\n",
       "       [ 0.39689  ,  0.82383  ],\n",
       "       [ 0.63882  ,  0.88962  ],\n",
       "       [ 0.82316  ,  0.66301  ],\n",
       "       [ 0.67339  ,  0.64108  ],\n",
       "       [ 1.0709   ,  0.10015  ],\n",
       "       [-0.046659 , -0.57968  ],\n",
       "       [-0.23675  , -0.63816  ],\n",
       "       [-0.15035  , -0.36769  ],\n",
       "       [-0.49021  , -0.3019   ],\n",
       "       [-0.46717  , -0.13377  ],\n",
       "       [-0.28859  , -0.060673 ],\n",
       "       [-0.61118  , -0.067982 ],\n",
       "       [-0.66302  , -0.21418  ],\n",
       "       [-0.59965  , -0.41886  ],\n",
       "       [-0.72638  , -0.082602 ],\n",
       "       [-0.83007  ,  0.31213  ],\n",
       "       [-0.72062  ,  0.53874  ],\n",
       "       [-0.59389  ,  0.49488  ],\n",
       "       [-0.48445  ,  0.99927  ],\n",
       "       [-0.0063364,  0.99927  ],\n",
       "       [ 0.63265  , -0.030612 ]])"
      ]
     },
     "execution_count": 5,
     "metadata": {},
     "output_type": "execute_result"
    }
   ],
   "source": [
    "X"
   ]
  },
  {
   "cell_type": "code",
   "execution_count": 6,
   "metadata": {},
   "outputs": [
    {
     "data": {
      "text/plain": [
       "array([1., 1., 1., 1., 1., 1., 1., 1., 1., 1., 1., 1., 1., 1., 1., 1., 1.,\n",
       "       1., 1., 1., 1., 1., 1., 1., 1., 1., 1., 1., 1., 1., 1., 1., 1., 1.,\n",
       "       1., 1., 1., 1., 1., 1., 1., 1., 1., 1., 1., 1., 1., 1., 1., 1., 1.,\n",
       "       1., 1., 1., 1., 1., 1., 1., 0., 0., 0., 0., 0., 0., 0., 0., 0., 0.,\n",
       "       0., 0., 0., 0., 0., 0., 0., 0., 0., 0., 0., 0., 0., 0., 0., 0., 0.,\n",
       "       0., 0., 0., 0., 0., 0., 0., 0., 0., 0., 0., 0., 0., 0., 0., 0., 0.,\n",
       "       0., 0., 0., 0., 0., 0., 0., 0., 0., 0., 0., 0., 0., 0., 0., 0.])"
      ]
     },
     "execution_count": 6,
     "metadata": {},
     "output_type": "execute_result"
    }
   ],
   "source": [
    "y"
   ]
  },
  {
   "cell_type": "code",
   "execution_count": 7,
   "metadata": {},
   "outputs": [
    {
     "data": {
      "text/plain": [
       "118"
      ]
     },
     "execution_count": 7,
     "metadata": {},
     "output_type": "execute_result"
    }
   ],
   "source": [
    "m"
   ]
  },
  {
   "cell_type": "code",
   "execution_count": 8,
   "metadata": {
    "id": "6AR8ilMNPNKZ"
   },
   "outputs": [],
   "source": [
    "def mapFeature(X, degree= 6):\n",
    "    X_1 = X[:,0]\n",
    "    X_2 = X[:,1]\n",
    "    if X_1.ndim > 0:\n",
    "        out = [np.ones(X_1.shape[0])]\n",
    "    else:\n",
    "        out = [np.ones(1)]\n",
    "\n",
    "    for i in range(1, degree + 1):\n",
    "        for j in range(i + 1):\n",
    "            out.append((X_1 ** (i - j)) * (X_2 ** j))\n",
    "\n",
    "    if X_1.ndim > 0:\n",
    "        return np.stack(out, axis= 1)\n",
    "    else:\n",
    "        return np.array(out)"
   ]
  },
  {
   "cell_type": "code",
   "execution_count": 9,
   "metadata": {
    "colab": {
     "base_uri": "https://localhost:8080/"
    },
    "id": "tI1x1poAPYPx",
    "outputId": "a84ff6ba-fb64-4dd4-df32-4e6aafa5fce2"
   },
   "outputs": [
    {
     "name": "stdout",
     "output_type": "stream",
     "text": [
      "(118, 28)\n"
     ]
    }
   ],
   "source": [
    "X = mapFeature(X, 6)\n",
    "print(X.shape)"
   ]
  },
  {
   "cell_type": "code",
   "execution_count": 10,
   "metadata": {
    "colab": {
     "base_uri": "https://localhost:8080/"
    },
    "id": "xtG7-x17PYP7",
    "outputId": "69ff9497-8ebc-4b5e-8f74-61c5b8b27aae"
   },
   "outputs": [
    {
     "name": "stdout",
     "output_type": "stream",
     "text": [
      "shape of X: (118, 28)\n",
      "shape of y: (118,)\n"
     ]
    }
   ],
   "source": [
    "print(\"shape of X:\", X.shape)\n",
    "print(\"shape of y:\", y.shape)"
   ]
  },
  {
   "cell_type": "code",
   "execution_count": 11,
   "metadata": {},
   "outputs": [],
   "source": [
    "from sklearn import linear_model"
   ]
  },
  {
   "cell_type": "code",
   "execution_count": 12,
   "metadata": {
    "colab": {
     "base_uri": "https://localhost:8080/",
     "height": 75
    },
    "id": "SqLE-T_DHFVA",
    "outputId": "0d738460-0c73-42a9-dfff-0a04991dcde2"
   },
   "outputs": [
    {
     "data": {
      "text/html": [
       "<style>#sk-container-id-1 {color: black;background-color: white;}#sk-container-id-1 pre{padding: 0;}#sk-container-id-1 div.sk-toggleable {background-color: white;}#sk-container-id-1 label.sk-toggleable__label {cursor: pointer;display: block;width: 100%;margin-bottom: 0;padding: 0.3em;box-sizing: border-box;text-align: center;}#sk-container-id-1 label.sk-toggleable__label-arrow:before {content: \"▸\";float: left;margin-right: 0.25em;color: #696969;}#sk-container-id-1 label.sk-toggleable__label-arrow:hover:before {color: black;}#sk-container-id-1 div.sk-estimator:hover label.sk-toggleable__label-arrow:before {color: black;}#sk-container-id-1 div.sk-toggleable__content {max-height: 0;max-width: 0;overflow: hidden;text-align: left;background-color: #f0f8ff;}#sk-container-id-1 div.sk-toggleable__content pre {margin: 0.2em;color: black;border-radius: 0.25em;background-color: #f0f8ff;}#sk-container-id-1 input.sk-toggleable__control:checked~div.sk-toggleable__content {max-height: 200px;max-width: 100%;overflow: auto;}#sk-container-id-1 input.sk-toggleable__control:checked~label.sk-toggleable__label-arrow:before {content: \"▾\";}#sk-container-id-1 div.sk-estimator input.sk-toggleable__control:checked~label.sk-toggleable__label {background-color: #d4ebff;}#sk-container-id-1 div.sk-label input.sk-toggleable__control:checked~label.sk-toggleable__label {background-color: #d4ebff;}#sk-container-id-1 input.sk-hidden--visually {border: 0;clip: rect(1px 1px 1px 1px);clip: rect(1px, 1px, 1px, 1px);height: 1px;margin: -1px;overflow: hidden;padding: 0;position: absolute;width: 1px;}#sk-container-id-1 div.sk-estimator {font-family: monospace;background-color: #f0f8ff;border: 1px dotted black;border-radius: 0.25em;box-sizing: border-box;margin-bottom: 0.5em;}#sk-container-id-1 div.sk-estimator:hover {background-color: #d4ebff;}#sk-container-id-1 div.sk-parallel-item::after {content: \"\";width: 100%;border-bottom: 1px solid gray;flex-grow: 1;}#sk-container-id-1 div.sk-label:hover label.sk-toggleable__label {background-color: #d4ebff;}#sk-container-id-1 div.sk-serial::before {content: \"\";position: absolute;border-left: 1px solid gray;box-sizing: border-box;top: 0;bottom: 0;left: 50%;z-index: 0;}#sk-container-id-1 div.sk-serial {display: flex;flex-direction: column;align-items: center;background-color: white;padding-right: 0.2em;padding-left: 0.2em;position: relative;}#sk-container-id-1 div.sk-item {position: relative;z-index: 1;}#sk-container-id-1 div.sk-parallel {display: flex;align-items: stretch;justify-content: center;background-color: white;position: relative;}#sk-container-id-1 div.sk-item::before, #sk-container-id-1 div.sk-parallel-item::before {content: \"\";position: absolute;border-left: 1px solid gray;box-sizing: border-box;top: 0;bottom: 0;left: 50%;z-index: -1;}#sk-container-id-1 div.sk-parallel-item {display: flex;flex-direction: column;z-index: 1;position: relative;background-color: white;}#sk-container-id-1 div.sk-parallel-item:first-child::after {align-self: flex-end;width: 50%;}#sk-container-id-1 div.sk-parallel-item:last-child::after {align-self: flex-start;width: 50%;}#sk-container-id-1 div.sk-parallel-item:only-child::after {width: 0;}#sk-container-id-1 div.sk-dashed-wrapped {border: 1px dashed gray;margin: 0 0.4em 0.5em 0.4em;box-sizing: border-box;padding-bottom: 0.4em;background-color: white;}#sk-container-id-1 div.sk-label label {font-family: monospace;font-weight: bold;display: inline-block;line-height: 1.2em;}#sk-container-id-1 div.sk-label-container {text-align: center;}#sk-container-id-1 div.sk-container {/* jupyter's `normalize.less` sets `[hidden] { display: none; }` but bootstrap.min.css set `[hidden] { display: none !important; }` so we also need the `!important` here to be able to override the default hidden behavior on the sphinx rendered scikit-learn.org. See: https://github.com/scikit-learn/scikit-learn/issues/21755 */display: inline-block !important;position: relative;}#sk-container-id-1 div.sk-text-repr-fallback {display: none;}</style><div id=\"sk-container-id-1\" class=\"sk-top-container\"><div class=\"sk-text-repr-fallback\"><pre>LogisticRegression()</pre><b>In a Jupyter environment, please rerun this cell to show the HTML representation or trust the notebook. <br />On GitHub, the HTML representation is unable to render, please try loading this page with nbviewer.org.</b></div><div class=\"sk-container\" hidden><div class=\"sk-item\"><div class=\"sk-estimator sk-toggleable\"><input class=\"sk-toggleable__control sk-hidden--visually\" id=\"sk-estimator-id-1\" type=\"checkbox\" checked><label for=\"sk-estimator-id-1\" class=\"sk-toggleable__label sk-toggleable__label-arrow\">LogisticRegression</label><div class=\"sk-toggleable__content\"><pre>LogisticRegression()</pre></div></div></div></div></div>"
      ],
      "text/plain": [
       "LogisticRegression()"
      ]
     },
     "execution_count": 12,
     "metadata": {},
     "output_type": "execute_result"
    }
   ],
   "source": [
    "model = linear_model.LogisticRegression()\n",
    "model.fit(X, y)"
   ]
  },
  {
   "cell_type": "code",
   "execution_count": 13,
   "metadata": {
    "colab": {
     "base_uri": "https://localhost:8080/"
    },
    "id": "hjFl_NVtINQR",
    "outputId": "a31a7899-b4dd-4dbc-c9fc-20f9511ad3fd"
   },
   "outputs": [
    {
     "data": {
      "text/plain": [
       "array([1.])"
      ]
     },
     "execution_count": 13,
     "metadata": {},
     "output_type": "execute_result"
    }
   ],
   "source": [
    "test_1 = 0.25\n",
    "test_2 = 0.25\n",
    "model.predict(mapFeature(np.array([test_1, test_2], ndmin= 2)))"
   ]
  }
 ],
 "metadata": {
  "colab": {
   "name": "ML-course-project3-logistic-regression.ipynb",
   "provenance": []
  },
  "kernelspec": {
   "display_name": "Python 3 (ipykernel)",
   "language": "python",
   "name": "python3"
  },
  "language_info": {
   "codemirror_mode": {
    "name": "ipython",
    "version": 3
   },
   "file_extension": ".py",
   "mimetype": "text/x-python",
   "name": "python",
   "nbconvert_exporter": "python",
   "pygments_lexer": "ipython3",
   "version": "3.10.7"
  }
 },
 "nbformat": 4,
 "nbformat_minor": 4
}
