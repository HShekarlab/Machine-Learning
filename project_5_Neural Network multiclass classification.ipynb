{
 "cells": [
  {
   "cell_type": "code",
   "execution_count": 1,
   "metadata": {
    "id": "YAvhEPGx31Ak"
   },
   "outputs": [],
   "source": [
    "import numpy as np\n",
    "from scipy.io import loadmat\n",
    "import matplotlib.pyplot as plt"
   ]
  },
  {
   "cell_type": "code",
   "execution_count": 2,
   "metadata": {
    "id": "74Jx5VbWYw6a"
   },
   "outputs": [],
   "source": [
    "data = loadmat(\"/content/project4data1.mat\")"
   ]
  },
  {
   "cell_type": "code",
   "execution_count": 3,
   "metadata": {
    "id": "6R6Ye28TuqJ5"
   },
   "outputs": [],
   "source": [
    "X = data[\"X\"]\n",
    "y = data[\"y\"]\n",
    "m = y.shape[0]"
   ]
  },
  {
   "cell_type": "code",
   "execution_count": 4,
   "metadata": {
    "colab": {
     "base_uri": "https://localhost:8080/"
    },
    "id": "xzMetBYH4OnR",
    "outputId": "3dc77b84-cd94-4343-8471-1a54f5a9e3bb"
   },
   "outputs": [
    {
     "data": {
      "text/plain": [
       "array([[0., 0., 0., ..., 0., 0., 0.],\n",
       "       [0., 0., 0., ..., 0., 0., 0.],\n",
       "       [0., 0., 0., ..., 0., 0., 0.],\n",
       "       ...,\n",
       "       [0., 0., 0., ..., 0., 0., 0.],\n",
       "       [0., 0., 0., ..., 0., 0., 0.],\n",
       "       [0., 0., 0., ..., 0., 0., 0.]])"
      ]
     },
     "execution_count": 4,
     "metadata": {},
     "output_type": "execute_result"
    }
   ],
   "source": [
    "X"
   ]
  },
  {
   "cell_type": "code",
   "execution_count": 5,
   "metadata": {
    "colab": {
     "base_uri": "https://localhost:8080/"
    },
    "id": "LCFIMwr44OF5",
    "outputId": "f6e09092-5fab-4f8a-d017-c4bef394b7cc"
   },
   "outputs": [
    {
     "data": {
      "text/plain": [
       "array([[0],\n",
       "       [0],\n",
       "       [0],\n",
       "       ...,\n",
       "       [9],\n",
       "       [9],\n",
       "       [9]], dtype=uint8)"
      ]
     },
     "execution_count": 5,
     "metadata": {},
     "output_type": "execute_result"
    }
   ],
   "source": [
    "y"
   ]
  },
  {
   "cell_type": "code",
   "execution_count": 6,
   "metadata": {
    "colab": {
     "base_uri": "https://localhost:8080/"
    },
    "id": "CbwtoOiT4N3s",
    "outputId": "a6adb634-2c08-4e6d-b450-cefae91696c0"
   },
   "outputs": [
    {
     "data": {
      "text/plain": [
       "5000"
      ]
     },
     "execution_count": 6,
     "metadata": {},
     "output_type": "execute_result"
    }
   ],
   "source": [
    "m"
   ]
  },
  {
   "cell_type": "code",
   "execution_count": 7,
   "metadata": {
    "colab": {
     "base_uri": "https://localhost:8080/"
    },
    "id": "QYan-BsUXtF7",
    "outputId": "6b851585-fde0-48c5-f869-7335ed014c10"
   },
   "outputs": [
    {
     "name": "stdout",
     "output_type": "stream",
     "text": [
      "(5000, 400) (5000, 1)\n"
     ]
    }
   ],
   "source": [
    "print(X.shape, y.shape)"
   ]
  },
  {
   "cell_type": "code",
   "execution_count": 8,
   "metadata": {
    "colab": {
     "base_uri": "https://localhost:8080/",
     "height": 263
    },
    "id": "83NBRgD6kdih",
    "outputId": "db312c83-be71-4820-edfc-d48121e7adbf"
   },
   "outputs": [
    {
     "data": {
      "text/plain": [
       "Text(0.5, 1.0, '[5]')"
      ]
     },
     "execution_count": 8,
     "metadata": {},
     "output_type": "execute_result"
    },
    {
     "data": {
      "image/png": "[encoded data removed]",
      "text/plain": [
       "<Figure size 2000x200 with 1 Axes>"
      ]
     },
     "metadata": {},
     "output_type": "display_data"
    }
   ],
   "source": [
    "idx = 2600\n",
    "\n",
    "plt.figure(figsize= (20, 2))\n",
    "\n",
    "plt.imshow(np.reshape(X[idx], (20, 20)).T, cmap= \"gray\")\n",
    "plt.title(str(y[idx]), fontsize = 20)"
   ]
  },
  {
   "cell_type": "code",
   "execution_count": 9,
   "metadata": {
    "colab": {
     "base_uri": "https://localhost:8080/"
    },
    "id": "qn_HRnyRm4Yv",
    "outputId": "f0d4fc53-99dc-4f93-9c25-24dec3d734a8"
   },
   "outputs": [
    {
     "name": "stdout",
     "output_type": "stream",
     "text": [
      "shape of X: (5000, 400)\n",
      "shape of X[idx]: (400,)\n",
      "shape of y: (5000, 1)\n"
     ]
    }
   ],
   "source": [
    "print(\"shape of X:\", X.shape)\n",
    "print(\"shape of X[idx]:\", X[idx].shape)\n",
    "print(\"shape of y:\", y.shape)\n"
   ]
  },
  {
   "cell_type": "code",
   "execution_count": 10,
   "metadata": {
    "colab": {
     "base_uri": "https://localhost:8080/"
    },
    "id": "8oQBM6czX3U2",
    "outputId": "289c3adb-d2f1-4af6-971c-5ec73c11f47c"
   },
   "outputs": [
    {
     "data": {
      "text/plain": [
       "(400, 5000)"
      ]
     },
     "execution_count": 10,
     "metadata": {},
     "output_type": "execute_result"
    }
   ],
   "source": [
    "X = np.transpose(X)\n",
    "X.shape"
   ]
  },
  {
   "cell_type": "code",
   "execution_count": 11,
   "metadata": {
    "colab": {
     "base_uri": "https://localhost:8080/"
    },
    "id": "7PYU6ii1ngSV",
    "outputId": "4bf2f8c0-512a-4ce2-8e99-578793aff7b1"
   },
   "outputs": [
    {
     "data": {
      "text/plain": [
       "(1, 5000)"
      ]
     },
     "execution_count": 11,
     "metadata": {},
     "output_type": "execute_result"
    }
   ],
   "source": [
    "y = np.transpose(y)\n",
    "y.shape"
   ]
  },
  {
   "cell_type": "code",
   "execution_count": 12,
   "metadata": {
    "colab": {
     "base_uri": "https://localhost:8080/"
    },
    "id": "aBnkQbn4l_lM",
    "outputId": "cc344849-f81d-4ada-b4de-e8435d3dadbe"
   },
   "outputs": [
    {
     "data": {
      "text/plain": [
       "(401, 5000)"
      ]
     },
     "execution_count": 12,
     "metadata": {},
     "output_type": "execute_result"
    }
   ],
   "source": [
    "X = np.concatenate([np.ones((1, m)), X], axis= 0)\n",
    "X.shape"
   ]
  },
  {
   "cell_type": "code",
   "execution_count": 13,
   "metadata": {
    "colab": {
     "base_uri": "https://localhost:8080/"
    },
    "id": "-mwJTTOu_PHM",
    "outputId": "f9a35565-f475-4409-8c08-5dfc0bd3d991"
   },
   "outputs": [
    {
     "data": {
      "text/plain": [
       "3"
      ]
     },
     "execution_count": 13,
     "metadata": {},
     "output_type": "execute_result"
    }
   ],
   "source": [
    "y[0,1600]"
   ]
  },
  {
   "cell_type": "code",
   "execution_count": 14,
   "metadata": {
    "colab": {
     "base_uri": "https://localhost:8080/"
    },
    "id": "r0PwHO1DEjyd",
    "outputId": "f5d83378-27c5-45ec-fe39-eafae20b2769"
   },
   "outputs": [
    {
     "name": "stdout",
     "output_type": "stream",
     "text": [
      "[[0 0 0 ... 9 9 9]]\n",
      "(10, 5000, 1)\n"
     ]
    }
   ],
   "source": [
    "y_onehot = np.eye(10)[y].T\n",
    "print(y)\n",
    "print(y_onehot.shape)"
   ]
  },
  {
   "cell_type": "code",
   "execution_count": 15,
   "metadata": {
    "colab": {
     "base_uri": "https://localhost:8080/"
    },
    "id": "F_cKIjkw2BHm",
    "outputId": "b6e2ec90-b3d6-4bba-a60a-d4c0ab005e09"
   },
   "outputs": [
    {
     "name": "stdout",
     "output_type": "stream",
     "text": [
      "(10, 5000)\n"
     ]
    }
   ],
   "source": [
    "y_onehot = y_onehot[:,:,0]\n",
    "print(y_onehot.shape)\n"
   ]
  },
  {
   "cell_type": "code",
   "execution_count": 16,
   "metadata": {
    "colab": {
     "base_uri": "https://localhost:8080/"
    },
    "id": "a7xjT7fvBc4f",
    "outputId": "bbe35ff1-80f3-495a-afe5-b3c367bdac5c"
   },
   "outputs": [
    {
     "data": {
      "text/plain": [
       "array([[9, 9, 9, 9, 9]], dtype=uint8)"
      ]
     },
     "execution_count": 16,
     "metadata": {},
     "output_type": "execute_result"
    }
   ],
   "source": [
    "y[:,4995:5000]"
   ]
  },
  {
   "cell_type": "code",
   "execution_count": 17,
   "metadata": {
    "colab": {
     "base_uri": "https://localhost:8080/"
    },
    "id": "SOo6iKaVGdr1",
    "outputId": "892c29ae-10da-482b-c641-21133c99b819"
   },
   "outputs": [
    {
     "data": {
      "text/plain": [
       "array([[0., 0., 0., 0., 0.],\n",
       "       [0., 0., 0., 0., 0.],\n",
       "       [0., 0., 0., 0., 0.],\n",
       "       [0., 0., 0., 0., 0.],\n",
       "       [0., 0., 0., 0., 0.],\n",
       "       [0., 0., 0., 0., 0.],\n",
       "       [0., 0., 0., 0., 0.],\n",
       "       [0., 0., 0., 0., 0.],\n",
       "       [0., 0., 0., 0., 0.],\n",
       "       [1., 1., 1., 1., 1.]])"
      ]
     },
     "execution_count": 17,
     "metadata": {},
     "output_type": "execute_result"
    }
   ],
   "source": [
    "y_onehot[:, 4995:5000]"
   ]
  },
  {
   "cell_type": "code",
   "execution_count": 18,
   "metadata": {
    "id": "WOdDS7Y2CDRA"
   },
   "outputs": [],
   "source": [
    "def sigmoid(x):\n",
    "  g = 1 / (1 + np.exp(-x))\n",
    "  return g"
   ]
  },
  {
   "cell_type": "code",
   "execution_count": 19,
   "metadata": {
    "id": "pzGkIj5f79HC"
   },
   "outputs": [],
   "source": [
    "def nnCostGrad(X, y_onehot, theta_1, theta_2, lambda_):\n",
    "  m = X.shape[1]\n",
    "  sum_Cost_m = 0\n",
    "  theta_1_temp = theta_1.copy()\n",
    "  theta_2_temp = theta_2.copy()\n",
    "  theta_1_grad = np.zeros(theta_1.shape)\n",
    "  theta_2_grad = np.zeros(theta_2.shape)\n",
    "  for i in range(m):\n",
    "    a_1 = X[:, i]\n",
    "    z_2 = np.matmul(theta_1_temp, a_1)\n",
    "    a_2 = sigmoid(z_2)\n",
    "    a_2 = np.concatenate([np.ones((1)), a_2], axis= 0)\n",
    "    z_3 = np.matmul(theta_2_temp, a_2)\n",
    "    a_3 = sigmoid(z_3)\n",
    "    sum_Cost_m = sum_Cost_m + y_onehot[:, i] * np.log(a_3) + (1 - y_onehot[:, i]) * np.log(1 - a_3)\n",
    "    delta_3 = a_3 - y_onehot[:, i]\n",
    "    delta_2 = np.matmul(theta_2_temp.T, delta_3) * (a_2 * (1 - a_2))\n",
    "    delta_2 = delta_2[1:]\n",
    "    delta_2 = delta_2.reshape((delta_2.shape[0], 1))\n",
    "    a_1 = a_1.reshape((a_1.shape[0], 1))\n",
    "    theta_1_grad = theta_1_grad + np.matmul(delta_2, a_1.T)\n",
    "    delta_3 = delta_3.reshape((delta_3.shape[0], 1))\n",
    "    a_2 = a_2.reshape((a_2.shape[0], 1))\n",
    "    theta_2_grad = theta_2_grad + np.matmul(delta_3, a_2.T)\n",
    "\n",
    "  sum_Cost_m_k = np.sum(sum_Cost_m, axis= 0)\n",
    "  cost = (-1 / m) * sum_Cost_m_k + (lambda_ / (2 * m)) * (np.sum(theta_1_temp[:, 1:] ** 2) + np.sum(theta_2_temp[:, 1:] ** 2))\n",
    "  theta_1_grad[:, 1:] = theta_1_grad[:, 1:] + lambda_ * theta_1_temp[:, 1:]\n",
    "  theta_2_grad[:,1:] = theta_2_grad[:, 1:] + lambda_ * theta_2_temp[:, 1:]\n",
    "\n",
    "  theta_1_grad = theta_1_grad / m\n",
    "  theta_2_grad = theta_2_grad / m\n",
    "\n",
    "  return cost, theta_1_grad, theta_2_grad"
   ]
  },
  {
   "cell_type": "code",
   "execution_count": 20,
   "metadata": {
    "id": "c8n8OQhgXLhs"
   },
   "outputs": [],
   "source": [
    "def train(X, y_onehot, nnCostGrad, theta_1, theta_2, epochs, lr, lambda_):\n",
    "  J_history=[]\n",
    "  for epoch in range(epochs):\n",
    "    cost, theta_1_grad, theta_2_grad = nnCostGrad(X, y_onehot, theta_1, theta_2, lambda_)\n",
    "    theta_1 = theta_1 - lr * theta_1_grad\n",
    "    theta_2 = theta_2 - lr * theta_2_grad\n",
    "    J_history.append(cost)\n",
    "    print(\"cost at epoch {} : {}\".format(epoch, cost))\n",
    "  return theta_1, theta_2, J_history"
   ]
  },
  {
   "cell_type": "code",
   "execution_count": 21,
   "metadata": {
    "id": "J-dbQQFmpnDE"
   },
   "outputs": [],
   "source": [
    "in_layer_size = 400\n",
    "hid_layer_size = 25\n",
    "out_layer_size = 10\n",
    "eps = 0.1\n",
    "theta_1 = np.random.rand(hid_layer_size, in_layer_size + 1) * (2 * eps) - eps\n",
    "theta_2 = np.random.rand(out_layer_size, hid_layer_size + 1) * (2 * eps) - eps"
   ]
  },
  {
   "cell_type": "code",
   "execution_count": 22,
   "metadata": {
    "colab": {
     "base_uri": "https://localhost:8080/"
    },
    "id": "9HBDi3DZYd4T",
    "outputId": "4684e9df-d044-4c49-cc07-b7669f1fe7f1"
   },
   "outputs": [
    {
     "name": "stdout",
     "output_type": "stream",
     "text": [
      "cost at epoch 0 : 6.974659080311008\n",
      "cost at epoch 1 : 3.3328743022801484\n",
      "cost at epoch 2 : 3.2486661894409647\n",
      "cost at epoch 3 : 3.243215789307494\n",
      "cost at epoch 4 : 3.2381592477541212\n",
      "cost at epoch 5 : 3.2329701228026697\n",
      "cost at epoch 6 : 3.2275018143821232\n",
      "cost at epoch 7 : 3.221658505001527\n",
      "cost at epoch 8 : 3.215356491006049\n",
      "cost at epoch 9 : 3.208513831321101\n",
      "cost at epoch 10 : 3.2010474834913514\n",
      "cost at epoch 11 : 3.192872598135781\n",
      "cost at epoch 12 : 3.1839024851857363\n",
      "cost at epoch 13 : 3.17404883710408\n",
      "cost at epoch 14 : 3.1632221120740756\n",
      "cost at epoch 15 : 3.151332100634916\n",
      "cost at epoch 16 : 3.1382887643192503\n",
      "cost at epoch 17 : 3.124003467550821\n",
      "cost at epoch 18 : 3.108390718448297\n",
      "cost at epoch 19 : 3.091370486585028\n",
      "cost at epoch 20 : 3.072871084492553\n",
      "cost at epoch 21 : 3.052832503150127\n",
      "cost at epoch 22 : 3.0312100010057157\n",
      "cost at epoch 23 : 3.0079776781712684\n",
      "cost at epoch 24 : 2.9831317317079713\n",
      "cost at epoch 25 : 2.9566930865366574\n",
      "cost at epoch 26 : 2.9287091270050545\n",
      "cost at epoch 27 : 2.899254312353429\n",
      "cost at epoch 28 : 2.868429541015066\n",
      "cost at epoch 29 : 2.83636022895755\n",
      "cost at epoch 30 : 2.8031931783008077\n",
      "cost at epoch 31 : 2.7690924218291015\n",
      "cost at epoch 32 : 2.7342343207995827\n",
      "cost at epoch 33 : 2.6988022523024116\n",
      "cost at epoch 34 : 2.6629812388809073\n",
      "cost at epoch 35 : 2.626952847069585\n",
      "cost at epoch 36 : 2.590890622121497\n",
      "cost at epoch 37 : 2.5549562484605266\n",
      "cost at epoch 38 : 2.5192965450300027\n",
      "cost at epoch 39 : 2.4840413336421956\n",
      "cost at epoch 40 : 2.4493021624758002\n",
      "cost at epoch 41 : 2.4151718261257167\n",
      "cost at epoch 42 : 2.3817245948841306\n",
      "cost at epoch 43 : 2.3490170456178836\n",
      "cost at epoch 44 : 2.317089372649312\n",
      "cost at epoch 45 : 2.285967049329308\n",
      "cost at epoch 46 : 2.255662710451725\n",
      "cost at epoch 47 : 2.2261781329923305\n",
      "cost at epoch 48 : 2.1975062073963034\n",
      "cost at epoch 49 : 2.1696328119854567\n",
      "cost at epoch 50 : 2.142538526337296\n",
      "cost at epoch 51 : 2.116200142880556\n",
      "cost at epoch 52 : 2.090591957111473\n",
      "cost at epoch 53 : 2.065686834241144\n",
      "cost at epoch 54 : 2.0414570630855606\n",
      "cost at epoch 55 : 2.0178750166701347\n",
      "cost at epoch 56 : 1.9949136438750534\n",
      "cost at epoch 57 : 1.972546818266839\n",
      "cost at epoch 58 : 1.9507495698646473\n",
      "cost at epoch 59 : 1.92949822372785\n",
      "cost at epoch 60 : 1.908770466546477\n",
      "cost at epoch 61 : 1.8885453593428936\n",
      "cost at epoch 62 : 1.8688033112878588\n",
      "cost at epoch 63 : 1.8495260267147335\n",
      "cost at epoch 64 : 1.8306964348076307\n",
      "cost at epoch 65 : 1.8122986091992626\n",
      "cost at epoch 66 : 1.7943176828524805\n",
      "cost at epoch 67 : 1.7767397620952865\n",
      "cost at epoch 68 : 1.7595518424953958\n",
      "cost at epoch 69 : 1.7427417283519617\n",
      "cost at epoch 70 : 1.7262979569018546\n",
      "cost at epoch 71 : 1.7102097278421426\n",
      "cost at epoch 72 : 1.6944668384189332\n",
      "cost at epoch 73 : 1.6790596240922122\n",
      "cost at epoch 74 : 1.663978904628181\n",
      "cost at epoch 75 : 1.6492159353728422\n",
      "cost at epoch 76 : 1.63476236340493\n",
      "cost at epoch 77 : 1.6206101882402573\n",
      "cost at epoch 78 : 1.606751726752056\n",
      "cost at epoch 79 : 1.5931795819767198\n",
      "cost at epoch 80 : 1.5798866154859195\n",
      "cost at epoch 81 : 1.5668659230211148\n",
      "cost at epoch 82 : 1.5541108131029224\n",
      "cost at epoch 83 : 1.5416147883443716\n",
      "cost at epoch 84 : 1.529371529213048\n",
      "cost at epoch 85 : 1.517374880002352\n",
      "cost at epoch 86 : 1.5056188367865446\n",
      "cost at epoch 87 : 1.4940975371480023\n",
      "cost at epoch 88 : 1.4828052514784154\n",
      "cost at epoch 89 : 1.471736375668696\n",
      "cost at epoch 90 : 1.4608854250150185\n",
      "cost at epoch 91 : 1.4502470291812812\n",
      "cost at epoch 92 : 1.439815928070667\n",
      "cost at epoch 93 : 1.4295869684716311\n",
      "cost at epoch 94 : 1.4195551013557586\n",
      "cost at epoch 95 : 1.4097153797171502\n",
      "cost at epoch 96 : 1.4000629568545242\n",
      "cost at epoch 97 : 1.3905930850085457\n",
      "cost at epoch 98 : 1.3813011142775586\n",
      "cost at epoch 99 : 1.3721824917449625\n",
      "cost at epoch 100 : 1.3632327607608776\n",
      "cost at epoch 101 : 1.354447560329384\n",
      "cost at epoch 102 : 1.3458226245605696\n",
      "cost at epoch 103 : 1.337353782153692\n",
      "cost at epoch 104 : 1.329036955884241\n",
      "cost at epoch 105 : 1.3208681620732456\n",
      "cost at epoch 106 : 1.3128435100221723\n",
      "cost at epoch 107 : 1.3049592014009965\n",
      "cost at epoch 108 : 1.2972115295807218\n",
      "cost at epoch 109 : 1.289596878904612\n",
      "cost at epoch 110 : 1.2821117238951052\n",
      "cost at epoch 111 : 1.2747526283953245\n",
      "cost at epoch 112 : 1.267516244645877\n",
      "cost at epoch 113 : 1.2603993122989128\n",
      "cost at epoch 114 : 1.2533986573724332\n",
      "cost at epoch 115 : 1.2465111911485816\n",
      "cost at epoch 116 : 1.239733909020108\n",
      "cost at epoch 117 : 1.2330638892896055\n",
      "cost at epoch 118 : 1.2264982919261673\n",
      "cost at epoch 119 : 1.2200343572842625\n",
      "cost at epoch 120 : 1.2136694047894299\n",
      "cost at epoch 121 : 1.20740083159537\n",
      "cost at epoch 122 : 1.2012261112167149\n",
      "cost at epoch 123 : 1.1951427921415367\n",
      "cost at epoch 124 : 1.1891484964273897\n",
      "cost at epoch 125 : 1.1832409182843657\n",
      "cost at epoch 126 : 1.1774178226483185\n",
      "cost at epoch 127 : 1.1716770437471469\n",
      "cost at epoch 128 : 1.1660164836627103\n",
      "cost at epoch 129 : 1.160434110890614\n",
      "cost at epoch 130 : 1.1549279588998882\n",
      "cost at epoch 131 : 1.1494961246942899\n",
      "cost at epoch 132 : 1.144136767376728\n",
      "cost at epoch 133 : 1.1388481067180403\n",
      "cost at epoch 134 : 1.1336284217312533\n",
      "cost at epoch 135 : 1.1284760492521821\n",
      "cost at epoch 136 : 1.1233893825270973\n",
      "cost at epoch 137 : 1.1183668698080946\n",
      "cost at epoch 138 : 1.1134070129566478\n",
      "cost at epoch 139 : 1.1085083660557273\n",
      "cost at epoch 140 : 1.1036695340308578\n",
      "cost at epoch 141 : 1.0988891712803703\n",
      "cost at epoch 142 : 1.0941659803151074\n",
      "cost at epoch 143 : 1.0894987104078249\n",
      "cost at epoch 144 : 1.0848861562525305\n",
      "cost at epoch 145 : 1.080327156633998\n",
      "cost at epoch 146 : 1.0758205931077514\n",
      "cost at epoch 147 : 1.0713653886908159\n",
      "cost at epoch 148 : 1.0669605065636056\n",
      "cost at epoch 149 : 1.0626049487833436\n",
      "cost at epoch 150 : 1.058297755009485\n",
      "cost at epoch 151 : 1.0540380012416435\n",
      "cost at epoch 152 : 1.049824798570604\n",
      "cost at epoch 153 : 1.0456572919430491\n",
      "cost at epoch 154 : 1.0415346589406607\n",
      "cost at epoch 155 : 1.0374561085743375\n",
      "cost at epoch 156 : 1.0334208800943\n",
      "cost at epoch 157 : 1.0294282418168548\n",
      "cost at epoch 158 : 1.0254774899686934\n",
      "cost at epoch 159 : 1.021567947549523\n",
      "cost at epoch 160 : 1.0176989632139437\n",
      "cost at epoch 161 : 1.0138699101733823\n",
      "cost at epoch 162 : 1.0100801851189751\n",
      "cost at epoch 163 : 1.0063292071662175\n",
      "cost at epoch 164 : 1.0026164168222127\n",
      "cost at epoch 165 : 0.9989412749762906\n",
      "cost at epoch 166 : 0.995303261914738\n",
      "cost at epoch 167 : 0.9917018763603641\n",
      "cost at epoch 168 : 0.9881366345375145\n",
      "cost at epoch 169 : 0.9846070692631524\n",
      "cost at epoch 170 : 0.9811127290645113\n",
      "cost at epoch 171 : 0.9776531773238211\n",
      "cost at epoch 172 : 0.974227991450457\n",
      "cost at epoch 173 : 0.9708367620808763\n",
      "cost at epoch 174 : 0.9674790923065941\n",
      "cost at epoch 175 : 0.9641545969303719\n",
      "cost at epoch 176 : 0.9608629017507513\n",
      "cost at epoch 177 : 0.9576036428749789\n",
      "cost at epoch 178 : 0.9543764660602936\n",
      "cost at epoch 179 : 0.9511810260835\n",
      "cost at epoch 180 : 0.9480169861386742\n",
      "cost at epoch 181 : 0.9448840172627799\n",
      "cost at epoch 182 : 0.9417817977889483\n",
      "cost at epoch 183 : 0.9387100128270566\n",
      "cost at epoch 184 : 0.935668353771259\n",
      "cost at epoch 185 : 0.9326565178340317\n",
      "cost at epoch 186 : 0.9296742076062307\n",
      "cost at epoch 187 : 0.9267211306426761\n",
      "cost at epoch 188 : 0.923796999072689\n",
      "cost at epoch 189 : 0.9209015292349755\n",
      "cost at epoch 190 : 0.9180344413362461\n",
      "cost at epoch 191 : 0.9151954591329009\n",
      "cost at epoch 192 : 0.912384309635101\n",
      "cost at epoch 193 : 0.9096007228325124\n",
      "cost at epoch 194 : 0.9068444314410044\n",
      "cost at epoch 195 : 0.9041151706695424\n",
      "cost at epoch 196 : 0.9014126780065395\n",
      "cost at epoch 197 : 0.8987366930248678\n",
      "cost at epoch 198 : 0.8960869572047782\n",
      "cost at epoch 199 : 0.8934632137739354\n",
      "cost at epoch 200 : 0.8908652075637703\n",
      "cost at epoch 201 : 0.8882926848813927\n",
      "cost at epoch 202 : 0.8857453933962504\n",
      "cost at epoch 203 : 0.8832230820407814\n",
      "cost at epoch 204 : 0.880725500924258\n",
      "cost at epoch 205 : 0.8782524012590966\n",
      "cost at epoch 206 : 0.8758035352988435\n",
      "cost at epoch 207 : 0.8733786562871254\n",
      "cost at epoch 208 : 0.87097751841683\n",
      "cost at epoch 209 : 0.8685998767987946\n",
      "cost at epoch 210 : 0.8662454874393377\n",
      "cost at epoch 211 : 0.8639141072259338\n",
      "cost at epoch 212 : 0.8616054939204028\n",
      "cost at epoch 213 : 0.8593194061589573\n",
      "cost at epoch 214 : 0.8570556034585227\n",
      "cost at epoch 215 : 0.8548138462287277\n",
      "cost at epoch 216 : 0.8525938957890016\n",
      "cost at epoch 217 : 0.8503955143902486\n",
      "cost at epoch 218 : 0.8482184652405659\n",
      "cost at epoch 219 : 0.8460625125345385\n",
      "cost at epoch 220 : 0.8439274214856238\n",
      "cost at epoch 221 : 0.8418129583611869\n",
      "cost at epoch 222 : 0.8397188905197799\n",
      "cost at epoch 223 : 0.8376449864502599\n",
      "cost at epoch 224 : 0.8355910158123855\n",
      "cost at epoch 225 : 0.833556749478536\n",
      "cost at epoch 226 : 0.8315419595762483\n",
      "cost at epoch 227 : 0.829546419531254\n",
      "cost at epoch 228 : 0.8275699041107457\n",
      "cost at epoch 229 : 0.8256121894666286\n",
      "cost at epoch 230 : 0.8236730531785079\n",
      "cost at epoch 231 : 0.8217522742962002\n",
      "cost at epoch 232 : 0.8198496333815871\n",
      "cost at epoch 233 : 0.817964912549613\n",
      "cost at epoch 234 : 0.8160978955082983\n",
      "cost at epoch 235 : 0.8142483675975907\n",
      "cost at epoch 236 : 0.8124161158269689\n",
      "cost at epoch 237 : 0.8106009289116592\n",
      "cost at epoch 238 : 0.8088025973073834\n",
      "cost at epoch 239 : 0.807020913243553\n",
      "cost at epoch 240 : 0.805255670754854\n",
      "cost at epoch 241 : 0.8035066657111429\n",
      "cost at epoch 242 : 0.8017736958456319\n",
      "cost at epoch 243 : 0.8000565607813129\n",
      "cost at epoch 244 : 0.7983550620556169\n",
      "cost at epoch 245 : 0.7966690031432642\n",
      "cost at epoch 246 : 0.7949981894773223\n",
      "cost at epoch 247 : 0.7933424284684651\n",
      "cost at epoch 248 : 0.791701529522436\n",
      "cost at epoch 249 : 0.790075304055749\n",
      "cost at epoch 250 : 0.7884635655095993\n",
      "cost at epoch 251 : 0.7868661293620777\n",
      "cost at epoch 252 : 0.7852828131386631\n",
      "cost at epoch 253 : 0.783713436421046\n",
      "cost at epoch 254 : 0.7821578208543224\n",
      "cost at epoch 255 : 0.780615790152599\n",
      "cost at epoch 256 : 0.7790871701030482\n",
      "cost at epoch 257 : 0.7775717885684525\n",
      "cost at epoch 258 : 0.7760694754883135\n",
      "cost at epoch 259 : 0.7745800628785238\n",
      "cost at epoch 260 : 0.7731033848297142\n",
      "cost at epoch 261 : 0.7716392775042722\n",
      "cost at epoch 262 : 0.7701875791321224\n",
      "cost at epoch 263 : 0.7687481300052925\n",
      "cost at epoch 264 : 0.7673207724713471\n",
      "cost at epoch 265 : 0.7659053509257041\n",
      "cost at epoch 266 : 0.7645017118029322\n",
      "cost at epoch 267 : 0.7631097035670311\n",
      "cost at epoch 268 : 0.7617291767007917\n",
      "cost at epoch 269 : 0.7603599836942573\n",
      "cost at epoch 270 : 0.7590019790323405\n",
      "cost at epoch 271 : 0.7576550191816543\n",
      "cost at epoch 272 : 0.7563189625766082\n",
      "cost at epoch 273 : 0.7549936696047862\n",
      "cost at epoch 274 : 0.7536790025916957\n",
      "cost at epoch 275 : 0.752374825784898\n",
      "cost at epoch 276 : 0.7510810053375818\n",
      "cost at epoch 277 : 0.749797409291613\n",
      "cost at epoch 278 : 0.7485239075601028\n",
      "cost at epoch 279 : 0.7472603719095361\n",
      "cost at epoch 280 : 0.7460066759415053\n",
      "cost at epoch 281 : 0.7447626950740555\n",
      "cost at epoch 282 : 0.7435283065227278\n",
      "cost at epoch 283 : 0.7423033892812764\n",
      "cost at epoch 284 : 0.7410878241021386\n",
      "cost at epoch 285 : 0.7398814934766713\n",
      "cost at epoch 286 : 0.73868428161516\n",
      "cost at epoch 287 : 0.7374960744266897\n",
      "cost at epoch 288 : 0.7363167594988254\n",
      "cost at epoch 289 : 0.7351462260772033\n",
      "cost at epoch 290 : 0.7339843650450004\n",
      "cost at epoch 291 : 0.7328310689023407\n",
      "cost at epoch 292 : 0.7316862317456437\n",
      "cost at epoch 293 : 0.7305497492469379\n",
      "cost at epoch 294 : 0.7294215186331663\n",
      "cost at epoch 295 : 0.728301438665498\n",
      "cost at epoch 296 : 0.7271894096186567\n",
      "cost at epoch 297 : 0.7260853332602965\n",
      "cost at epoch 298 : 0.724989112830431\n",
      "cost at epoch 299 : 0.7239006530209323\n",
      "cost at epoch 300 : 0.7228198599551128\n",
      "cost at epoch 301 : 0.7217466411674104\n",
      "cost at epoch 302 : 0.7206809055831742\n",
      "cost at epoch 303 : 0.7196225634985767\n",
      "cost at epoch 304 : 0.7185715265606538\n",
      "cost at epoch 305 : 0.7175277077474838\n",
      "cost at epoch 306 : 0.7164910213485224\n",
      "cost at epoch 307 : 0.7154613829450865\n",
      "cost at epoch 308 : 0.7144387093910036\n",
      "cost at epoch 309 : 0.7134229187934422\n",
      "cost at epoch 310 : 0.7124139304939099\n",
      "cost at epoch 311 : 0.7114116650494399\n",
      "cost at epoch 312 : 0.710416044213968\n",
      "cost at epoch 313 : 0.709426990919898\n",
      "cost at epoch 314 : 0.7084444292598718\n",
      "cost at epoch 315 : 0.7074682844687372\n",
      "cost at epoch 316 : 0.7064984829057209\n",
      "cost at epoch 317 : 0.7055349520368097\n",
      "cost at epoch 318 : 0.7045776204173436\n",
      "cost at epoch 319 : 0.7036264176748201\n",
      "cost at epoch 320 : 0.7026812744919109\n",
      "cost at epoch 321 : 0.701742122589697\n",
      "cost at epoch 322 : 0.700808894711123\n",
      "cost at epoch 323 : 0.6998815246046629\n",
      "cost at epoch 324 : 0.6989599470082065\n",
      "cost at epoch 325 : 0.6980440976331669\n",
      "cost at epoch 326 : 0.6971339131488038\n",
      "cost at epoch 327 : 0.6962293311667676\n",
      "cost at epoch 328 : 0.6953302902258583\n",
      "cost at epoch 329 : 0.694436729777003\n",
      "cost at epoch 330 : 0.6935485901684539\n",
      "cost at epoch 331 : 0.6926658126311958\n",
      "cost at epoch 332 : 0.6917883392645794\n",
      "cost at epoch 333 : 0.6909161130221457\n",
      "cost at epoch 334 : 0.690049077697693\n",
      "cost at epoch 335 : 0.6891871779115278\n",
      "cost at epoch 336 : 0.6883303590969461\n",
      "cost at epoch 337 : 0.6874785674869034\n",
      "cost at epoch 338 : 0.6866317501009047\n",
      "cost at epoch 339 : 0.68578985473209\n",
      "cost at epoch 340 : 0.6849528299345264\n",
      "cost at epoch 341 : 0.6841206250107003\n",
      "cost at epoch 342 : 0.6832931899991994\n",
      "cost at epoch 343 : 0.6824704756626037\n",
      "cost at epoch 344 : 0.6816524334755583\n",
      "cost at epoch 345 : 0.680839015613044\n",
      "cost at epoch 346 : 0.6800301749388357\n",
      "cost at epoch 347 : 0.6792258649941431\n",
      "cost at epoch 348 : 0.6784260399864466\n",
      "cost at epoch 349 : 0.6776306547785017\n",
      "cost at epoch 350 : 0.676839664877534\n",
      "cost at epoch 351 : 0.6760530264246046\n",
      "cost at epoch 352 : 0.6752706961841555\n",
      "cost at epoch 353 : 0.6744926315337276\n",
      "cost at epoch 354 : 0.6737187904538436\n",
      "cost at epoch 355 : 0.6729491315180572\n",
      "cost at epoch 356 : 0.6721836138831861\n",
      "cost at epoch 357 : 0.6714221972796826\n",
      "cost at epoch 358 : 0.6706648420021808\n",
      "cost at epoch 359 : 0.6699115089001939\n",
      "cost at epoch 360 : 0.6691621593689839\n",
      "cost at epoch 361 : 0.6684167553405562\n",
      "cost at epoch 362 : 0.6676752592748342\n",
      "cost at epoch 363 : 0.6669376341509651\n",
      "cost at epoch 364 : 0.6662038434587796\n",
      "cost at epoch 365 : 0.6654738511903877\n",
      "cost at epoch 366 : 0.664747621831939\n",
      "cost at epoch 367 : 0.6640251203554873\n",
      "cost at epoch 368 : 0.6633063122110264\n",
      "cost at epoch 369 : 0.6625911633186419\n",
      "cost at epoch 370 : 0.6618796400608042\n",
      "cost at epoch 371 : 0.6611717092747892\n",
      "cost at epoch 372 : 0.6604673382452289\n",
      "cost at epoch 373 : 0.6597664946967912\n",
      "cost at epoch 374 : 0.659069146786983\n",
      "cost at epoch 375 : 0.6583752630990743\n",
      "cost at epoch 376 : 0.6576848126351476\n",
      "cost at epoch 377 : 0.6569977648092588\n",
      "cost at epoch 378 : 0.6563140894407281\n",
      "cost at epoch 379 : 0.6556337567475321\n",
      "cost at epoch 380 : 0.6549567373398144\n",
      "cost at epoch 381 : 0.65428300221351\n",
      "cost at epoch 382 : 0.6536125227440805\n",
      "cost at epoch 383 : 0.6529452706803455\n",
      "cost at epoch 384 : 0.6522812181384304\n",
      "cost at epoch 385 : 0.6516203375958253\n",
      "cost at epoch 386 : 0.650962601885521\n",
      "cost at epoch 387 : 0.6503079841902726\n",
      "cost at epoch 388 : 0.649656458036948\n",
      "cost at epoch 389 : 0.6490079972909755\n",
      "cost at epoch 390 : 0.6483625761508871\n",
      "cost at epoch 391 : 0.6477201691429595\n",
      "cost at epoch 392 : 0.6470807511159451\n",
      "cost at epoch 393 : 0.6464442972358891\n",
      "cost at epoch 394 : 0.6458107829810474\n",
      "cost at epoch 395 : 0.6451801841368824\n",
      "cost at epoch 396 : 0.6445524767911474\n",
      "cost at epoch 397 : 0.643927637329059\n",
      "cost at epoch 398 : 0.6433056424285505\n",
      "cost at epoch 399 : 0.6426864690556119\n",
      "cost at epoch 400 : 0.6420700944596978\n",
      "cost at epoch 401 : 0.6414564961692334\n",
      "cost at epoch 402 : 0.6408456519871869\n",
      "cost at epoch 403 : 0.6402375399867126\n",
      "cost at epoch 404 : 0.6396321385068915\n",
      "cost at epoch 405 : 0.6390294261485191\n",
      "cost at epoch 406 : 0.6384293817699866\n",
      "cost at epoch 407 : 0.6378319844832241\n",
      "cost at epoch 408 : 0.6372372136497167\n",
      "cost at epoch 409 : 0.6366450488765879\n",
      "cost at epoch 410 : 0.636055470012755\n",
      "cost at epoch 411 : 0.6354684571451462\n",
      "cost at epoch 412 : 0.6348839905949912\n",
      "cost at epoch 413 : 0.6343020509141655\n",
      "cost at epoch 414 : 0.6337226188816081\n",
      "cost at epoch 415 : 0.6331456754997963\n",
      "cost at epoch 416 : 0.6325712019912845\n",
      "cost at epoch 417 : 0.6319991797953024\n",
      "cost at epoch 418 : 0.6314295905644091\n",
      "cost at epoch 419 : 0.6308624161612127\n",
      "cost at epoch 420 : 0.6302976386551402\n",
      "cost at epoch 421 : 0.6297352403192695\n",
      "cost at epoch 422 : 0.6291752036272089\n",
      "cost at epoch 423 : 0.6286175112500398\n",
      "cost at epoch 424 : 0.6280621460533093\n",
      "cost at epoch 425 : 0.6275090910940717\n",
      "cost at epoch 426 : 0.6269583296179848\n",
      "cost at epoch 427 : 0.6264098450564597\n",
      "cost at epoch 428 : 0.6258636210238553\n",
      "cost at epoch 429 : 0.6253196413147222\n",
      "cost at epoch 430 : 0.624777889901101\n",
      "cost at epoch 431 : 0.6242383509298555\n",
      "cost at epoch 432 : 0.6237010087200695\n",
      "cost at epoch 433 : 0.6231658477604689\n",
      "cost at epoch 434 : 0.6226328527069077\n",
      "cost at epoch 435 : 0.6221020083798853\n",
      "cost at epoch 436 : 0.6215732997621121\n",
      "cost at epoch 437 : 0.6210467119961165\n",
      "cost at epoch 438 : 0.6205222303818917\n",
      "cost at epoch 439 : 0.6199998403745922\n",
      "cost at epoch 440 : 0.6194795275822517\n",
      "cost at epoch 441 : 0.618961277763565\n",
      "cost at epoch 442 : 0.6184450768256907\n",
      "cost at epoch 443 : 0.6179309108220932\n",
      "cost at epoch 444 : 0.6174187659504371\n",
      "cost at epoch 445 : 0.6169086285504977\n",
      "cost at epoch 446 : 0.616400485102122\n",
      "cost at epoch 447 : 0.6158943222232212\n",
      "cost at epoch 448 : 0.6153901266677964\n",
      "cost at epoch 449 : 0.6148878853240002\n",
      "cost at epoch 450 : 0.6143875852122304\n",
      "cost at epoch 451 : 0.6138892134832598\n",
      "cost at epoch 452 : 0.6133927574163937\n",
      "cost at epoch 453 : 0.612898204417662\n",
      "cost at epoch 454 : 0.6124055420180463\n",
      "cost at epoch 455 : 0.6119147578717257\n",
      "cost at epoch 456 : 0.6114258397543679\n",
      "cost at epoch 457 : 0.6109387755614382\n",
      "cost at epoch 458 : 0.6104535533065416\n",
      "cost at epoch 459 : 0.6099701611197972\n",
      "cost at epoch 460 : 0.6094885872462342\n",
      "cost at epoch 461 : 0.609008820044215\n",
      "cost at epoch 462 : 0.6085308479838949\n",
      "cost at epoch 463 : 0.6080546596456933\n",
      "cost at epoch 464 : 0.6075802437188088\n",
      "cost at epoch 465 : 0.6071075889997409\n",
      "cost at epoch 466 : 0.6066366843908494\n",
      "cost at epoch 467 : 0.6061675188989374\n",
      "cost at epoch 468 : 0.6057000816338508\n",
      "cost at epoch 469 : 0.6052343618071101\n",
      "cost at epoch 470 : 0.604770348730559\n",
      "cost at epoch 471 : 0.6043080318150394\n",
      "cost at epoch 472 : 0.6038474005690906\n",
      "cost at epoch 473 : 0.6033884445976619\n",
      "cost at epoch 474 : 0.6029311536008582\n",
      "cost at epoch 475 : 0.6024755173726966\n",
      "cost at epoch 476 : 0.6020215257998897\n",
      "cost at epoch 477 : 0.6015691688606498\n",
      "cost at epoch 478 : 0.6011184366235062\n",
      "cost at epoch 479 : 0.6006693192461525\n",
      "cost at epoch 480 : 0.6002218069743036\n",
      "cost at epoch 481 : 0.5997758901405741\n",
      "cost at epoch 482 : 0.5993315591633834\n",
      "cost at epoch 483 : 0.5988888045458647\n",
      "cost at epoch 484 : 0.5984476168748031\n",
      "cost at epoch 485 : 0.5980079868195883\n",
      "cost at epoch 486 : 0.5975699051311812\n",
      "cost at epoch 487 : 0.5971333626411\n",
      "cost at epoch 488 : 0.5966983502604252\n",
      "cost at epoch 489 : 0.5962648589788143\n",
      "cost at epoch 490 : 0.595832879863542\n",
      "cost at epoch 491 : 0.5954024040585454\n",
      "cost at epoch 492 : 0.594973422783492\n",
      "cost at epoch 493 : 0.5945459273328599\n",
      "cost at epoch 494 : 0.5941199090750354\n",
      "cost at epoch 495 : 0.5936953594514189\n",
      "cost at epoch 496 : 0.5932722699755516\n",
      "cost at epoch 497 : 0.5928506322322563\n",
      "cost at epoch 498 : 0.5924304378767858\n",
      "cost at epoch 499 : 0.592011678633987\n",
      "cost at epoch 500 : 0.5915943462974855\n",
      "cost at epoch 501 : 0.5911784327288734\n",
      "cost at epoch 502 : 0.5907639298569126\n",
      "cost at epoch 503 : 0.5903508296767546\n",
      "cost at epoch 504 : 0.5899391242491687\n",
      "cost at epoch 505 : 0.5895288056997813\n",
      "cost at epoch 506 : 0.5891198662183336\n",
      "cost at epoch 507 : 0.5887122980579397\n",
      "cost at epoch 508 : 0.5883060935343694\n",
      "cost at epoch 509 : 0.5879012450253283\n",
      "cost at epoch 510 : 0.5874977449697653\n",
      "cost at epoch 511 : 0.5870955858671716\n",
      "cost at epoch 512 : 0.5866947602769065\n",
      "cost at epoch 513 : 0.5862952608175255\n",
      "cost at epoch 514 : 0.5858970801661184\n",
      "cost at epoch 515 : 0.5855002110576657\n",
      "cost at epoch 516 : 0.5851046462843893\n",
      "cost at epoch 517 : 0.5847103786951287\n",
      "cost at epoch 518 : 0.5843174011947196\n",
      "cost at epoch 519 : 0.5839257067433781\n",
      "cost at epoch 520 : 0.5835352883561032\n",
      "cost at epoch 521 : 0.5831461391020785\n",
      "cost at epoch 522 : 0.5827582521040903\n",
      "cost at epoch 523 : 0.5823716205379486\n",
      "cost at epoch 524 : 0.5819862376319247\n",
      "cost at epoch 525 : 0.5816020966661857\n",
      "cost at epoch 526 : 0.5812191909722472\n",
      "cost at epoch 527 : 0.580837513932426\n",
      "cost at epoch 528 : 0.5804570589793105\n",
      "cost at epoch 529 : 0.5800778195952284\n",
      "cost at epoch 530 : 0.5796997893117274\n",
      "cost at epoch 531 : 0.5793229617090647\n",
      "cost at epoch 532 : 0.5789473304157\n",
      "cost at epoch 533 : 0.5785728891077965\n",
      "cost at epoch 534 : 0.5781996315087315\n",
      "cost at epoch 535 : 0.5778275513886146\n",
      "cost at epoch 536 : 0.577456642563805\n",
      "cost at epoch 537 : 0.5770868988964457\n",
      "cost at epoch 538 : 0.5767183142939968\n",
      "cost at epoch 539 : 0.5763508827087789\n",
      "cost at epoch 540 : 0.5759845981375208\n",
      "cost at epoch 541 : 0.5756194546209183\n",
      "cost at epoch 542 : 0.575255446243192\n",
      "cost at epoch 543 : 0.5748925671316533\n",
      "cost at epoch 544 : 0.5745308114562832\n",
      "cost at epoch 545 : 0.5741701734293037\n",
      "cost at epoch 546 : 0.5738106473047696\n",
      "cost at epoch 547 : 0.5734522273781524\n",
      "cost at epoch 548 : 0.5730949079859435\n",
      "cost at epoch 549 : 0.5727386835052484\n",
      "cost at epoch 550 : 0.5723835483533949\n",
      "cost at epoch 551 : 0.5720294969875477\n",
      "cost at epoch 552 : 0.571676523904323\n",
      "cost at epoch 553 : 0.5713246236394105\n",
      "cost at epoch 554 : 0.5709737907672012\n",
      "cost at epoch 555 : 0.5706240199004174\n",
      "cost at epoch 556 : 0.5702753056897527\n",
      "cost at epoch 557 : 0.5699276428235065\n",
      "cost at epoch 558 : 0.5695810260272413\n",
      "cost at epoch 559 : 0.5692354500634191\n",
      "cost at epoch 560 : 0.5688909097310668\n",
      "cost at epoch 561 : 0.5685473998654338\n",
      "cost at epoch 562 : 0.568204915337651\n",
      "cost at epoch 563 : 0.5678634510544025\n",
      "cost at epoch 564 : 0.5675230019575992\n",
      "cost at epoch 565 : 0.5671835630240485\n",
      "cost at epoch 566 : 0.5668451292651425\n",
      "cost at epoch 567 : 0.5665076957265369\n",
      "cost at epoch 568 : 0.5661712574878406\n",
      "cost at epoch 569 : 0.5658358096623072\n",
      "cost at epoch 570 : 0.5655013473965339\n",
      "cost at epoch 571 : 0.5651678658701553\n",
      "cost at epoch 572 : 0.5648353602955505\n",
      "cost at epoch 573 : 0.5645038259175521\n",
      "cost at epoch 574 : 0.5641732580131456\n",
      "cost at epoch 575 : 0.5638436518912016\n",
      "cost at epoch 576 : 0.563515002892173\n",
      "cost at epoch 577 : 0.5631873063878291\n",
      "cost at epoch 578 : 0.5628605577809752\n",
      "cost at epoch 579 : 0.5625347525051766\n",
      "cost at epoch 580 : 0.5622098860244977\n",
      "cost at epoch 581 : 0.5618859538332244\n",
      "cost at epoch 582 : 0.5615629514556091\n",
      "cost at epoch 583 : 0.5612408744456061\n",
      "cost at epoch 584 : 0.560919718386617\n",
      "cost at epoch 585 : 0.5605994788912335\n",
      "cost at epoch 586 : 0.560280151600989\n",
      "cost at epoch 587 : 0.5599617321861071\n",
      "cost at epoch 588 : 0.5596442163452585\n",
      "cost at epoch 589 : 0.5593275998053163\n",
      "cost at epoch 590 : 0.5590118783211163\n",
      "cost at epoch 591 : 0.5586970476752195\n",
      "cost at epoch 592 : 0.5583831036776788\n",
      "cost at epoch 593 : 0.5580700421658035\n",
      "cost at epoch 594 : 0.5577578590039327\n",
      "cost at epoch 595 : 0.5574465500832064\n",
      "cost at epoch 596 : 0.5571361113213422\n",
      "cost at epoch 597 : 0.5568265386624127\n",
      "cost at epoch 598 : 0.5565178280766261\n",
      "cost at epoch 599 : 0.5562099755601078\n",
      "cost at epoch 600 : 0.5559029771346848\n",
      "cost at epoch 601 : 0.5555968288476795\n",
      "cost at epoch 602 : 0.5552915267716871\n",
      "cost at epoch 603 : 0.5549870670043828\n",
      "cost at epoch 604 : 0.554683445668303\n",
      "cost at epoch 605 : 0.5543806589106476\n",
      "cost at epoch 606 : 0.5540787029030789\n",
      "cost at epoch 607 : 0.5537775738415205\n",
      "cost at epoch 608 : 0.553477267945961\n",
      "cost at epoch 609 : 0.5531777814602583\n",
      "cost at epoch 610 : 0.5528791106519461\n",
      "cost at epoch 611 : 0.5525812518120454\n",
      "cost at epoch 612 : 0.5522842012548717\n",
      "cost at epoch 613 : 0.5519879553178508\n",
      "cost at epoch 614 : 0.5516925103613316\n",
      "cost at epoch 615 : 0.5513978627684042\n",
      "cost at epoch 616 : 0.5511040089447186\n",
      "cost at epoch 617 : 0.5508109453183014\n",
      "cost at epoch 618 : 0.5505186683393879\n",
      "cost at epoch 619 : 0.550227174480232\n",
      "cost at epoch 620 : 0.5499364602349448\n",
      "cost at epoch 621 : 0.5496465221193146\n",
      "cost at epoch 622 : 0.5493573566706398\n",
      "cost at epoch 623 : 0.5490689604475594\n",
      "cost at epoch 624 : 0.5487813300298847\n",
      "cost at epoch 625 : 0.5484944620184337\n",
      "cost at epoch 626 : 0.5482083530348694\n",
      "cost at epoch 627 : 0.5479229997215362\n",
      "cost at epoch 628 : 0.5476383987412978\n",
      "cost at epoch 629 : 0.5473545467773819\n",
      "cost at epoch 630 : 0.5470714405332171\n",
      "cost at epoch 631 : 0.5467890767322847\n",
      "cost at epoch 632 : 0.5465074521179564\n",
      "cost at epoch 633 : 0.5462265634533459\n",
      "cost at epoch 634 : 0.5459464075211581\n",
      "cost at epoch 635 : 0.5456669811235337\n",
      "cost at epoch 636 : 0.5453882810819095\n",
      "cost at epoch 637 : 0.5451103042368647\n",
      "cost at epoch 638 : 0.5448330474479771\n",
      "cost at epoch 639 : 0.5445565075936771\n",
      "cost at epoch 640 : 0.544280681571111\n",
      "cost at epoch 641 : 0.5440055662959935\n",
      "cost at epoch 642 : 0.5437311587024669\n",
      "cost at epoch 643 : 0.5434574557429711\n",
      "cost at epoch 644 : 0.5431844543880944\n",
      "cost at epoch 645 : 0.5429121516264469\n",
      "cost at epoch 646 : 0.542640544464519\n",
      "cost at epoch 647 : 0.5423696299265554\n",
      "cost at epoch 648 : 0.5420994050544132\n",
      "cost at epoch 649 : 0.5418298669074402\n",
      "cost at epoch 650 : 0.5415610125623392\n",
      "cost at epoch 651 : 0.5412928391130409\n",
      "cost at epoch 652 : 0.5410253436705772\n",
      "cost at epoch 653 : 0.5407585233629569\n",
      "cost at epoch 654 : 0.5404923753350364\n",
      "cost at epoch 655 : 0.5402268967483971\n",
      "cost at epoch 656 : 0.5399620847812282\n",
      "cost at epoch 657 : 0.5396979366281953\n",
      "cost at epoch 658 : 0.5394344495003295\n",
      "cost at epoch 659 : 0.539171620624903\n",
      "cost at epoch 660 : 0.538909447245312\n",
      "cost at epoch 661 : 0.5386479266209594\n",
      "cost at epoch 662 : 0.5383870560271398\n",
      "cost at epoch 663 : 0.5381268327549222\n",
      "cost at epoch 664 : 0.5378672541110414\n",
      "cost at epoch 665 : 0.5376083174177761\n",
      "cost at epoch 666 : 0.5373500200128472\n",
      "cost at epoch 667 : 0.537092359249301\n",
      "cost at epoch 668 : 0.5368353324953989\n",
      "cost at epoch 669 : 0.536578937134511\n",
      "cost at epoch 670 : 0.5363231705650108\n",
      "cost at epoch 671 : 0.5360680302001605\n",
      "cost at epoch 672 : 0.5358135134680114\n",
      "cost at epoch 673 : 0.5355596178112986\n",
      "cost at epoch 674 : 0.5353063406873346\n",
      "cost at epoch 675 : 0.5350536795679065\n",
      "cost at epoch 676 : 0.5348016319391763\n",
      "cost at epoch 677 : 0.5345501953015754\n",
      "cost at epoch 678 : 0.5342993671697104\n",
      "cost at epoch 679 : 0.5340491450722554\n",
      "cost at epoch 680 : 0.5337995265518617\n",
      "cost at epoch 681 : 0.5335505091650534\n",
      "cost at epoch 682 : 0.5333020904821357\n",
      "cost at epoch 683 : 0.5330542680870944\n",
      "cost at epoch 684 : 0.5328070395775031\n",
      "cost at epoch 685 : 0.5325604025644294\n",
      "cost at epoch 686 : 0.5323143546723403\n",
      "cost at epoch 687 : 0.5320688935390065\n",
      "cost at epoch 688 : 0.531824016815417\n",
      "cost at epoch 689 : 0.5315797221656825\n",
      "cost at epoch 690 : 0.5313360072669469\n",
      "cost at epoch 691 : 0.531092869809296\n",
      "cost at epoch 692 : 0.5308503074956727\n",
      "cost at epoch 693 : 0.5306083180417844\n",
      "cost at epoch 694 : 0.5303668991760171\n",
      "cost at epoch 695 : 0.5301260486393485\n",
      "cost at epoch 696 : 0.5298857641852641\n",
      "cost at epoch 697 : 0.529646043579669\n",
      "cost at epoch 698 : 0.5294068846008051\n",
      "cost at epoch 699 : 0.5291682850391666\n",
      "cost at epoch 700 : 0.5289302426974173\n",
      "cost at epoch 701 : 0.5286927553903068\n",
      "cost at epoch 702 : 0.5284558209445918\n",
      "cost at epoch 703 : 0.5282194371989518\n",
      "cost at epoch 704 : 0.5279836020039084\n",
      "cost at epoch 705 : 0.5277483132217476\n",
      "cost at epoch 706 : 0.527513568726442\n",
      "cost at epoch 707 : 0.5272793664035659\n",
      "cost at epoch 708 : 0.527045704150226\n",
      "cost at epoch 709 : 0.5268125798749759\n",
      "cost at epoch 710 : 0.5265799914977449\n",
      "cost at epoch 711 : 0.5263479369497587\n",
      "cost at epoch 712 : 0.5261164141734684\n",
      "cost at epoch 713 : 0.525885421122468\n",
      "cost at epoch 714 : 0.5256549557614275\n",
      "cost at epoch 715 : 0.5254250160660148\n",
      "cost at epoch 716 : 0.5251956000228262\n",
      "cost at epoch 717 : 0.5249667056293076\n",
      "cost at epoch 718 : 0.5247383308936886\n",
      "cost at epoch 719 : 0.5245104738349071\n",
      "cost at epoch 720 : 0.5242831324825432\n",
      "cost at epoch 721 : 0.5240563048767418\n",
      "cost at epoch 722 : 0.5238299890681468\n",
      "cost at epoch 723 : 0.5236041831178323\n",
      "cost at epoch 724 : 0.5233788850972324\n",
      "cost at epoch 725 : 0.5231540930880726\n",
      "cost at epoch 726 : 0.522929805182302\n",
      "cost at epoch 727 : 0.5227060194820254\n",
      "cost at epoch 728 : 0.52248273409944\n",
      "cost at epoch 729 : 0.5222599471567646\n",
      "cost at epoch 730 : 0.5220376567861744\n",
      "cost at epoch 731 : 0.5218158611297382\n",
      "cost at epoch 732 : 0.5215945583393519\n",
      "cost at epoch 733 : 0.5213737465766719\n",
      "cost at epoch 734 : 0.5211534240130551\n",
      "cost at epoch 735 : 0.5209335888294936\n",
      "cost at epoch 736 : 0.520714239216549\n",
      "cost at epoch 737 : 0.5204953733742943\n",
      "cost at epoch 738 : 0.5202769895122481\n",
      "cost at epoch 739 : 0.5200590858493149\n",
      "cost at epoch 740 : 0.5198416606137228\n",
      "cost at epoch 741 : 0.519624712042962\n",
      "cost at epoch 742 : 0.5194082383837274\n",
      "cost at epoch 743 : 0.5191922378918539\n",
      "cost at epoch 744 : 0.5189767088322589\n",
      "cost at epoch 745 : 0.5187616494788848\n",
      "cost at epoch 746 : 0.5185470581146383\n",
      "cost at epoch 747 : 0.5183329330313309\n",
      "cost at epoch 748 : 0.518119272529623\n",
      "cost at epoch 749 : 0.5179060749189663\n",
      "cost at epoch 750 : 0.5176933385175456\n",
      "cost at epoch 751 : 0.5174810616522195\n",
      "cost at epoch 752 : 0.5172692426584707\n",
      "cost at epoch 753 : 0.5170578798803426\n",
      "cost at epoch 754 : 0.516846971670388\n",
      "cost at epoch 755 : 0.516636516389612\n",
      "cost at epoch 756 : 0.5164265124074195\n",
      "cost at epoch 757 : 0.516216958101555\n",
      "cost at epoch 758 : 0.5160078518580565\n",
      "cost at epoch 759 : 0.5157991920711952\n",
      "cost at epoch 760 : 0.5155909771434231\n",
      "cost at epoch 761 : 0.5153832054853238\n",
      "cost at epoch 762 : 0.5151758755155544\n",
      "cost at epoch 763 : 0.5149689856607959\n",
      "cost at epoch 764 : 0.5147625343557041\n",
      "cost at epoch 765 : 0.5145565200428495\n",
      "cost at epoch 766 : 0.5143509411726757\n",
      "cost at epoch 767 : 0.5141457962034417\n",
      "cost at epoch 768 : 0.5139410836011752\n",
      "cost at epoch 769 : 0.5137368018396185\n",
      "cost at epoch 770 : 0.5135329494001816\n",
      "cost at epoch 771 : 0.5133295247718921\n",
      "cost at epoch 772 : 0.5131265264513453\n",
      "cost at epoch 773 : 0.5129239529426549\n",
      "cost at epoch 774 : 0.5127218027574069\n",
      "cost at epoch 775 : 0.5125200744146057\n",
      "cost at epoch 776 : 0.5123187664406339\n",
      "cost at epoch 777 : 0.5121178773691967\n",
      "cost at epoch 778 : 0.511917405741283\n",
      "cost at epoch 779 : 0.5117173501051105\n",
      "cost at epoch 780 : 0.5115177090160847\n",
      "cost at epoch 781 : 0.5113184810367488\n",
      "cost at epoch 782 : 0.511119664736741\n",
      "cost at epoch 783 : 0.5109212586927465\n",
      "cost at epoch 784 : 0.5107232614884536\n",
      "cost at epoch 785 : 0.5105256717145068\n",
      "cost at epoch 786 : 0.5103284879684653\n",
      "cost at epoch 787 : 0.5101317088547557\n",
      "cost at epoch 788 : 0.5099353329846277\n",
      "cost at epoch 789 : 0.5097393589761148\n",
      "cost at epoch 790 : 0.5095437854539837\n",
      "cost at epoch 791 : 0.509348611049699\n",
      "cost at epoch 792 : 0.509153834401373\n",
      "cost at epoch 793 : 0.5089594541537313\n",
      "cost at epoch 794 : 0.5087654689580621\n",
      "cost at epoch 795 : 0.5085718774721794\n",
      "cost at epoch 796 : 0.5083786783603822\n",
      "cost at epoch 797 : 0.508185870293409\n",
      "cost at epoch 798 : 0.5079934519484013\n",
      "cost at epoch 799 : 0.5078014220088594\n"
     ]
    }
   ],
   "source": [
    "theta_1_new, theta_2_new, J_history = train(X, y_onehot,\n",
    "                                            nnCostGrad,\n",
    "                                            theta_1,\n",
    "                                            theta_2,\n",
    "                                            epochs= 800,\n",
    "                                            lr= 0.9,\n",
    "                                            lambda_= 1)"
   ]
  },
  {
   "cell_type": "code",
   "execution_count": 23,
   "metadata": {
    "id": "knn8aNGkPMdW"
   },
   "outputs": [],
   "source": [
    "def predict(theta_1, theta_2, X):\n",
    "  m = X.shape[1]\n",
    "  z_2 = np.matmul(theta_1, X)\n",
    "  a_2 = sigmoid(z_2)\n",
    "  a_2 = np.concatenate([np.ones((1, m)), a_2], axis= 0)\n",
    "  z_3 = np.matmul(theta_2, a_2)\n",
    "  a_3 = sigmoid(z_3)\n",
    "  return a_3"
   ]
  },
  {
   "cell_type": "code",
   "execution_count": 24,
   "metadata": {
    "colab": {
     "base_uri": "https://localhost:8080/"
    },
    "id": "X2Z99-fjRZK1",
    "outputId": "b926c923-12f0-4dcd-cb0c-6ebe96c91497"
   },
   "outputs": [
    {
     "name": "stdout",
     "output_type": "stream",
     "text": [
      "(10, 5000)\n",
      "predicted digit:  [0 0 0 ... 9 9 9]\n"
     ]
    }
   ],
   "source": [
    "outputs = predict(theta_1_new, theta_2_new, X)\n",
    "print(outputs.shape)\n",
    "predicted_digit = np.argmax(outputs, axis= 0)\n",
    "print(\"predicted digit: \", predicted_digit)\n"
   ]
  },
  {
   "cell_type": "code",
   "execution_count": 25,
   "metadata": {
    "colab": {
     "base_uri": "https://localhost:8080/"
    },
    "id": "QCowdhjv1SOe",
    "outputId": "862d88fd-046e-4735-b497-d39e20df35b7"
   },
   "outputs": [
    {
     "name": "stdout",
     "output_type": "stream",
     "text": [
      "[0 0 0 ... 9 9 9]\n"
     ]
    }
   ],
   "source": [
    "print(predicted_digit)"
   ]
  },
  {
   "cell_type": "code",
   "execution_count": 26,
   "metadata": {
    "colab": {
     "base_uri": "https://localhost:8080/"
    },
    "id": "CN5MrQoD0_im",
    "outputId": "1dd8db34-b62e-49bf-9f59-06264d98bfab"
   },
   "outputs": [
    {
     "name": "stdout",
     "output_type": "stream",
     "text": [
      "Training Set Accuracy: 94.660000\n"
     ]
    }
   ],
   "source": [
    "print('Training Set Accuracy: %f' % (np.mean(predicted_digit == y) * 100))"
   ]
  },
  {
   "cell_type": "code",
   "execution_count": 27,
   "metadata": {
    "colab": {
     "base_uri": "https://localhost:8080/",
     "height": 263
    },
    "id": "e-xwKV_5WNrR",
    "outputId": "ed1eb4b2-6f1b-4f8b-fc47-0060bb9be781"
   },
   "outputs": [
    {
     "data": {
      "text/plain": [
       "Text(0.5, 1.0, '6')"
      ]
     },
     "execution_count": 27,
     "metadata": {},
     "output_type": "execute_result"
    },
    {
     "data": {
      "image/png": "[encoded data removed]",
      "text/plain": [
       "<Figure size 2000x200 with 1 Axes>"
      ]
     },
     "metadata": {},
     "output_type": "display_data"
    }
   ],
   "source": [
    "idx = 3200\n",
    "\n",
    "plt.figure(figsize= (20, 2))\n",
    "\n",
    "plt.imshow(np.reshape(X[1:, idx], (20, 20)).T, cmap= \"gray\")\n",
    "plt.title(str(y[0, idx]), fontsize = 20)"
   ]
  }
 ],
 "metadata": {
  "colab": {
   "name": "ML-course-project-5-neural network multiclass classification.ipynb",
   "provenance": []
  },
  "kernelspec": {
   "display_name": "Python 3 (ipykernel)",
   "language": "python",
   "name": "python3"
  },
  "language_info": {
   "codemirror_mode": {
    "name": "ipython",
    "version": 3
   },
   "file_extension": ".py",
   "mimetype": "text/x-python",
   "name": "python",
   "nbconvert_exporter": "python",
   "pygments_lexer": "ipython3",
   "version": "3.10.7"
  }
 },
 "nbformat": 4,
 "nbformat_minor": 4
}
