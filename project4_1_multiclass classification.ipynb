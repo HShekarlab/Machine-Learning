{
 "cells": [
  {
   "cell_type": "code",
   "execution_count": 1,
   "metadata": {
    "id": "74Jx5VbWYw6a"
   },
   "outputs": [],
   "source": [
    "import numpy as np\n",
    "import matplotlib.pyplot as plt\n",
    "from scipy.io import loadmat"
   ]
  },
  {
   "cell_type": "code",
   "execution_count": 2,
   "metadata": {
    "id": "-5O-uZRHwXbR"
   },
   "outputs": [],
   "source": [
    "data = loadmat(\"/content/project4data1.mat\")"
   ]
  },
  {
   "cell_type": "code",
   "execution_count": 3,
   "metadata": {
    "colab": {
     "base_uri": "https://localhost:8080/"
    },
    "id": "9twAP3t36jAI",
    "outputId": "93f3bf8d-abf4-421c-d408-c6ba508cd30a"
   },
   "outputs": [
    {
     "name": "stdout",
     "output_type": "stream",
     "text": [
      "<class 'dict'>\n"
     ]
    }
   ],
   "source": [
    "print(type(data))"
   ]
  },
  {
   "cell_type": "code",
   "execution_count": 4,
   "metadata": {
    "colab": {
     "base_uri": "https://localhost:8080/"
    },
    "id": "33ozIasCqayw",
    "outputId": "763efdfc-54a7-413a-cb69-9a11ccd6db46"
   },
   "outputs": [
    {
     "data": {
      "text/plain": [
       "dict_keys(['__header__', '__version__', '__globals__', 'X', 'y'])"
      ]
     },
     "execution_count": 4,
     "metadata": {},
     "output_type": "execute_result"
    }
   ],
   "source": [
    "data.keys()"
   ]
  },
  {
   "cell_type": "code",
   "execution_count": 5,
   "metadata": {
    "id": "6R6Ye28TuqJ5"
   },
   "outputs": [],
   "source": [
    "X = data[\"X\"]\n",
    "y = data[\"y\"]\n",
    "m = y.shape[0]"
   ]
  },
  {
   "cell_type": "code",
   "execution_count": 6,
   "metadata": {
    "colab": {
     "base_uri": "https://localhost:8080/"
    },
    "id": "Rk7TwcFXwjry",
    "outputId": "7ae63009-d627-490c-c6a0-bd1395e6a4b9"
   },
   "outputs": [
    {
     "data": {
      "text/plain": [
       "array([[0., 0., 0., ..., 0., 0., 0.],\n",
       "       [0., 0., 0., ..., 0., 0., 0.],\n",
       "       [0., 0., 0., ..., 0., 0., 0.],\n",
       "       ...,\n",
       "       [0., 0., 0., ..., 0., 0., 0.],\n",
       "       [0., 0., 0., ..., 0., 0., 0.],\n",
       "       [0., 0., 0., ..., 0., 0., 0.]])"
      ]
     },
     "execution_count": 6,
     "metadata": {},
     "output_type": "execute_result"
    }
   ],
   "source": [
    "X"
   ]
  },
  {
   "cell_type": "code",
   "execution_count": 7,
   "metadata": {
    "colab": {
     "base_uri": "https://localhost:8080/"
    },
    "id": "r7xaJS7uwjTR",
    "outputId": "1eff4e38-c7aa-41a1-c178-374330dcbd48"
   },
   "outputs": [
    {
     "data": {
      "text/plain": [
       "array([[0],\n",
       "       [0],\n",
       "       [0],\n",
       "       ...,\n",
       "       [9],\n",
       "       [9],\n",
       "       [9]], dtype=uint8)"
      ]
     },
     "execution_count": 7,
     "metadata": {},
     "output_type": "execute_result"
    }
   ],
   "source": [
    "y"
   ]
  },
  {
   "cell_type": "code",
   "execution_count": 8,
   "metadata": {
    "colab": {
     "base_uri": "https://localhost:8080/"
    },
    "id": "iRiKpUuxwjBO",
    "outputId": "a36ac61f-cd3e-44e2-dd2f-f8b85f3a0444"
   },
   "outputs": [
    {
     "name": "stdout",
     "output_type": "stream",
     "text": [
      "5000\n"
     ]
    }
   ],
   "source": [
    "print(m)"
   ]
  },
  {
   "cell_type": "code",
   "execution_count": 9,
   "metadata": {
    "colab": {
     "base_uri": "https://localhost:8080/"
    },
    "id": "QYan-BsUXtF7",
    "outputId": "48a158d6-8b4d-49b3-dc95-dd6b90685fa6"
   },
   "outputs": [
    {
     "name": "stdout",
     "output_type": "stream",
     "text": [
      "(5000, 400) (5000, 1)\n"
     ]
    }
   ],
   "source": [
    "print(X.shape, y.shape)"
   ]
  },
  {
   "cell_type": "code",
   "execution_count": 10,
   "metadata": {
    "colab": {
     "base_uri": "https://localhost:8080/",
     "height": 263
    },
    "id": "83NBRgD6kdih",
    "outputId": "d536fb80-45ad-4c15-ada0-a4c4fe4aefdb"
   },
   "outputs": [
    {
     "data": {
      "text/plain": [
       "Text(0.5, 1.0, '[7]')"
      ]
     },
     "execution_count": 10,
     "metadata": {},
     "output_type": "execute_result"
    },
    {
     "data": {
      "image/png": "[encoded data removed]",
      "text/plain": [
       "<Figure size 200x200 with 1 Axes>"
      ]
     },
     "metadata": {},
     "output_type": "display_data"
    }
   ],
   "source": [
    "idx = 3671\n",
    "\n",
    "plt.figure(figsize=(2, 2))\n",
    "\n",
    "plt.imshow(np.reshape(X[idx], (20, 20)).T, cmap= \"gray\")\n",
    "plt.title(str(y[idx]), fontsize = 20)"
   ]
  },
  {
   "cell_type": "code",
   "execution_count": 11,
   "metadata": {
    "colab": {
     "base_uri": "https://localhost:8080/"
    },
    "id": "qn_HRnyRm4Yv",
    "outputId": "baf0a0a9-eaba-43cf-9191-f501e9fb15d9"
   },
   "outputs": [
    {
     "name": "stdout",
     "output_type": "stream",
     "text": [
      "shape of X: (5000, 400)\n",
      "shape of X[idx]: (400,)\n",
      "shape of y: (5000, 1)\n"
     ]
    }
   ],
   "source": [
    "print(\"shape of X:\", X.shape)\n",
    "print(\"shape of X[idx]:\", X[idx].shape)\n",
    "print(\"shape of y:\", y.shape)"
   ]
  },
  {
   "cell_type": "code",
   "execution_count": 12,
   "metadata": {
    "colab": {
     "base_uri": "https://localhost:8080/"
    },
    "id": "8oQBM6czX3U2",
    "outputId": "83dea19a-b2a5-4c86-878b-c4f3fd996b83"
   },
   "outputs": [
    {
     "data": {
      "text/plain": [
       "(400, 5000)"
      ]
     },
     "execution_count": 12,
     "metadata": {},
     "output_type": "execute_result"
    }
   ],
   "source": [
    "X = np.transpose(X)\n",
    "X.shape"
   ]
  },
  {
   "cell_type": "code",
   "execution_count": 13,
   "metadata": {
    "colab": {
     "base_uri": "https://localhost:8080/"
    },
    "id": "7PYU6ii1ngSV",
    "outputId": "e8276509-d3ad-48db-ba12-4a2de833c3bf"
   },
   "outputs": [
    {
     "data": {
      "text/plain": [
       "(1, 5000)"
      ]
     },
     "execution_count": 13,
     "metadata": {},
     "output_type": "execute_result"
    }
   ],
   "source": [
    "y = np.transpose(y)\n",
    "y.shape"
   ]
  },
  {
   "cell_type": "code",
   "execution_count": 14,
   "metadata": {
    "colab": {
     "base_uri": "https://localhost:8080/"
    },
    "id": "aBnkQbn4l_lM",
    "outputId": "0a6b248e-65c1-41f9-b512-5b7059b6d996"
   },
   "outputs": [
    {
     "data": {
      "text/plain": [
       "(401, 5000)"
      ]
     },
     "execution_count": 14,
     "metadata": {},
     "output_type": "execute_result"
    }
   ],
   "source": [
    "X = np.concatenate([np.ones((1, m)), X], axis= 0)\n",
    "X.shape"
   ]
  },
  {
   "cell_type": "code",
   "execution_count": 15,
   "metadata": {
    "id": "WOdDS7Y2CDRA"
   },
   "outputs": [],
   "source": [
    "def sigmoid(x):\n",
    "  g = 1 / (1 + np.exp(-x))\n",
    "  return g"
   ]
  },
  {
   "cell_type": "code",
   "execution_count": 16,
   "metadata": {
    "id": "iRP-ukiMmXWB"
   },
   "outputs": [],
   "source": [
    "def computeCostWithReg(X, y, thetatemp, lambda_):\n",
    "  m = X.shape[1]\n",
    "  h = sigmoid(np.matmul(np.transpose(thetatemp), X))\n",
    "  cost = (-1 / m) * (np.matmul(np.log(h), np.transpose(y)) + np.matmul(np.log(1 - h), np.transpose(1 - y)))\n",
    "  costWithReg = cost + (lambda_ / (2 * m)) * np.matmul(np.transpose(thetatemp[1:]), thetatemp[1:])\n",
    "\n",
    "  return costWithReg"
   ]
  },
  {
   "cell_type": "code",
   "execution_count": 17,
   "metadata": {
    "colab": {
     "base_uri": "https://localhost:8080/"
    },
    "id": "fDICzgyjw209",
    "outputId": "caf5d040-c35b-4641-d61e-7af6c0981311"
   },
   "outputs": [
    {
     "name": "stdout",
     "output_type": "stream",
     "text": [
      "initial cost is: [[142.64968976]]\n"
     ]
    }
   ],
   "source": [
    "theta = np.zeros((X.shape[0], 1))\n",
    "\n",
    "cost = computeCostWithReg(X, y, theta, lambda_= 1)\n",
    "print(\"initial cost is:\", cost)"
   ]
  },
  {
   "cell_type": "code",
   "execution_count": 18,
   "metadata": {
    "id": "2fX2AXNTmjM4"
   },
   "outputs": [],
   "source": [
    "def gradientDescentWithReg(X, y, thetatemp, lr, epochs, lambda_):\n",
    "  m = X.shape[1]\n",
    "  J_history = []\n",
    "  for epoch in range(epochs):\n",
    "    thetatempreg = thetatemp.copy()\n",
    "    thetatempreg[0] = 0\n",
    "    h = sigmoid(np.matmul(np.transpose(thetatemp), X))\n",
    "    temp = np.transpose(h - y)\n",
    "    thetatemp = thetatemp - (lr / m) * (np.matmul(X, temp) + (lambda_) * thetatempreg)\n",
    "\n",
    "    J_history.append(computeCostWithReg(X, y, thetatemp, lambda_)[0, 0])\n",
    "\n",
    "  return thetatemp, J_history"
   ]
  },
  {
   "cell_type": "code",
   "execution_count": 19,
   "metadata": {
    "colab": {
     "base_uri": "https://localhost:8080/"
    },
    "id": "7LWt0Uf24iUT",
    "outputId": "27141a00-7b5d-4daf-decf-d4d4eb5a2998"
   },
   "outputs": [
    {
     "name": "stdout",
     "output_type": "stream",
     "text": [
      "last cost:  143.30939941423125\n"
     ]
    }
   ],
   "source": [
    "theta = np.zeros((X.shape[0], 1))\n",
    "\n",
    "epochs = 170\n",
    "lr = 0.0000005\n",
    "\n",
    "theta_new, J_history = gradientDescentWithReg(X, y, theta, lr, epochs, .1)\n",
    "\n",
    "print(\"last cost: \", J_history[-1])"
   ]
  },
  {
   "cell_type": "code",
   "execution_count": 20,
   "metadata": {
    "id": "sL4OIg2KitTc"
   },
   "outputs": [],
   "source": [
    "def one_vs_all(X, y, num_classes, lr, num_epochs, lambda_,):\n",
    "  n, m = X.shape\n",
    "  all_theta = np.zeros((n, num_classes))\n",
    "  for i in range(num_classes):\n",
    "    y_temp = np.zeros(y.shape)\n",
    "    y_temp[ y == i] = 1\n",
    "\n",
    "    initial_theta = np.zeros((X.shape[0], 1))\n",
    "    final_theta, J_hsitory = gradientDescentWithReg(X, y_temp, initial_theta, lr, num_epochs, lambda_)\n",
    "    all_theta[:, i] = final_theta[:,0]\n",
    "\n",
    "  return all_theta"
   ]
  },
  {
   "cell_type": "code",
   "execution_count": 21,
   "metadata": {
    "id": "VTY7QIbJiICV"
   },
   "outputs": [],
   "source": [
    "all_theta = one_vs_all(X, y, 10, lr= 0.01, num_epochs= 50, lambda_= 0.1)"
   ]
  },
  {
   "cell_type": "code",
   "execution_count": 22,
   "metadata": {
    "colab": {
     "base_uri": "https://localhost:8080/"
    },
    "id": "u6nZXkKWxifV",
    "outputId": "ca3dd460-441f-4be3-deef-465dae1a08eb"
   },
   "outputs": [
    {
     "name": "stdout",
     "output_type": "stream",
     "text": [
      "(401, 10)\n"
     ]
    }
   ],
   "source": [
    "print(all_theta.shape)"
   ]
  },
  {
   "cell_type": "code",
   "execution_count": 23,
   "metadata": {
    "id": "miRaK5G_yiqX"
   },
   "outputs": [],
   "source": [
    "def predict_one_vs_all(all_theta, test_image):\n",
    "  all_preds=[]\n",
    "  for i in range(all_theta.shape[1]):\n",
    "    pred = sigmoid(np.matmul(all_theta[:, i].T, test_image))\n",
    "    all_preds.append(pred)\n",
    "\n",
    "  return all_preds"
   ]
  },
  {
   "cell_type": "code",
   "execution_count": 24,
   "metadata": {
    "colab": {
     "base_uri": "https://localhost:8080/"
    },
    "id": "GskChl18zmpE",
    "outputId": "7ae56960-5da2-47a2-95fc-167d40bbaf4a"
   },
   "outputs": [
    {
     "name": "stdout",
     "output_type": "stream",
     "text": [
      "[0.2938407861387606, 0.22420205134079776, 0.25491101857543474, 0.23389374554256803, 0.21411865082403125, 0.25118207767683753, 0.2695544983535018, 0.21778076859648882, 0.23104483137883605, 0.22068418791152616]\n"
     ]
    }
   ],
   "source": [
    "all_preds = predict_one_vs_all(all_theta, X[:, 1025])\n",
    "print(all_preds)"
   ]
  },
  {
   "cell_type": "code",
   "execution_count": 25,
   "metadata": {
    "colab": {
     "base_uri": "https://localhost:8080/"
    },
    "id": "gQZOLyq_2sOC",
    "outputId": "b6242643-6d2a-4c64-a781-193762ce4525"
   },
   "outputs": [
    {
     "name": "stdout",
     "output_type": "stream",
     "text": [
      "0\n"
     ]
    }
   ],
   "source": [
    "digit = np.argmax(all_preds)\n",
    "print(digit)"
   ]
  },
  {
   "cell_type": "code",
   "execution_count": 26,
   "metadata": {
    "colab": {
     "base_uri": "https://localhost:8080/",
     "height": 263
    },
    "id": "JNP4cwkj1r-a",
    "outputId": "99be5164-87e4-4456-a027-fad7889cbfc3"
   },
   "outputs": [
    {
     "data": {
      "text/plain": [
       "Text(0.5, 1.0, '2')"
      ]
     },
     "execution_count": 26,
     "metadata": {},
     "output_type": "execute_result"
    },
    {
     "data": {
      "image/png": "[encoded data removed]",
      "text/plain": [
       "<Figure size 200x200 with 1 Axes>"
      ]
     },
     "metadata": {},
     "output_type": "display_data"
    }
   ],
   "source": [
    "idx = 1025\n",
    "\n",
    "plt.figure(figsize= (2,2))\n",
    "plt.imshow(np.reshape(X[1:, idx], (20, 20)).T, cmap= \"gray\")\n",
    "plt.title(str(y[0,idx]), fontsize = 20)"
   ]
  }
 ],
 "metadata": {
  "colab": {
   "name": "ML-course-project4-1-multiclass classification.ipynb",
   "provenance": []
  },
  "kernelspec": {
   "display_name": "Python 3 (ipykernel)",
   "language": "python",
   "name": "python3"
  },
  "language_info": {
   "codemirror_mode": {
    "name": "ipython",
    "version": 3
   },
   "file_extension": ".py",
   "mimetype": "text/x-python",
   "name": "python",
   "nbconvert_exporter": "python",
   "pygments_lexer": "ipython3",
   "version": "3.10.7"
  }
 },
 "nbformat": 4,
 "nbformat_minor": 4
}
