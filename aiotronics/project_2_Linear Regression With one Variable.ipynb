{
 "cells": [
  {
   "cell_type": "code",
   "execution_count": 1,
   "id": "c0b89579-0371-4089-aaaa-7452922e7e03",
   "metadata": {},
   "outputs": [],
   "source": [
    "import numpy as np\n",
    "import pandas as pd\n",
    "import matplotlib.pyplot as plt\n",
    "%matplotlib inline"
   ]
  },
  {
   "cell_type": "code",
   "execution_count": 2,
   "id": "537c9fe9-d756-4ad9-88b3-39b5564d69d1",
   "metadata": {},
   "outputs": [],
   "source": [
    "data = pd.read_csv(\"project2-data1.csv\")"
   ]
  },
  {
   "cell_type": "code",
   "execution_count": 3,
   "id": "72efdeef-d4a4-45f0-9e3b-e443fd2e5b06",
   "metadata": {},
   "outputs": [
    {
     "data": {
      "text/html": [
       "<div>\n",
       "<style scoped>\n",
       "    .dataframe tbody tr th:only-of-type {\n",
       "        vertical-align: middle;\n",
       "    }\n",
       "\n",
       "    .dataframe tbody tr th {\n",
       "        vertical-align: top;\n",
       "    }\n",
       "\n",
       "    .dataframe thead th {\n",
       "        text-align: right;\n",
       "    }\n",
       "</style>\n",
       "<table border=\"1\" class=\"dataframe\">\n",
       "  <thead>\n",
       "    <tr style=\"text-align: right;\">\n",
       "      <th></th>\n",
       "      <th>population(10K)</th>\n",
       "      <th>profit(10K$)</th>\n",
       "    </tr>\n",
       "  </thead>\n",
       "  <tbody>\n",
       "    <tr>\n",
       "      <th>0</th>\n",
       "      <td>6.1101</td>\n",
       "      <td>17.5920</td>\n",
       "    </tr>\n",
       "    <tr>\n",
       "      <th>1</th>\n",
       "      <td>5.5277</td>\n",
       "      <td>9.1302</td>\n",
       "    </tr>\n",
       "    <tr>\n",
       "      <th>2</th>\n",
       "      <td>8.5186</td>\n",
       "      <td>13.6620</td>\n",
       "    </tr>\n",
       "    <tr>\n",
       "      <th>3</th>\n",
       "      <td>7.0032</td>\n",
       "      <td>11.8540</td>\n",
       "    </tr>\n",
       "    <tr>\n",
       "      <th>4</th>\n",
       "      <td>5.8598</td>\n",
       "      <td>6.8233</td>\n",
       "    </tr>\n",
       "    <tr>\n",
       "      <th>5</th>\n",
       "      <td>8.3829</td>\n",
       "      <td>11.8860</td>\n",
       "    </tr>\n",
       "    <tr>\n",
       "      <th>6</th>\n",
       "      <td>7.4764</td>\n",
       "      <td>4.3483</td>\n",
       "    </tr>\n",
       "    <tr>\n",
       "      <th>7</th>\n",
       "      <td>8.5781</td>\n",
       "      <td>12.0000</td>\n",
       "    </tr>\n",
       "    <tr>\n",
       "      <th>8</th>\n",
       "      <td>6.4862</td>\n",
       "      <td>6.5987</td>\n",
       "    </tr>\n",
       "    <tr>\n",
       "      <th>9</th>\n",
       "      <td>5.0546</td>\n",
       "      <td>3.8166</td>\n",
       "    </tr>\n",
       "  </tbody>\n",
       "</table>\n",
       "</div>"
      ],
      "text/plain": [
       "   population(10K)  profit(10K$)\n",
       "0           6.1101       17.5920\n",
       "1           5.5277        9.1302\n",
       "2           8.5186       13.6620\n",
       "3           7.0032       11.8540\n",
       "4           5.8598        6.8233\n",
       "5           8.3829       11.8860\n",
       "6           7.4764        4.3483\n",
       "7           8.5781       12.0000\n",
       "8           6.4862        6.5987\n",
       "9           5.0546        3.8166"
      ]
     },
     "execution_count": 3,
     "metadata": {},
     "output_type": "execute_result"
    }
   ],
   "source": [
    "data.head(10)"
   ]
  },
  {
   "cell_type": "code",
   "execution_count": 4,
   "id": "c0f0506a-4547-4068-94c0-feb7808c663d",
   "metadata": {},
   "outputs": [],
   "source": [
    "X = data.values[:, 0]\n",
    "y = data.values[:, 1]"
   ]
  },
  {
   "cell_type": "code",
   "execution_count": 5,
   "id": "2a47d15d-cca7-41f3-995b-b673b89ec852",
   "metadata": {},
   "outputs": [
    {
     "data": {
      "text/plain": [
       "array([ 6.1101,  5.5277,  8.5186,  7.0032,  5.8598,  8.3829,  7.4764,\n",
       "        8.5781,  6.4862,  5.0546,  5.7107, 14.164 ,  5.734 ,  8.4084,\n",
       "        5.6407,  5.3794,  6.3654,  5.1301,  6.4296,  7.0708,  6.1891,\n",
       "       20.27  ,  5.4901,  6.3261,  5.5649, 18.945 , 12.828 , 10.957 ,\n",
       "       13.176 , 22.203 ,  5.2524,  6.5894,  9.2482,  5.8918,  8.2111,\n",
       "        7.9334,  8.0959,  5.6063, 12.836 ,  6.3534,  5.4069,  6.8825,\n",
       "       11.708 ,  5.7737,  7.8247,  7.0931,  5.0702,  5.8014, 11.7   ,\n",
       "        5.5416,  7.5402,  5.3077,  7.4239,  7.6031,  6.3328,  6.3589,\n",
       "        6.2742,  5.6397,  9.3102,  9.4536,  8.8254,  5.1793, 21.279 ,\n",
       "       14.908 , 18.959 ,  7.2182,  8.2951, 10.236 ,  5.4994, 20.341 ,\n",
       "       10.136 ,  7.3345,  6.0062,  7.2259,  5.0269,  6.5479,  7.5386,\n",
       "        5.0365, 10.274 ,  5.1077,  5.7292,  5.1884,  6.3557,  9.7687,\n",
       "        6.5159,  8.5172,  9.1802,  6.002 ,  5.5204,  5.0594,  5.7077,\n",
       "        7.6366,  5.8707,  5.3054,  8.2934, 13.394 ,  5.4369])"
      ]
     },
     "execution_count": 5,
     "metadata": {},
     "output_type": "execute_result"
    }
   ],
   "source": [
    "X"
   ]
  },
  {
   "cell_type": "code",
   "execution_count": 6,
   "id": "31cb2493-9b5d-431d-9d53-f2890eeb0dc0",
   "metadata": {},
   "outputs": [
    {
     "data": {
      "text/plain": [
       "array([17.592  ,  9.1302 , 13.662  , 11.854  ,  6.8233 , 11.886  ,\n",
       "        4.3483 , 12.     ,  6.5987 ,  3.8166 ,  3.2522 , 15.505  ,\n",
       "        3.1551 ,  7.2258 ,  0.71618,  3.5129 ,  5.3048 ,  0.56077,\n",
       "        3.6518 ,  5.3893 ,  3.1386 , 21.767  ,  4.263  ,  5.1875 ,\n",
       "        3.0825 , 22.638  , 13.501  ,  7.0467 , 14.692  , 24.147  ,\n",
       "       -1.22   ,  5.9966 , 12.134  ,  1.8495 ,  6.5426 ,  4.5623 ,\n",
       "        4.1164 ,  3.3928 , 10.117  ,  5.4974 ,  0.55657,  3.9115 ,\n",
       "        5.3854 ,  2.4406 ,  6.7318 ,  1.0463 ,  5.1337 ,  1.844  ,\n",
       "        8.0043 ,  1.0179 ,  6.7504 ,  1.8396 ,  4.2885 ,  4.9981 ,\n",
       "        1.4233 , -1.4211 ,  2.4756 ,  4.6042 ,  3.9624 ,  5.4141 ,\n",
       "        5.1694 , -0.74279, 17.929  , 12.054  , 17.054  ,  4.8852 ,\n",
       "        5.7442 ,  7.7754 ,  1.0173 , 20.992  ,  6.6799 ,  4.0259 ,\n",
       "        1.2784 ,  3.3411 , -2.6807 ,  0.29678,  3.8845 ,  5.7014 ,\n",
       "        6.7526 ,  2.0576 ,  0.47953,  0.20421,  0.67861,  7.5435 ,\n",
       "        5.3436 ,  4.2415 ,  6.7981 ,  0.92695,  0.152  ,  2.8214 ,\n",
       "        1.8451 ,  4.2959 ,  7.2029 ,  1.9869 ,  0.14454,  9.0551 ,\n",
       "        0.61705])"
      ]
     },
     "execution_count": 6,
     "metadata": {},
     "output_type": "execute_result"
    }
   ],
   "source": [
    "y"
   ]
  },
  {
   "cell_type": "code",
   "execution_count": 7,
   "id": "5cb6c14c-7cdb-4e59-9dc5-ac72a00a3fc0",
   "metadata": {},
   "outputs": [
    {
     "data": {
      "text/plain": [
       "97"
      ]
     },
     "execution_count": 7,
     "metadata": {},
     "output_type": "execute_result"
    }
   ],
   "source": [
    "m = y.shape[0]\n",
    "m"
   ]
  },
  {
   "cell_type": "code",
   "execution_count": 8,
   "id": "1df7e5f7-b5e3-4737-b546-f668c26b84e1",
   "metadata": {},
   "outputs": [],
   "source": [
    "def plot_Data(x, y):\n",
    "    plt.figure(figsize= (6, 4))\n",
    "    plt.plot(x, y, \"ro\", ms= 7, mec= \"k\")\n",
    "    plt.xlabel('Population')\n",
    "    plt.ylabel('Profit')"
   ]
  },
  {
   "cell_type": "code",
   "execution_count": 9,
   "id": "16562623-2fb4-4c73-b0c0-e7b4db68a6eb",
   "metadata": {},
   "outputs": [
    {
     "data": {
      "image/png": "[encoded data removed]",
      "text/plain": [
       "<Figure size 600x400 with 1 Axes>"
      ]
     },
     "metadata": {},
     "output_type": "display_data"
    }
   ],
   "source": [
    "plot_Data(X, y)"
   ]
  },
  {
   "cell_type": "code",
   "execution_count": 10,
   "id": "5a67ee8e-4f00-468f-9321-dfc82a6f831d",
   "metadata": {},
   "outputs": [
    {
     "name": "stdout",
     "output_type": "stream",
     "text": [
      "Shape of X is : (97,)\n",
      "Shape of y is : (97,)\n"
     ]
    }
   ],
   "source": [
    "print(f\"Shape of X is : {X.shape}\")\n",
    "print(f\"Shape of y is : {y.shape}\")"
   ]
  },
  {
   "cell_type": "code",
   "execution_count": 11,
   "id": "c9c6fe72-5ead-4546-92e0-d60e55886175",
   "metadata": {},
   "outputs": [
    {
     "data": {
      "text/plain": [
       "(1, 97)"
      ]
     },
     "execution_count": 11,
     "metadata": {},
     "output_type": "execute_result"
    }
   ],
   "source": [
    "X = np.expand_dims(X, 1)\n",
    "X = np.transpose(X)\n",
    "X.shape"
   ]
  },
  {
   "cell_type": "code",
   "execution_count": 12,
   "id": "caad1430-597c-472b-be15-13adac61da5c",
   "metadata": {},
   "outputs": [
    {
     "data": {
      "text/plain": [
       "(1, 97)"
      ]
     },
     "execution_count": 12,
     "metadata": {},
     "output_type": "execute_result"
    }
   ],
   "source": [
    "y = np.expand_dims(y, 1)\n",
    "y = np.transpose(y)\n",
    "y.shape"
   ]
  },
  {
   "cell_type": "code",
   "execution_count": 13,
   "id": "f5935068-fa9e-4719-b868-40ef18acff25",
   "metadata": {},
   "outputs": [
    {
     "data": {
      "text/plain": [
       "(2, 97)"
      ]
     },
     "execution_count": 13,
     "metadata": {},
     "output_type": "execute_result"
    }
   ],
   "source": [
    "X = np.concatenate([np.ones((1, m)), X], axis= 0)\n",
    "X.shape"
   ]
  },
  {
   "cell_type": "code",
   "execution_count": 14,
   "id": "5f22c7dc-f59d-44f7-af84-dbe87bdbaf81",
   "metadata": {},
   "outputs": [],
   "source": [
    "def Cost(X, Y, theta_temp):\n",
    "  m = X.shape[1]\n",
    "  temp = np.matmul(np.transpose(theta_temp), X) - Y\n",
    "  cost = np.matmul(temp, np.transpose(temp)) / (2 * m)\n",
    "  return cost"
   ]
  },
  {
   "cell_type": "code",
   "execution_count": 15,
   "id": "877b2750-1057-4570-879a-28f529d78a5f",
   "metadata": {},
   "outputs": [
    {
     "name": "stdout",
     "output_type": "stream",
     "text": [
      "initial cost is : [[32.07273388]]\n"
     ]
    }
   ],
   "source": [
    "theta = np.array([[0], [0]])\n",
    "cost = Cost(X, y, theta)\n",
    "print(f\"initial cost is : {cost}\")"
   ]
  },
  {
   "cell_type": "code",
   "execution_count": 16,
   "id": "371b64bd-65ad-44f8-b759-5442676d6f96",
   "metadata": {},
   "outputs": [],
   "source": [
    "def Gradient_Descent(X, Y, thetatemp, lr, epochs):\n",
    "  m = X.shape[1]\n",
    "  cost_history = []\n",
    "  for epoch in range(epochs):\n",
    "    temp = np.transpose(np.matmul(np.transpose(thetatemp), X) - Y)\n",
    "    thetatemp = thetatemp - (lr / m) * np.matmul(X, temp)\n",
    "    cost_history.append(Cost(X, Y, thetatemp)[0, 0])\n",
    "\n",
    "  return thetatemp, cost_history  "
   ]
  },
  {
   "cell_type": "code",
   "execution_count": 17,
   "id": "639de2c6-c1cc-4835-b960-afb01b2ef81f",
   "metadata": {},
   "outputs": [
    {
     "data": {
      "text/plain": [
       "array([[-3.63029144],\n",
       "       [ 1.16636235]])"
      ]
     },
     "execution_count": 17,
     "metadata": {},
     "output_type": "execute_result"
    }
   ],
   "source": [
    "theta = np.array([[0], [0]])\n",
    "epochs = 1500\n",
    "lr = 0.01\n",
    "thetanew, cost_history = Gradient_Descent(X, y, theta, lr, epochs)\n",
    "thetanew"
   ]
  },
  {
   "cell_type": "code",
   "execution_count": 18,
   "id": "e781f3d2-d996-42c9-8067-fcc7d6b2bf50",
   "metadata": {},
   "outputs": [
    {
     "data": {
      "text/plain": [
       "[<matplotlib.lines.Line2D at 0x216f472c400>]"
      ]
     },
     "execution_count": 18,
     "metadata": {},
     "output_type": "execute_result"
    },
    {
     "data": {
      "image/png": "[encoded data removed]",
      "text/plain": [
       "<Figure size 600x400 with 1 Axes>"
      ]
     },
     "metadata": {},
     "output_type": "display_data"
    }
   ],
   "source": [
    "plot_Data(X[1, :], y[0, :])\n",
    "plt.plot(X[1, :], np.matmul(np.transpose(thetanew), X)[0,:])"
   ]
  },
  {
   "cell_type": "code",
   "execution_count": 19,
   "id": "e70170e5-1b30-4250-8d08-d25289998fd1",
   "metadata": {},
   "outputs": [
    {
     "name": "stdout",
     "output_type": "stream",
     "text": [
      "profit(10K$):  [[4.53424501]]\n",
      "profit($):  [[45342.45012945]]\n"
     ]
    }
   ],
   "source": [
    "profit = np.matmul(np.transpose(thetanew), np.array([[1], [7]]))\n",
    "print(\"profit(10K$): \", profit)\n",
    "print(\"profit($): \", profit* 10000)"
   ]
  },
  {
   "cell_type": "code",
   "execution_count": 20,
   "id": "2528a0d2-e0d1-4328-9b18-169dec337ff4",
   "metadata": {},
   "outputs": [
    {
     "data": {
      "text/plain": [
       "array([4.53424501])"
      ]
     },
     "execution_count": 20,
     "metadata": {},
     "output_type": "execute_result"
    }
   ],
   "source": [
    "thetanew[0] *1 + thetanew[1] * 7"
   ]
  },
  {
   "cell_type": "code",
   "execution_count": 21,
   "id": "a9759101-280d-426a-a08c-09b3e675b56e",
   "metadata": {},
   "outputs": [
    {
     "data": {
      "text/plain": [
       "[<matplotlib.lines.Line2D at 0x216f478ead0>]"
      ]
     },
     "execution_count": 21,
     "metadata": {},
     "output_type": "execute_result"
    },
    {
     "data": {
      "image/png": "[encoded data removed]",
      "text/plain": [
       "<Figure size 600x400 with 1 Axes>"
      ]
     },
     "metadata": {},
     "output_type": "display_data"
    }
   ],
   "source": [
    "plt.figure(figsize= (6, 4))\n",
    "plt.plot(cost_history)"
   ]
  }
 ],
 "metadata": {
  "kernelspec": {
   "display_name": "Python 3 (ipykernel)",
   "language": "python",
   "name": "python3"
  },
  "language_info": {
   "codemirror_mode": {
    "name": "ipython",
    "version": 3
   },
   "file_extension": ".py",
   "mimetype": "text/x-python",
   "name": "python",
   "nbconvert_exporter": "python",
   "pygments_lexer": "ipython3",
   "version": "3.10.7"
  }
 },
 "nbformat": 4,
 "nbformat_minor": 5
}
